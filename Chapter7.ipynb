{
 "cells": [
  {
   "cell_type": "code",
   "execution_count": 79,
   "metadata": {},
   "outputs": [],
   "source": [
    "from sklearn.ensemble import RandomForestClassifier\n",
    "from sklearn.ensemble import VotingClassifier\n",
    "from sklearn.linear_model import LogisticRegression\n",
    "from sklearn.svm import SVC\n",
    "\n",
    "import numpy as np\n",
    "from sklearn.preprocessing import StandardScaler\n",
    "from sklearn.pipeline import Pipeline\n",
    "from sklearn import datasets"
   ]
  },
  {
   "cell_type": "code",
   "execution_count": 43,
   "metadata": {},
   "outputs": [],
   "source": [
    "log_clf = LogisticRegression()\n",
    "rnd_clf = RandomForestClassifier()\n",
    "svm_clf = SVC(probability=True)\n",
    "\n"
   ]
  },
  {
   "cell_type": "code",
   "execution_count": 44,
   "metadata": {},
   "outputs": [],
   "source": [
    "voting_clf = VotingClassifier(\n",
    "        estimators=[('lr', log_clf), ('rf', rnd_clf), ('svm', svm_clf)],\n",
    "        voting = 'soft',\n",
    "\n",
    "        )\n"
   ]
  },
  {
   "cell_type": "code",
   "execution_count": 80,
   "metadata": {},
   "outputs": [
    {
     "data": {
      "text/plain": [
       "array([[-1.34022653e+00, -1.31544430e+00],\n",
       "       [-1.34022653e+00, -1.31544430e+00],\n",
       "       [-1.39706395e+00, -1.31544430e+00],\n",
       "       [-1.28338910e+00, -1.31544430e+00],\n",
       "       [-1.34022653e+00, -1.31544430e+00],\n",
       "       [-1.16971425e+00, -1.05217993e+00],\n",
       "       [-1.34022653e+00, -1.18381211e+00],\n",
       "       [-1.28338910e+00, -1.31544430e+00],\n",
       "       [-1.34022653e+00, -1.31544430e+00],\n",
       "       [-1.28338910e+00, -1.44707648e+00],\n",
       "       [-1.28338910e+00, -1.31544430e+00],\n",
       "       [-1.22655167e+00, -1.31544430e+00],\n",
       "       [-1.34022653e+00, -1.44707648e+00],\n",
       "       [-1.51073881e+00, -1.44707648e+00],\n",
       "       [-1.45390138e+00, -1.31544430e+00],\n",
       "       [-1.28338910e+00, -1.05217993e+00],\n",
       "       [-1.39706395e+00, -1.05217993e+00],\n",
       "       [-1.34022653e+00, -1.18381211e+00],\n",
       "       [-1.16971425e+00, -1.18381211e+00],\n",
       "       [-1.28338910e+00, -1.18381211e+00],\n",
       "       [-1.16971425e+00, -1.31544430e+00],\n",
       "       [-1.28338910e+00, -1.05217993e+00],\n",
       "       [-1.56757623e+00, -1.31544430e+00],\n",
       "       [-1.16971425e+00, -9.20547742e-01],\n",
       "       [-1.05603939e+00, -1.31544430e+00],\n",
       "       [-1.22655167e+00, -1.31544430e+00],\n",
       "       [-1.22655167e+00, -1.05217993e+00],\n",
       "       [-1.28338910e+00, -1.31544430e+00],\n",
       "       [-1.34022653e+00, -1.31544430e+00],\n",
       "       [-1.22655167e+00, -1.31544430e+00],\n",
       "       [-1.22655167e+00, -1.31544430e+00],\n",
       "       [-1.28338910e+00, -1.05217993e+00],\n",
       "       [-1.28338910e+00, -1.44707648e+00],\n",
       "       [-1.34022653e+00, -1.31544430e+00],\n",
       "       [-1.28338910e+00, -1.31544430e+00],\n",
       "       [-1.45390138e+00, -1.31544430e+00],\n",
       "       [-1.39706395e+00, -1.31544430e+00],\n",
       "       [-1.34022653e+00, -1.44707648e+00],\n",
       "       [-1.39706395e+00, -1.31544430e+00],\n",
       "       [-1.28338910e+00, -1.31544430e+00],\n",
       "       [-1.39706395e+00, -1.18381211e+00],\n",
       "       [-1.39706395e+00, -1.18381211e+00],\n",
       "       [-1.39706395e+00, -1.31544430e+00],\n",
       "       [-1.22655167e+00, -7.88915558e-01],\n",
       "       [-1.05603939e+00, -1.05217993e+00],\n",
       "       [-1.34022653e+00, -1.18381211e+00],\n",
       "       [-1.22655167e+00, -1.31544430e+00],\n",
       "       [-1.34022653e+00, -1.31544430e+00],\n",
       "       [-1.28338910e+00, -1.31544430e+00],\n",
       "       [-1.34022653e+00, -1.31544430e+00],\n",
       "       [ 5.35408562e-01,  2.64141916e-01],\n",
       "       [ 4.21733708e-01,  3.95774101e-01],\n",
       "       [ 6.49083415e-01,  3.95774101e-01],\n",
       "       [ 1.37546573e-01,  1.32509732e-01],\n",
       "       [ 4.78571135e-01,  3.95774101e-01],\n",
       "       [ 4.21733708e-01,  1.32509732e-01],\n",
       "       [ 5.35408562e-01,  5.27406285e-01],\n",
       "       [-2.60315415e-01, -2.62386821e-01],\n",
       "       [ 4.78571135e-01,  1.32509732e-01],\n",
       "       [ 8.07091462e-02,  2.64141916e-01],\n",
       "       [-1.46640561e-01, -2.62386821e-01],\n",
       "       [ 2.51221427e-01,  3.95774101e-01],\n",
       "       [ 1.37546573e-01, -2.62386821e-01],\n",
       "       [ 5.35408562e-01,  2.64141916e-01],\n",
       "       [-8.98031345e-02,  1.32509732e-01],\n",
       "       [ 3.64896281e-01,  2.64141916e-01],\n",
       "       [ 4.21733708e-01,  3.95774101e-01],\n",
       "       [ 1.94384000e-01, -2.62386821e-01],\n",
       "       [ 4.21733708e-01,  3.95774101e-01],\n",
       "       [ 8.07091462e-02, -1.30754636e-01],\n",
       "       [ 5.92245988e-01,  7.90670654e-01],\n",
       "       [ 1.37546573e-01,  1.32509732e-01],\n",
       "       [ 6.49083415e-01,  3.95774101e-01],\n",
       "       [ 5.35408562e-01,  8.77547895e-04],\n",
       "       [ 3.08058854e-01,  1.32509732e-01],\n",
       "       [ 3.64896281e-01,  2.64141916e-01],\n",
       "       [ 5.92245988e-01,  2.64141916e-01],\n",
       "       [ 7.05920842e-01,  6.59038469e-01],\n",
       "       [ 4.21733708e-01,  3.95774101e-01],\n",
       "       [-1.46640561e-01, -2.62386821e-01],\n",
       "       [ 2.38717193e-02, -1.30754636e-01],\n",
       "       [-3.29657076e-02, -2.62386821e-01],\n",
       "       [ 8.07091462e-02,  8.77547895e-04],\n",
       "       [ 7.62758269e-01,  5.27406285e-01],\n",
       "       [ 4.21733708e-01,  3.95774101e-01],\n",
       "       [ 4.21733708e-01,  5.27406285e-01],\n",
       "       [ 5.35408562e-01,  3.95774101e-01],\n",
       "       [ 3.64896281e-01,  1.32509732e-01],\n",
       "       [ 1.94384000e-01,  1.32509732e-01],\n",
       "       [ 1.37546573e-01,  1.32509732e-01],\n",
       "       [ 3.64896281e-01,  8.77547895e-04],\n",
       "       [ 4.78571135e-01,  2.64141916e-01],\n",
       "       [ 1.37546573e-01,  8.77547895e-04],\n",
       "       [-2.60315415e-01, -2.62386821e-01],\n",
       "       [ 2.51221427e-01,  1.32509732e-01],\n",
       "       [ 2.51221427e-01,  8.77547895e-04],\n",
       "       [ 2.51221427e-01,  1.32509732e-01],\n",
       "       [ 3.08058854e-01,  1.32509732e-01],\n",
       "       [-4.30827696e-01, -1.30754636e-01],\n",
       "       [ 1.94384000e-01,  1.32509732e-01],\n",
       "       [ 1.27429511e+00,  1.71209594e+00],\n",
       "       [ 7.62758269e-01,  9.22302838e-01],\n",
       "       [ 1.21745768e+00,  1.18556721e+00],\n",
       "       [ 1.04694540e+00,  7.90670654e-01],\n",
       "       [ 1.16062026e+00,  1.31719939e+00],\n",
       "       [ 1.61531967e+00,  1.18556721e+00],\n",
       "       [ 4.21733708e-01,  6.59038469e-01],\n",
       "       [ 1.44480739e+00,  7.90670654e-01],\n",
       "       [ 1.16062026e+00,  7.90670654e-01],\n",
       "       [ 1.33113254e+00,  1.71209594e+00],\n",
       "       [ 7.62758269e-01,  1.05393502e+00],\n",
       "       [ 8.76433123e-01,  9.22302838e-01],\n",
       "       [ 9.90107977e-01,  1.18556721e+00],\n",
       "       [ 7.05920842e-01,  1.05393502e+00],\n",
       "       [ 7.62758269e-01,  1.58046376e+00],\n",
       "       [ 8.76433123e-01,  1.44883158e+00],\n",
       "       [ 9.90107977e-01,  7.90670654e-01],\n",
       "       [ 1.67215710e+00,  1.31719939e+00],\n",
       "       [ 1.78583195e+00,  1.44883158e+00],\n",
       "       [ 7.05920842e-01,  3.95774101e-01],\n",
       "       [ 1.10378283e+00,  1.44883158e+00],\n",
       "       [ 6.49083415e-01,  1.05393502e+00],\n",
       "       [ 1.67215710e+00,  1.05393502e+00],\n",
       "       [ 6.49083415e-01,  7.90670654e-01],\n",
       "       [ 1.10378283e+00,  1.18556721e+00],\n",
       "       [ 1.27429511e+00,  7.90670654e-01],\n",
       "       [ 5.92245988e-01,  7.90670654e-01],\n",
       "       [ 6.49083415e-01,  7.90670654e-01],\n",
       "       [ 1.04694540e+00,  1.18556721e+00],\n",
       "       [ 1.16062026e+00,  5.27406285e-01],\n",
       "       [ 1.33113254e+00,  9.22302838e-01],\n",
       "       [ 1.50164482e+00,  1.05393502e+00],\n",
       "       [ 1.04694540e+00,  1.31719939e+00],\n",
       "       [ 7.62758269e-01,  3.95774101e-01],\n",
       "       [ 1.04694540e+00,  2.64141916e-01],\n",
       "       [ 1.33113254e+00,  1.44883158e+00],\n",
       "       [ 1.04694540e+00,  1.58046376e+00],\n",
       "       [ 9.90107977e-01,  7.90670654e-01],\n",
       "       [ 5.92245988e-01,  7.90670654e-01],\n",
       "       [ 9.33270550e-01,  1.18556721e+00],\n",
       "       [ 1.04694540e+00,  1.58046376e+00],\n",
       "       [ 7.62758269e-01,  1.44883158e+00],\n",
       "       [ 7.62758269e-01,  9.22302838e-01],\n",
       "       [ 1.21745768e+00,  1.44883158e+00],\n",
       "       [ 1.10378283e+00,  1.71209594e+00],\n",
       "       [ 8.19595696e-01,  1.44883158e+00],\n",
       "       [ 7.05920842e-01,  9.22302838e-01],\n",
       "       [ 8.19595696e-01,  1.05393502e+00],\n",
       "       [ 9.33270550e-01,  1.44883158e+00],\n",
       "       [ 7.62758269e-01,  7.90670654e-01]])"
      ]
     },
     "execution_count": 80,
     "metadata": {},
     "output_type": "execute_result"
    }
   ],
   "source": [
    "iris = datasets.load_iris()\n",
    "X = iris[\"data\"][:, (2, 3)] # petal length, petal width\n",
    "y = (iris[\"target\"] == 2).astype(np.float64) # Iris-Virginica\n",
    "scaler = StandardScaler()\n",
    "scaler.fit_transform(X, y)\n"
   ]
  },
  {
   "cell_type": "code",
   "execution_count": 46,
   "metadata": {},
   "outputs": [
    {
     "name": "stderr",
     "output_type": "stream",
     "text": [
      "C:\\Users\\alex_\\Anaconda3\\lib\\site-packages\\sklearn\\linear_model\\logistic.py:432: FutureWarning: Default solver will be changed to 'lbfgs' in 0.22. Specify a solver to silence this warning.\n",
      "  FutureWarning)\n",
      "C:\\Users\\alex_\\Anaconda3\\lib\\site-packages\\sklearn\\ensemble\\forest.py:245: FutureWarning: The default value of n_estimators will change from 10 in version 0.20 to 100 in 0.22.\n",
      "  \"10 in version 0.20 to 100 in 0.22.\", FutureWarning)\n",
      "C:\\Users\\alex_\\Anaconda3\\lib\\site-packages\\sklearn\\svm\\base.py:193: FutureWarning: The default value of gamma will change from 'auto' to 'scale' in version 0.22 to account better for unscaled features. Set gamma explicitly to 'auto' or 'scale' to avoid this warning.\n",
      "  \"avoid this warning.\", FutureWarning)\n"
     ]
    },
    {
     "data": {
      "text/plain": [
       "VotingClassifier(estimators=[('lr',\n",
       "                              LogisticRegression(C=1.0, class_weight=None,\n",
       "                                                 dual=False, fit_intercept=True,\n",
       "                                                 intercept_scaling=1,\n",
       "                                                 l1_ratio=None, max_iter=100,\n",
       "                                                 multi_class='warn',\n",
       "                                                 n_jobs=None, penalty='l2',\n",
       "                                                 random_state=None,\n",
       "                                                 solver='warn', tol=0.0001,\n",
       "                                                 verbose=0, warm_start=False)),\n",
       "                             ('rf',\n",
       "                              RandomForestClassifier(bootstrap=True,\n",
       "                                                     class_weight=None,\n",
       "                                                     criterion='gini',...\n",
       "                                                     oob_score=False,\n",
       "                                                     random_state=None,\n",
       "                                                     verbose=0,\n",
       "                                                     warm_start=False)),\n",
       "                             ('svm',\n",
       "                              SVC(C=1.0, cache_size=200, class_weight=None,\n",
       "                                  coef0=0.0, decision_function_shape='ovr',\n",
       "                                  degree=3, gamma='auto_deprecated',\n",
       "                                  kernel='rbf', max_iter=-1, probability=True,\n",
       "                                  random_state=None, shrinking=True, tol=0.001,\n",
       "                                  verbose=False))],\n",
       "                 flatten_transform=True, n_jobs=None, voting='soft',\n",
       "                 weights=None)"
      ]
     },
     "execution_count": 46,
     "metadata": {},
     "output_type": "execute_result"
    }
   ],
   "source": [
    "voting_clf.fit(X,y)"
   ]
  },
  {
   "cell_type": "code",
   "execution_count": 47,
   "metadata": {},
   "outputs": [
    {
     "data": {
      "text/plain": [
       "array([[0.18493987, 0.81506013]])"
      ]
     },
     "execution_count": 47,
     "metadata": {},
     "output_type": "execute_result"
    }
   ],
   "source": [
    "voting_clf.predict_proba([[5.5,1.7]])"
   ]
  },
  {
   "cell_type": "code",
   "execution_count": 81,
   "metadata": {},
   "outputs": [],
   "source": [
    "from sklearn.ensemble import BaggingClassifier\n",
    "from sklearn.tree import DecisionTreeClassifier\n",
    "\n",
    "from sklearn.model_selection import train_test_split\n"
   ]
  },
  {
   "cell_type": "code",
   "execution_count": 82,
   "metadata": {},
   "outputs": [],
   "source": [
    "X_train, X_test = train_test_split(X, test_size=0.2, random_state=42)#\n",
    "y_train, y_test = train_test_split(y, test_size=0.2, random_state=42)#"
   ]
  },
  {
   "cell_type": "code",
   "execution_count": 56,
   "metadata": {},
   "outputs": [],
   "source": [
    "bag_clf = BaggingClassifier(\n",
    "DecisionTreeClassifier(), n_estimators=500,#how many classifiers,\n",
    "    max_samples=100, bootstrap=True#Bagging, n_jobs=-1#how many cores\n",
    "    )\n",
    "bag_clf.fit(X_train, y_train)\n",
    "y_pred = bag_clf.predict(X_test)\n"
   ]
  },
  {
   "cell_type": "code",
   "execution_count": 76,
   "metadata": {},
   "outputs": [
    {
     "data": {
      "text/plain": [
       "0.0"
      ]
     },
     "execution_count": 76,
     "metadata": {},
     "output_type": "execute_result"
    }
   ],
   "source": [
    "from sklearn.metrics import mean_squared_error\n",
    "\n",
    "mse = mean_squared_error(y_pred,y_test)\n",
    "rmse = np.sqrt(mse)\n",
    "rmse"
   ]
  },
  {
   "cell_type": "code",
   "execution_count": 77,
   "metadata": {},
   "outputs": [
    {
     "data": {
      "text/plain": [
       "0.95"
      ]
     },
     "execution_count": 77,
     "metadata": {},
     "output_type": "execute_result"
    }
   ],
   "source": [
    "bag_clf = BaggingClassifier(\n",
    "    DecisionTreeClassifier(), n_estimators=500,\n",
    "    bootstrap = True, n_jobs=-1, oob_score=True)\n",
    "bag_clf.fit(X_train, y_train)\n",
    "bag_clf.oob_score_"
   ]
  },
  {
   "cell_type": "code",
   "execution_count": 78,
   "metadata": {},
   "outputs": [
    {
     "data": {
      "text/plain": [
       "1.0"
      ]
     },
     "execution_count": 78,
     "metadata": {},
     "output_type": "execute_result"
    }
   ],
   "source": [
    "from sklearn.metrics import accuracy_score\n",
    "\n",
    "y_pred = bag_clf.predict(X_test)\n",
    "accuracy_score(y_test, y_pred)"
   ]
  },
  {
   "cell_type": "code",
   "execution_count": 73,
   "metadata": {},
   "outputs": [
    {
     "data": {
      "text/plain": [
       "array([[1.        , 0.        ],\n",
       "       [1.        , 0.        ],\n",
       "       [1.        , 0.        ],\n",
       "       [1.        , 0.        ],\n",
       "       [1.        , 0.        ],\n",
       "       [0.03846899, 0.96153101],\n",
       "       [1.        , 0.        ],\n",
       "       [1.        , 0.        ],\n",
       "       [1.        , 0.        ],\n",
       "       [1.        , 0.        ],\n",
       "       [0.00595238, 0.99404762],\n",
       "       [0.88770686, 0.11229314],\n",
       "       [1.        , 0.        ],\n",
       "       [1.        , 0.        ],\n",
       "       [1.        , 0.        ],\n",
       "       [1.        , 0.        ],\n",
       "       [0.39795918, 0.60204082],\n",
       "       [0.00191571, 0.99808429],\n",
       "       [1.        , 0.        ],\n",
       "       [0.        , 1.        ],\n",
       "       [1.        , 0.        ],\n",
       "       [0.        , 1.        ],\n",
       "       [1.        , 0.        ],\n",
       "       [1.        , 0.        ],\n",
       "       [0.        , 1.        ],\n",
       "       [1.        , 0.        ],\n",
       "       [1.        , 0.        ],\n",
       "       [1.        , 0.        ],\n",
       "       [1.        , 0.        ],\n",
       "       [1.        , 0.        ],\n",
       "       [0.20421733, 0.79578267],\n",
       "       [1.        , 0.        ],\n",
       "       [1.        , 0.        ],\n",
       "       [1.        , 0.        ],\n",
       "       [1.        , 0.        ],\n",
       "       [1.        , 0.        ],\n",
       "       [1.        , 0.        ],\n",
       "       [0.        , 1.        ],\n",
       "       [1.        , 0.        ],\n",
       "       [1.        , 0.        ],\n",
       "       [0.0122164 , 0.9877836 ],\n",
       "       [1.        , 0.        ],\n",
       "       [0.43757062, 0.56242938],\n",
       "       [0.00588235, 0.99411765],\n",
       "       [1.        , 0.        ],\n",
       "       [1.        , 0.        ],\n",
       "       [0.        , 1.        ],\n",
       "       [1.        , 0.        ],\n",
       "       [1.        , 0.        ],\n",
       "       [1.        , 0.        ],\n",
       "       [0.        , 1.        ],\n",
       "       [1.        , 0.        ],\n",
       "       [1.        , 0.        ],\n",
       "       [1.        , 0.        ],\n",
       "       [0.01136364, 0.98863636],\n",
       "       [1.        , 0.        ],\n",
       "       [0.        , 1.        ],\n",
       "       [1.        , 0.        ],\n",
       "       [1.        , 0.        ],\n",
       "       [0.01142857, 0.98857143],\n",
       "       [1.        , 0.        ],\n",
       "       [0.        , 1.        ],\n",
       "       [0.1011236 , 0.8988764 ],\n",
       "       [0.11931818, 0.88068182],\n",
       "       [0.        , 1.        ],\n",
       "       [1.        , 0.        ],\n",
       "       [1.        , 0.        ],\n",
       "       [1.        , 0.        ],\n",
       "       [0.85106383, 0.14893617],\n",
       "       [0.        , 1.        ],\n",
       "       [1.        , 0.        ],\n",
       "       [1.        , 0.        ],\n",
       "       [1.        , 0.        ],\n",
       "       [0.70545977, 0.29454023],\n",
       "       [0.        , 1.        ],\n",
       "       [1.        , 0.        ],\n",
       "       [0.        , 1.        ],\n",
       "       [0.        , 1.        ],\n",
       "       [1.        , 0.        ],\n",
       "       [1.        , 0.        ],\n",
       "       [1.        , 0.        ],\n",
       "       [0.44982595, 0.55017405],\n",
       "       [1.        , 0.        ],\n",
       "       [0.        , 1.        ],\n",
       "       [1.        , 0.        ],\n",
       "       [0.        , 1.        ],\n",
       "       [1.        , 0.        ],\n",
       "       [0.        , 1.        ],\n",
       "       [1.        , 0.        ],\n",
       "       [1.        , 0.        ],\n",
       "       [1.        , 0.        ],\n",
       "       [1.        , 0.        ],\n",
       "       [1.        , 0.        ],\n",
       "       [1.        , 0.        ],\n",
       "       [1.        , 0.        ],\n",
       "       [1.        , 0.        ],\n",
       "       [0.        , 1.        ],\n",
       "       [0.        , 1.        ],\n",
       "       [1.        , 0.        ],\n",
       "       [1.        , 0.        ],\n",
       "       [0.        , 1.        ],\n",
       "       [0.53926702, 0.46073298],\n",
       "       [1.        , 0.        ],\n",
       "       [0.        , 1.        ],\n",
       "       [1.        , 0.        ],\n",
       "       [0.725     , 0.275     ],\n",
       "       [0.        , 1.        ],\n",
       "       [0.        , 1.        ],\n",
       "       [1.        , 0.        ],\n",
       "       [0.0015949 , 0.9984051 ],\n",
       "       [1.        , 0.        ],\n",
       "       [1.        , 0.        ],\n",
       "       [0.10502368, 0.89497632],\n",
       "       [0.01710817, 0.98289183],\n",
       "       [1.        , 0.        ],\n",
       "       [1.        , 0.        ],\n",
       "       [0.88048026, 0.11951974],\n",
       "       [1.        , 0.        ],\n",
       "       [1.        , 0.        ],\n",
       "       [0.        , 1.        ]])"
      ]
     },
     "execution_count": 73,
     "metadata": {},
     "output_type": "execute_result"
    }
   ],
   "source": [
    "bag_clf.oob_decision_function_"
   ]
  },
  {
   "cell_type": "code",
   "execution_count": 84,
   "metadata": {},
   "outputs": [],
   "source": [
    "from sklearn.ensemble import RandomForestClassifier\n",
    "\n",
    "rnd_clf = RandomForestClassifier(n_estimators = 500, max_leaf_nodes=16, n_jobs=-1)\n",
    "rnd_clf.fit(X_train,y_train)\n",
    "\n",
    "y_pred_rf = rnd_clf.predict(X_test)"
   ]
  },
  {
   "cell_type": "code",
   "execution_count": 86,
   "metadata": {},
   "outputs": [
    {
     "name": "stdout",
     "output_type": "stream",
     "text": [
      "sepal length (cm) 0.09756362586218265\n",
      "sepal width (cm) 0.024481542805497757\n",
      "petal length (cm) 0.42472734547751484\n",
      "petal width (cm) 0.4532274858548049\n"
     ]
    }
   ],
   "source": [
    "from sklearn.datasets import load_iris\n",
    "\n",
    "\n",
    "iris = load_iris()\n",
    "rnd_clf = RandomForestClassifier(n_estimators=500, n_jobs=-1)\n",
    "rnd_clf.fit(iris['data'], iris['target'])\n",
    "for name, score in zip(iris['feature_names'], rnd_clf.feature_importances_):\n",
    "    print(name,score)"
   ]
  },
  {
   "cell_type": "code",
   "execution_count": 102,
   "metadata": {},
   "outputs": [
    {
     "data": {
      "text/plain": [
       "AdaBoostClassifier(algorithm='SAMME.R',\n",
       "                   base_estimator=DecisionTreeClassifier(class_weight=None,\n",
       "                                                         criterion='gini',\n",
       "                                                         max_depth=1,\n",
       "                                                         max_features=None,\n",
       "                                                         max_leaf_nodes=None,\n",
       "                                                         min_impurity_decrease=0.0,\n",
       "                                                         min_impurity_split=None,\n",
       "                                                         min_samples_leaf=1,\n",
       "                                                         min_samples_split=2,\n",
       "                                                         min_weight_fraction_leaf=0.0,\n",
       "                                                         presort=False,\n",
       "                                                         random_state=None,\n",
       "                                                         splitter='best'),\n",
       "                   learning_rate=0.5, n_estimators=200, random_state=None)"
      ]
     },
     "execution_count": 102,
     "metadata": {},
     "output_type": "execute_result"
    }
   ],
   "source": [
    "from sklearn.ensemble import AdaBoostClassifier\n",
    "ada_clf = AdaBoostClassifier(\n",
    "DecisionTreeClassifier(max_depth=1), n_estimators=200,\n",
    "algorithm=\"SAMME.R\", learning_rate=0.5\n",
    ")\n",
    "ada_clf.fit(X_train, y_train)"
   ]
  },
  {
   "cell_type": "code",
   "execution_count": 103,
   "metadata": {},
   "outputs": [
    {
     "data": {
      "text/plain": [
       "1.0"
      ]
     },
     "execution_count": 103,
     "metadata": {},
     "output_type": "execute_result"
    }
   ],
   "source": [
    "y_pred = ada_clf.predict(X_test)\n",
    "accuracy_score(y_test, y_pred)"
   ]
  },
  {
   "cell_type": "code",
   "execution_count": 104,
   "metadata": {},
   "outputs": [
    {
     "data": {
      "text/plain": [
       "GradientBoostingRegressor(alpha=0.9, criterion='friedman_mse', init=None,\n",
       "                          learning_rate=1.0, loss='ls', max_depth=2,\n",
       "                          max_features=None, max_leaf_nodes=None,\n",
       "                          min_impurity_decrease=0.0, min_impurity_split=None,\n",
       "                          min_samples_leaf=1, min_samples_split=2,\n",
       "                          min_weight_fraction_leaf=0.0, n_estimators=3,\n",
       "                          n_iter_no_change=None, presort='auto',\n",
       "                          random_state=None, subsample=1.0, tol=0.0001,\n",
       "                          validation_fraction=0.1, verbose=0, warm_start=False)"
      ]
     },
     "execution_count": 104,
     "metadata": {},
     "output_type": "execute_result"
    }
   ],
   "source": [
    "\n",
    "from sklearn.ensemble import GradientBoostingRegressor\n",
    "\n",
    "gbrt = GradientBoostingRegressor(max_depth=2, n_estimators=3, learning_rate=1.0)\n",
    "gbrt.fit(X, y)\n"
   ]
  },
  {
   "cell_type": "code",
   "execution_count": 107,
   "metadata": {},
   "outputs": [
    {
     "data": {
      "text/plain": [
       "GradientBoostingRegressor(alpha=0.9, criterion='friedman_mse', init=None,\n",
       "                          learning_rate=0.1, loss='ls', max_depth=2,\n",
       "                          max_features=None, max_leaf_nodes=None,\n",
       "                          min_impurity_decrease=0.0, min_impurity_split=None,\n",
       "                          min_samples_leaf=1, min_samples_split=2,\n",
       "                          min_weight_fraction_leaf=0.0, n_estimators=16,\n",
       "                          n_iter_no_change=None, presort='auto',\n",
       "                          random_state=None, subsample=1.0, tol=0.0001,\n",
       "                          validation_fraction=0.1, verbose=0, warm_start=False)"
      ]
     },
     "execution_count": 107,
     "metadata": {},
     "output_type": "execute_result"
    }
   ],
   "source": [
    "import numpy as np\n",
    "from sklearn.model_selection import train_test_split\n",
    "from sklearn.metrics import mean_squared_error\n",
    "\n",
    "X_train, X_val, y_train, y_val = train_test_split(X, y)\n",
    "\n",
    "gbrt = GradientBoostingRegressor(max_depth=2, n_estimators=120)\n",
    "\n",
    "gbrt.fit(X_train, y_train)\n",
    "\n",
    "errors = [mean_squared_error(y_val, y_pred)\n",
    "            for y_pred in gbrt.staged_predict(X_val)]\n",
    "\n",
    "bst_n_estimators = np.argmin(errors)\n",
    "    \n",
    "gbrt_best = GradientBoostingRegressor(max_depth=2,n_estimators=bst_n_estimators)\n",
    "gbrt_best.fit(X_train, y_train)"
   ]
  },
  {
   "cell_type": "code",
   "execution_count": 108,
   "metadata": {},
   "outputs": [],
   "source": [
    "min_val_error = float(\"inf\")\n",
    "error_going_up = 0\n",
    "for n_estimators in range(1, 120):\n",
    "    gbrt.n_estimators = n_estimators\n",
    "    gbrt.fit(X_train, y_train)\n",
    "    y_pred = gbrt.predict(X_val)\n",
    "    val_error = mean_squared_error(y_val, y_pred)\n",
    "    if val_error < min_val_error:\n",
    "        min_val_error = val_error\n",
    "        error_going_up = 0\n",
    "    else:\n",
    "        error_going_up += 1\n",
    "        if error_going_up == 5:\n",
    "            break # early stopping"
   ]
  },
  {
   "cell_type": "code",
   "execution_count": null,
   "metadata": {},
   "outputs": [],
   "source": []
  }
 ],
 "metadata": {
  "kernelspec": {
   "display_name": "Python 3",
   "language": "python",
   "name": "python3"
  },
  "language_info": {
   "codemirror_mode": {
    "name": "ipython",
    "version": 3
   },
   "file_extension": ".py",
   "mimetype": "text/x-python",
   "name": "python",
   "nbconvert_exporter": "python",
   "pygments_lexer": "ipython3",
   "version": "3.6.5"
  }
 },
 "nbformat": 4,
 "nbformat_minor": 2
}
