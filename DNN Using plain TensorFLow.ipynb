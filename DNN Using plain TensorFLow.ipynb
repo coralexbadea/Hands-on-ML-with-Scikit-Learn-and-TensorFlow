{
 "cells": [
  {
   "cell_type": "code",
   "execution_count": 1,
   "metadata": {},
   "outputs": [],
   "source": [
    "import tensorflow as tf\n",
    "\n",
    "n_imputs = 28*28 \n",
    "n_hidden1 = 300\n",
    "n_hidden2 = 100\n",
    "n_outputs = 10\n",
    "\n"
   ]
  },
  {
   "cell_type": "code",
   "execution_count": 2,
   "metadata": {},
   "outputs": [],
   "source": [
    "X = tf.placeholder(tf.float32, shape=(None, n_imputs), name=\"X\")\n",
    "y = tf.placeholder(tf.int64, shape=(None),name=\"y\")\n",
    "\n"
   ]
  },
  {
   "cell_type": "code",
   "execution_count": 6,
   "metadata": {},
   "outputs": [],
   "source": [
    "def neuron_layer(X, n_neurons, name, activation=None):\n",
    "    with tf.name_scope(name):\n",
    "        n_inputs = int(X.get_shape()[1])\n",
    "        stddev = 2/ np.sqrt(n_imputs)\n",
    "        init = tf.truncated_normal((n_inputs, n_neurons), stddev=stddev)\n",
    "        W = tf.Variable(init, name=\"kernel\")\n",
    "        b = tf.Variable(tf.zeros([n_neurons]), name=\"bias\")\n",
    "        Z = tf.matmul(X, W) + b\n",
    "        if activation is not None:\n",
    "            return activation(Z)\n",
    "        else:\n",
    "            return Z\n",
    "        \n",
    "        "
   ]
  },
  {
   "cell_type": "code",
   "execution_count": 11,
   "metadata": {},
   "outputs": [],
   "source": [
    "import numpy as np\n",
    "\n",
    "with tf.name_scope(\"dnn\"):\n",
    "    hidden1 = neuron_layer(X, n_hidden1, name=\"hidden1\",\n",
    "                          activation=tf.nn.relu)\n",
    "    hidden2 = neuron_layer(hidden1, n_hidden2, name=\"hidden2\",\n",
    "                          activation=tf.nn.relu)\n",
    "    ligits = neuron_layer(hidden2, n_outputs, name=\"outputs\")\n",
    "    \n",
    "    "
   ]
  },
  {
   "cell_type": "code",
   "execution_count": 12,
   "metadata": {},
   "outputs": [
    {
     "name": "stderr",
     "output_type": "stream",
     "text": [
      "WARNING: Logging before flag parsing goes to stderr.\n",
      "W0828 11:34:06.788676 140606474753856 deprecation.py:323] From <ipython-input-12-313df860fcfd>:3: dense (from tensorflow.python.layers.core) is deprecated and will be removed in a future version.\n",
      "Instructions for updating:\n",
      "Use keras.layers.dense instead.\n",
      "W0828 11:34:06.790925 140606474753856 deprecation.py:506] From /root/anaconda3/lib/python3.7/site-packages/tensorflow/python/ops/init_ops.py:1251: calling VarianceScaling.__init__ (from tensorflow.python.ops.init_ops) with dtype is deprecated and will be removed in a future version.\n",
      "Instructions for updating:\n",
      "Call initializer instance with the dtype argument instead of passing it to the constructor\n"
     ]
    }
   ],
   "source": [
    "with tf.name_scope(\"dnn\"):\n",
    "    hidden1 = tf.layers.dense(X, n_hidden1, name=\"hidden1\",\n",
    "                              activation=tf.nn.relu)\n",
    "    hidden2 = tf.layers.dense(X, n_hidden2, name=\"hidden2\",\n",
    "                             activation=tf.nn.relu)\n",
    "    logits = tf.layers.dense(hidden2, n_outputs, name=\"outputs\")"
   ]
  },
  {
   "cell_type": "code",
   "execution_count": 13,
   "metadata": {},
   "outputs": [],
   "source": [
    "with tf.name_scope(\"loss\"):\n",
    "    #equivalent with applying solfmax then computing cross_entr\n",
    "    xentropy = tf.nn.sparse_softmax_cross_entropy_with_logits(labels=y,\n",
    "                                                             logits=logits)\n",
    "    loss = tf.reduce_mean(xentropy,name=\"loss\")"
   ]
  },
  {
   "cell_type": "code",
   "execution_count": 14,
   "metadata": {},
   "outputs": [],
   "source": [
    "learning_rate = 0.01\n",
    "\n",
    "with tf.name_scope(\"train\"):\n",
    "    optimizer = tf.train.GradientDescentOptimizer(learning_rate)\n",
    "    training_op = optimizer.minimize(loss)"
   ]
  },
  {
   "cell_type": "code",
   "execution_count": 19,
   "metadata": {},
   "outputs": [],
   "source": [
    "with tf.name_scope(\"eval\"):\n",
    "    correct = tf.nn.in_top_k(logits, y, 1)\n",
    "    accuracy = tf.reduce_mean(tf.cast(correct, tf.float32))"
   ]
  },
  {
   "cell_type": "code",
   "execution_count": 24,
   "metadata": {},
   "outputs": [],
   "source": [
    "init = tf.global_variables_initializer()\n",
    "saver = tf.train.Saver()"
   ]
  },
  {
   "cell_type": "code",
   "execution_count": 25,
   "metadata": {},
   "outputs": [],
   "source": [
    "#Execution Phase\n",
    "from tensorflow.examples.tutorials.mnist import input_data"
   ]
  },
  {
   "cell_type": "code",
   "execution_count": 26,
   "metadata": {},
   "outputs": [
    {
     "name": "stdout",
     "output_type": "stream",
     "text": [
      "Extracting /tmp/data/train-images-idx3-ubyte.gz\n",
      "Extracting /tmp/data/train-labels-idx1-ubyte.gz\n",
      "Extracting /tmp/data/t10k-images-idx3-ubyte.gz\n",
      "Extracting /tmp/data/t10k-labels-idx1-ubyte.gz\n"
     ]
    }
   ],
   "source": [
    "mnist = input_data.read_data_sets(\"/tmp/data/\")"
   ]
  },
  {
   "cell_type": "code",
   "execution_count": 29,
   "metadata": {},
   "outputs": [
    {
     "name": "stdout",
     "output_type": "stream",
     "text": [
      "0 Train accuracy: 0.88 Test accuracy: 0.8949\n",
      "1 Train accuracy: 0.9 Test accuracy: 0.9073\n",
      "2 Train accuracy: 0.88 Test accuracy: 0.9159\n",
      "3 Train accuracy: 0.86 Test accuracy: 0.9222\n",
      "4 Train accuracy: 0.8 Test accuracy: 0.9266\n",
      "5 Train accuracy: 0.92 Test accuracy: 0.9307\n",
      "6 Train accuracy: 0.94 Test accuracy: 0.9349\n",
      "7 Train accuracy: 0.96 Test accuracy: 0.9376\n",
      "8 Train accuracy: 0.98 Test accuracy: 0.9398\n",
      "9 Train accuracy: 0.96 Test accuracy: 0.9405\n",
      "10 Train accuracy: 0.98 Test accuracy: 0.9436\n",
      "11 Train accuracy: 0.98 Test accuracy: 0.9449\n",
      "12 Train accuracy: 0.96 Test accuracy: 0.9474\n",
      "13 Train accuracy: 1.0 Test accuracy: 0.9484\n",
      "14 Train accuracy: 0.96 Test accuracy: 0.9509\n",
      "15 Train accuracy: 0.98 Test accuracy: 0.9514\n",
      "16 Train accuracy: 0.92 Test accuracy: 0.9538\n",
      "17 Train accuracy: 0.98 Test accuracy: 0.9542\n",
      "18 Train accuracy: 0.94 Test accuracy: 0.9539\n",
      "19 Train accuracy: 0.94 Test accuracy: 0.9569\n",
      "20 Train accuracy: 0.96 Test accuracy: 0.9572\n",
      "21 Train accuracy: 0.96 Test accuracy: 0.9584\n",
      "22 Train accuracy: 0.96 Test accuracy: 0.9596\n",
      "23 Train accuracy: 0.96 Test accuracy: 0.9594\n",
      "24 Train accuracy: 0.92 Test accuracy: 0.96\n",
      "25 Train accuracy: 0.98 Test accuracy: 0.9605\n",
      "26 Train accuracy: 0.98 Test accuracy: 0.9624\n",
      "27 Train accuracy: 0.96 Test accuracy: 0.9627\n",
      "28 Train accuracy: 0.98 Test accuracy: 0.9632\n",
      "29 Train accuracy: 0.96 Test accuracy: 0.9631\n",
      "30 Train accuracy: 0.98 Test accuracy: 0.9632\n",
      "31 Train accuracy: 1.0 Test accuracy: 0.9634\n",
      "32 Train accuracy: 1.0 Test accuracy: 0.9654\n",
      "33 Train accuracy: 1.0 Test accuracy: 0.9651\n",
      "34 Train accuracy: 0.98 Test accuracy: 0.9657\n",
      "35 Train accuracy: 0.92 Test accuracy: 0.9659\n",
      "36 Train accuracy: 0.96 Test accuracy: 0.9659\n",
      "37 Train accuracy: 0.98 Test accuracy: 0.9667\n",
      "38 Train accuracy: 0.98 Test accuracy: 0.9671\n",
      "39 Train accuracy: 1.0 Test accuracy: 0.967\n"
     ]
    }
   ],
   "source": [
    "n_epochs = 40\n",
    "batch_size = 50\n",
    "\n",
    "with tf.Session() as sess:\n",
    "    init.run()\n",
    "    for epoch in range(n_epochs):\n",
    "        for iteration in range(mnist.train.num_examples // batch_size):\n",
    "            X_batch, y_batch = mnist.train.next_batch(batch_size)\n",
    "            sess.run(training_op, feed_dict={X: X_batch, y: y_batch})\n",
    "        acc_train = accuracy.eval(feed_dict={X: X_batch, y: y_batch})\n",
    "        acc_test = accuracy.eval(feed_dict={X: mnist.test.images,\n",
    "                                           y: mnist.test.labels})\n",
    "        print(epoch, \"Train accuracy:\", acc_train, \"Test accuracy:\", acc_test)\n",
    "    \n",
    "    save_path = saver.save(sess, \"Models/digists.ckpt\")"
   ]
  },
  {
   "cell_type": "code",
   "execution_count": null,
   "metadata": {},
   "outputs": [],
   "source": [
    "#make predictions\n",
    "\n",
    "with tf.Session() as sess:\n",
    "    saver.restore(sess, \"Models/digits.ckpt\")\n",
    "    X_new_scaled=[] #some new image (scaled from 0 to 1)\n",
    "    Z = logists.eval(feed_dict{ X: X_new_scaled})\n",
    "    y_pred = np.argmax(Z, axis=1)"
   ]
  },
  {
   "cell_type": "code",
   "execution_count": null,
   "metadata": {},
   "outputs": [],
   "source": []
  },
  {
   "cell_type": "code",
   "execution_count": null,
   "metadata": {},
   "outputs": [],
   "source": []
  }
 ],
 "metadata": {
  "kernelspec": {
   "display_name": "Python 3",
   "language": "python",
   "name": "python3"
  },
  "language_info": {
   "codemirror_mode": {
    "name": "ipython",
    "version": 3
   },
   "file_extension": ".py",
   "mimetype": "text/x-python",
   "name": "python",
   "nbconvert_exporter": "python",
   "pygments_lexer": "ipython3",
   "version": "3.7.3"
  }
 },
 "nbformat": 4,
 "nbformat_minor": 2
}
