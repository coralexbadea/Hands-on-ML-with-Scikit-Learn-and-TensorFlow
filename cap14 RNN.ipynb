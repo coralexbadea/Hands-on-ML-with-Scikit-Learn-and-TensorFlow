{
 "cells": [
  {
   "cell_type": "code",
   "execution_count": 1,
   "metadata": {},
   "outputs": [],
   "source": [
    "import tensorflow as tf\n",
    "import numpy as np\n",
    "\n"
   ]
  },
  {
   "cell_type": "code",
   "execution_count": 3,
   "metadata": {},
   "outputs": [],
   "source": [
    "n_inputs = 3\n",
    "n_neurons = 5\n",
    "\n",
    "X0 = tf.placeholder(tf.float32, [None, n_inputs])\n",
    "X1 = tf.placeholder(tf.float32, [None, n_inputs])\n",
    "\n",
    "Wx = tf.Variable(tf.random_normal(shape=[n_inputs, n_neurons],\n",
    "                                 dtype=tf.float32))\n",
    "Wy = tf.Variable(tf.random_normal(shape=[n_neurons, n_neurons],\n",
    "                                 dtype=tf.float32))\n",
    "b = tf.Variable(tf.zeros([1, n_neurons], dtype=tf.float32))\n",
    "\n",
    "Y0 = tf.tanh(tf.matmul(X0, Wx) + b)\n",
    "Y1 = tf.tanh(tf.matmul(Y0, Wy) + tf.matmul(X1, Wx) + b)\n",
    "\n",
    "init = tf.global_variables_initializer()"
   ]
  },
  {
   "cell_type": "code",
   "execution_count": 5,
   "metadata": {},
   "outputs": [],
   "source": [
    "import numpy as np\n",
    "\n",
    "#Mini-batch\n",
    "X0_batch = np.array([[0,1,2], [3,4,5],[6,7,8],[9,0,1]])#t = 0\n",
    "X1_batch = np.array([[9,8,7], [0,0,0], [6,5,4], [3,2,1]])#t= 1\n",
    "\n",
    "with tf.Session() as sess:\n",
    "    init.run()\n",
    "    Y0_val, Y1_val = sess.run([Y0, Y1], feed_dict = {X0: X0_batch, X1: X1_batch})\n",
    "    "
   ]
  },
  {
   "cell_type": "code",
   "execution_count": 6,
   "metadata": {},
   "outputs": [
    {
     "name": "stdout",
     "output_type": "stream",
     "text": [
      "[[ 0.9963177   0.2195449  -0.81610024  0.5215628  -0.889324  ]\n",
      " [ 1.         -0.07297775 -0.9998909   0.9267646  -0.6164906 ]\n",
      " [ 1.         -0.35346097 -0.99999994  0.9908528  -0.01996252]\n",
      " [ 1.         -0.99999994  0.9253871  -0.96804553  0.9999999 ]]\n"
     ]
    }
   ],
   "source": [
    "print(Y0_val)\n"
   ]
  },
  {
   "cell_type": "code",
   "execution_count": 7,
   "metadata": {},
   "outputs": [
    {
     "name": "stdout",
     "output_type": "stream",
     "text": [
      "[[ 1.          0.34728616 -1.          0.5687031   0.9999174 ]\n",
      " [-0.9998516   0.6981902  -0.74609625 -0.74460506  0.96454805]\n",
      " [ 1.         -0.4460138  -0.99999857  0.9096941   0.99990606]\n",
      " [ 1.         -0.382075   -0.9855604   0.9989305   0.76474285]]\n"
     ]
    }
   ],
   "source": [
    "print(Y1_val)"
   ]
  },
  {
   "cell_type": "code",
   "execution_count": 8,
   "metadata": {},
   "outputs": [
    {
     "name": "stderr",
     "output_type": "stream",
     "text": [
      "WARNING: Logging before flag parsing goes to stderr.\n",
      "W0828 17:28:48.580101 139688421295936 lazy_loader.py:50] \n",
      "The TensorFlow contrib module will not be included in TensorFlow 2.0.\n",
      "For more information, please see:\n",
      "  * https://github.com/tensorflow/community/blob/master/rfcs/20180907-contrib-sunset.md\n",
      "  * https://github.com/tensorflow/addons\n",
      "  * https://github.com/tensorflow/io (for I/O related ops)\n",
      "If you depend on functionality not listed there, please file an issue.\n",
      "\n",
      "W0828 17:28:48.580887 139688421295936 deprecation.py:323] From <ipython-input-8-23c15b553be4>:7: BasicRNNCell.__init__ (from tensorflow.python.ops.rnn_cell_impl) is deprecated and will be removed in a future version.\n",
      "Instructions for updating:\n",
      "This class is equivalent as tf.keras.layers.SimpleRNNCell, and will be replaced by that in Tensorflow 2.0.\n",
      "W0828 17:28:48.581668 139688421295936 deprecation.py:323] From <ipython-input-8-23c15b553be4>:9: static_rnn (from tensorflow.python.ops.rnn) is deprecated and will be removed in a future version.\n",
      "Instructions for updating:\n",
      "Please use `keras.layers.RNN(cell, unroll=True)`, which is equivalent to this API\n",
      "W0828 17:28:48.596631 139688421295936 deprecation.py:506] From /root/anaconda3/lib/python3.7/site-packages/tensorflow/python/ops/init_ops.py:1251: calling VarianceScaling.__init__ (from tensorflow.python.ops.init_ops) with dtype is deprecated and will be removed in a future version.\n",
      "Instructions for updating:\n",
      "Call initializer instance with the dtype argument instead of passing it to the constructor\n",
      "W0828 17:28:48.671576 139688421295936 deprecation.py:506] From /root/anaconda3/lib/python3.7/site-packages/tensorflow/python/ops/rnn_cell_impl.py:459: calling Zeros.__init__ (from tensorflow.python.ops.init_ops) with dtype is deprecated and will be removed in a future version.\n",
      "Instructions for updating:\n",
      "Call initializer instance with the dtype argument instead of passing it to the constructor\n"
     ]
    }
   ],
   "source": [
    "#Exact same shut\n",
    "\n",
    "X0 = tf.placeholder(tf.float32, [None, n_inputs])\n",
    "X1 =  tf.placeholder(tf.float32, [None, n_inputs])\n",
    "\n",
    "\n",
    "basic_cell = tf.contrib.rnn.BasicRNNCell(num_units=n_neurons)\n",
    "output_seqs, states = tf.contrib.rnn.static_rnn(basic_cell, [X0, X1],\n",
    "                                               dtype= tf.float32)\n",
    "Y0, Y1 = output_seqs"
   ]
  },
  {
   "cell_type": "code",
   "execution_count": 3,
   "metadata": {},
   "outputs": [
    {
     "name": "stderr",
     "output_type": "stream",
     "text": [
      "WARNING: Logging before flag parsing goes to stderr.\n",
      "W0828 17:46:13.524818 139643694634816 lazy_loader.py:50] \n",
      "The TensorFlow contrib module will not be included in TensorFlow 2.0.\n",
      "For more information, please see:\n",
      "  * https://github.com/tensorflow/community/blob/master/rfcs/20180907-contrib-sunset.md\n",
      "  * https://github.com/tensorflow/addons\n",
      "  * https://github.com/tensorflow/io (for I/O related ops)\n",
      "If you depend on functionality not listed there, please file an issue.\n",
      "\n",
      "W0828 17:46:13.525806 139643694634816 deprecation.py:323] From <ipython-input-3-8cc978298229>:8: BasicRNNCell.__init__ (from tensorflow.python.ops.rnn_cell_impl) is deprecated and will be removed in a future version.\n",
      "Instructions for updating:\n",
      "This class is equivalent as tf.keras.layers.SimpleRNNCell, and will be replaced by that in Tensorflow 2.0.\n",
      "W0828 17:46:13.526582 139643694634816 deprecation.py:323] From <ipython-input-3-8cc978298229>:10: static_rnn (from tensorflow.python.ops.rnn) is deprecated and will be removed in a future version.\n",
      "Instructions for updating:\n",
      "Please use `keras.layers.RNN(cell, unroll=True)`, which is equivalent to this API\n",
      "W0828 17:46:13.609163 139643694634816 deprecation.py:506] From /root/anaconda3/lib/python3.7/site-packages/tensorflow/python/ops/init_ops.py:1251: calling VarianceScaling.__init__ (from tensorflow.python.ops.init_ops) with dtype is deprecated and will be removed in a future version.\n",
      "Instructions for updating:\n",
      "Call initializer instance with the dtype argument instead of passing it to the constructor\n",
      "W0828 17:46:13.617816 139643694634816 deprecation.py:506] From /root/anaconda3/lib/python3.7/site-packages/tensorflow/python/ops/rnn_cell_impl.py:459: calling Zeros.__init__ (from tensorflow.python.ops.init_ops) with dtype is deprecated and will be removed in a future version.\n",
      "Instructions for updating:\n",
      "Call initializer instance with the dtype argument instead of passing it to the constructor\n"
     ]
    }
   ],
   "source": [
    "#Yet another but better\n",
    "n_steps = 2\n",
    "n_inputs = 3\n",
    "n_neurons = 5\n",
    "\n",
    "X = tf.placeholder(tf.float32, [None, n_steps, n_inputs])\n",
    "X_seqs = tf.unstack(tf.transpose(X, perm=[1, 0 , 2]))\n",
    "basic_cell = tf.contrib.rnn.BasicRNNCell(num_units=n_neurons)\n",
    "output_seqs, states = tf.contrib.rnn.static_rnn(basic_cell, X_seqs,\n",
    "                                               dtype=tf.float32)\n",
    "outputs = tf.transpose(tf.stack(output_seqs), perm=[1, 0, 2])\n",
    "\n"
   ]
  },
  {
   "cell_type": "code",
   "execution_count": 4,
   "metadata": {},
   "outputs": [],
   "source": [
    "\n",
    "X_batch = np.array([\n",
    "    [[0,1,2], [9,8,7]],\n",
    "    [[0,3,8], [9,3,5]],\n",
    "    \n",
    "    [[6,2,2], [4,4,7]],\n",
    "    [[3,4,7], [2,5,4]],\n",
    "])\n",
    "init = tf.global_variables_initializer()"
   ]
  },
  {
   "cell_type": "code",
   "execution_count": 5,
   "metadata": {},
   "outputs": [],
   "source": [
    "with tf.Session() as sess:\n",
    "    init.run()\n",
    "    outputs_val = outputs.eval(feed_dict={X: X_batch})"
   ]
  },
  {
   "cell_type": "code",
   "execution_count": 7,
   "metadata": {},
   "outputs": [
    {
     "name": "stdout",
     "output_type": "stream",
     "text": [
      "[[[-0.30619258  0.23034374 -0.28179723  0.6928438   0.61775434]\n",
      "  [-0.9996485   0.9991265   0.9998968   0.99505794  0.80927765]]\n",
      "\n",
      " [[-0.9497578   0.2900066  -0.9385103   0.9923732   0.9947877 ]\n",
      "  [-0.99999285  0.705539    0.9904258  -0.53584814  0.22631612]]\n",
      "\n",
      " [[-0.99816185  0.77920806  0.9933608  -0.25677195  0.24465328]\n",
      "  [-0.9889694   0.9560949   0.93449426  0.9579106   0.99701387]]\n",
      "\n",
      " [[-0.99095035  0.8412203   0.5059318   0.9845843   0.97965634]\n",
      "  [ 0.0099694   0.9934987   0.95735466  0.988956    0.85289   ]]]\n"
     ]
    }
   ],
   "source": [
    "print(outputs_val)"
   ]
  },
  {
   "cell_type": "code",
   "execution_count": null,
   "metadata": {},
   "outputs": [],
   "source": []
  },
  {
   "cell_type": "code",
   "execution_count": 2,
   "metadata": {},
   "outputs": [
    {
     "name": "stderr",
     "output_type": "stream",
     "text": [
      "WARNING: Logging before flag parsing goes to stderr.\n",
      "W0828 18:03:50.358140 140255179732800 lazy_loader.py:50] \n",
      "The TensorFlow contrib module will not be included in TensorFlow 2.0.\n",
      "For more information, please see:\n",
      "  * https://github.com/tensorflow/community/blob/master/rfcs/20180907-contrib-sunset.md\n",
      "  * https://github.com/tensorflow/addons\n",
      "  * https://github.com/tensorflow/io (for I/O related ops)\n",
      "If you depend on functionality not listed there, please file an issue.\n",
      "\n",
      "W0828 18:03:50.359197 140255179732800 deprecation.py:323] From <ipython-input-2-1d251a3d933c>:14: BasicRNNCell.__init__ (from tensorflow.python.ops.rnn_cell_impl) is deprecated and will be removed in a future version.\n",
      "Instructions for updating:\n",
      "This class is equivalent as tf.keras.layers.SimpleRNNCell, and will be replaced by that in Tensorflow 2.0.\n",
      "W0828 18:03:50.359916 140255179732800 deprecation.py:323] From <ipython-input-2-1d251a3d933c>:15: dynamic_rnn (from tensorflow.python.ops.rnn) is deprecated and will be removed in a future version.\n",
      "Instructions for updating:\n",
      "Please use `keras.layers.RNN(cell)`, which is equivalent to this API\n",
      "W0828 18:03:50.459576 140255179732800 deprecation.py:506] From /root/anaconda3/lib/python3.7/site-packages/tensorflow/python/ops/init_ops.py:1251: calling VarianceScaling.__init__ (from tensorflow.python.ops.init_ops) with dtype is deprecated and will be removed in a future version.\n",
      "Instructions for updating:\n",
      "Call initializer instance with the dtype argument instead of passing it to the constructor\n",
      "W0828 18:03:50.468391 140255179732800 deprecation.py:506] From /root/anaconda3/lib/python3.7/site-packages/tensorflow/python/ops/rnn_cell_impl.py:459: calling Zeros.__init__ (from tensorflow.python.ops.init_ops) with dtype is deprecated and will be removed in a future version.\n",
      "Instructions for updating:\n",
      "Call initializer instance with the dtype argument instead of passing it to the constructor\n",
      "W0828 18:03:50.564161 140255179732800 deprecation.py:323] From <ipython-input-2-1d251a3d933c>:17: dense (from tensorflow.python.layers.core) is deprecated and will be removed in a future version.\n",
      "Instructions for updating:\n",
      "Use keras.layers.dense instead.\n"
     ]
    }
   ],
   "source": [
    "#Training a RNN\n",
    "\n",
    "\n",
    "n_steps = 28\n",
    "n_inputs = 28\n",
    "n_neurons = 150\n",
    "n_outputs = 10\n",
    "\n",
    "learning_rate = 0.001\n",
    "\n",
    "X = tf.placeholder(tf.float32, [None, n_steps, n_inputs])\n",
    "y = tf.placeholder(tf.int32, [None])\n",
    "\n",
    "basic_cell = tf.contrib.rnn.BasicRNNCell(num_units=n_neurons)\n",
    "outputs, states = tf.nn.dynamic_rnn(basic_cell, X, dtype=tf.float32)\n",
    "\n",
    "logits = tf.layers.dense(states, n_outputs)\n",
    "xentropy = tf.nn.sparse_softmax_cross_entropy_with_logits(labels=y,\n",
    "                                                         logits=logits)\n",
    "loss = tf.reduce_mean(xentropy)\n",
    "\n",
    "optimizer = tf.train.AdamOptimizer(learning_rate=learning_rate)\n",
    "training_op = optimizer.minimize(loss)\n",
    "correct = tf.nn.in_top_k(logits, y, 1)\n",
    "accuracy = tf.reduce_mean(tf.cast(correct, tf.float32))"
   ]
  },
  {
   "cell_type": "code",
   "execution_count": 3,
   "metadata": {},
   "outputs": [],
   "source": [
    "init = tf.global_variables_initializer()"
   ]
  },
  {
   "cell_type": "code",
   "execution_count": 4,
   "metadata": {},
   "outputs": [
    {
     "name": "stderr",
     "output_type": "stream",
     "text": [
      "W0828 18:05:22.412092 140255179732800 deprecation.py:323] From <ipython-input-4-92a3bdd9779c>:3: read_data_sets (from tensorflow.contrib.learn.python.learn.datasets.mnist) is deprecated and will be removed in a future version.\n",
      "Instructions for updating:\n",
      "Please use alternatives such as official/mnist/dataset.py from tensorflow/models.\n",
      "W0828 18:05:22.412695 140255179732800 deprecation.py:323] From /root/anaconda3/lib/python3.7/site-packages/tensorflow/contrib/learn/python/learn/datasets/mnist.py:260: maybe_download (from tensorflow.contrib.learn.python.learn.datasets.base) is deprecated and will be removed in a future version.\n",
      "Instructions for updating:\n",
      "Please write your own downloading logic.\n",
      "W0828 18:05:22.413472 140255179732800 deprecation.py:323] From /root/anaconda3/lib/python3.7/site-packages/tensorflow/contrib/learn/python/learn/datasets/mnist.py:262: extract_images (from tensorflow.contrib.learn.python.learn.datasets.mnist) is deprecated and will be removed in a future version.\n",
      "Instructions for updating:\n",
      "Please use tf.data to implement this functionality.\n",
      "W0828 18:05:22.598961 140255179732800 deprecation.py:323] From /root/anaconda3/lib/python3.7/site-packages/tensorflow/contrib/learn/python/learn/datasets/mnist.py:267: extract_labels (from tensorflow.contrib.learn.python.learn.datasets.mnist) is deprecated and will be removed in a future version.\n",
      "Instructions for updating:\n",
      "Please use tf.data to implement this functionality.\n"
     ]
    },
    {
     "name": "stdout",
     "output_type": "stream",
     "text": [
      "Extracting /tmp/data/train-images-idx3-ubyte.gz\n",
      "Extracting /tmp/data/train-labels-idx1-ubyte.gz\n",
      "Extracting /tmp/data/t10k-images-idx3-ubyte.gz\n"
     ]
    },
    {
     "name": "stderr",
     "output_type": "stream",
     "text": [
      "W0828 18:05:22.634971 140255179732800 deprecation.py:323] From /root/anaconda3/lib/python3.7/site-packages/tensorflow/contrib/learn/python/learn/datasets/mnist.py:290: DataSet.__init__ (from tensorflow.contrib.learn.python.learn.datasets.mnist) is deprecated and will be removed in a future version.\n",
      "Instructions for updating:\n",
      "Please use alternatives such as official/mnist/dataset.py from tensorflow/models.\n"
     ]
    },
    {
     "name": "stdout",
     "output_type": "stream",
     "text": [
      "Extracting /tmp/data/t10k-labels-idx1-ubyte.gz\n"
     ]
    }
   ],
   "source": [
    "from tensorflow.examples.tutorials.mnist import input_data\n",
    "\n",
    "mnist = input_data.read_data_sets(\"/tmp/data/\")\n",
    "X_test = mnist.test.images.reshape((-1, n_steps , n_inputs))\n",
    "y_test = mnist.test.labels"
   ]
  },
  {
   "cell_type": "code",
   "execution_count": 5,
   "metadata": {},
   "outputs": [
    {
     "name": "stdout",
     "output_type": "stream",
     "text": [
      "0 Training accuracy: 0.94 Test accuracy:  0.9084\n",
      "1 Training accuracy: 0.9533333 Test accuracy:  0.9522\n",
      "2 Training accuracy: 0.94666666 Test accuracy:  0.9607\n",
      "3 Training accuracy: 0.98 Test accuracy:  0.9616\n",
      "4 Training accuracy: 0.97333336 Test accuracy:  0.9657\n",
      "5 Training accuracy: 0.98 Test accuracy:  0.9717\n",
      "6 Training accuracy: 0.9866667 Test accuracy:  0.9704\n",
      "7 Training accuracy: 0.97333336 Test accuracy:  0.9715\n",
      "8 Training accuracy: 0.99333334 Test accuracy:  0.9749\n",
      "9 Training accuracy: 0.97333336 Test accuracy:  0.9671\n",
      "10 Training accuracy: 0.98 Test accuracy:  0.9703\n",
      "11 Training accuracy: 0.99333334 Test accuracy:  0.976\n",
      "12 Training accuracy: 0.96666664 Test accuracy:  0.971\n",
      "13 Training accuracy: 0.97333336 Test accuracy:  0.9775\n",
      "14 Training accuracy: 0.99333334 Test accuracy:  0.9731\n",
      "15 Training accuracy: 0.98 Test accuracy:  0.9773\n",
      "16 Training accuracy: 0.97333336 Test accuracy:  0.968\n",
      "17 Training accuracy: 1.0 Test accuracy:  0.9763\n",
      "18 Training accuracy: 1.0 Test accuracy:  0.9779\n",
      "19 Training accuracy: 0.99333334 Test accuracy:  0.9758\n",
      "20 Training accuracy: 0.99333334 Test accuracy:  0.9804\n",
      "21 Training accuracy: 0.99333334 Test accuracy:  0.9771\n",
      "22 Training accuracy: 0.98 Test accuracy:  0.9803\n",
      "23 Training accuracy: 0.97333336 Test accuracy:  0.9748\n",
      "24 Training accuracy: 0.98 Test accuracy:  0.9799\n",
      "25 Training accuracy: 1.0 Test accuracy:  0.98\n",
      "26 Training accuracy: 0.98 Test accuracy:  0.98\n",
      "27 Training accuracy: 0.99333334 Test accuracy:  0.9783\n",
      "28 Training accuracy: 0.98 Test accuracy:  0.9769\n",
      "29 Training accuracy: 0.99333334 Test accuracy:  0.9769\n",
      "30 Training accuracy: 0.9866667 Test accuracy:  0.9783\n",
      "31 Training accuracy: 0.9866667 Test accuracy:  0.9772\n",
      "32 Training accuracy: 0.98 Test accuracy:  0.9705\n",
      "33 Training accuracy: 1.0 Test accuracy:  0.9776\n",
      "34 Training accuracy: 0.99333334 Test accuracy:  0.98\n",
      "35 Training accuracy: 0.9866667 Test accuracy:  0.9801\n",
      "36 Training accuracy: 0.99333334 Test accuracy:  0.9728\n",
      "37 Training accuracy: 1.0 Test accuracy:  0.9779\n",
      "38 Training accuracy: 0.99333334 Test accuracy:  0.9791\n",
      "39 Training accuracy: 0.98 Test accuracy:  0.9801\n",
      "40 Training accuracy: 0.98 Test accuracy:  0.9754\n",
      "41 Training accuracy: 0.9866667 Test accuracy:  0.9786\n",
      "42 Training accuracy: 1.0 Test accuracy:  0.9813\n",
      "43 Training accuracy: 0.99333334 Test accuracy:  0.9774\n",
      "44 Training accuracy: 1.0 Test accuracy:  0.9774\n",
      "45 Training accuracy: 1.0 Test accuracy:  0.9779\n",
      "46 Training accuracy: 0.9866667 Test accuracy:  0.9759\n",
      "47 Training accuracy: 0.98 Test accuracy:  0.9782\n",
      "48 Training accuracy: 0.98 Test accuracy:  0.9752\n",
      "49 Training accuracy: 0.97333336 Test accuracy:  0.9754\n",
      "50 Training accuracy: 0.9866667 Test accuracy:  0.9761\n",
      "51 Training accuracy: 0.9866667 Test accuracy:  0.9777\n",
      "52 Training accuracy: 1.0 Test accuracy:  0.9775\n",
      "53 Training accuracy: 0.9866667 Test accuracy:  0.9668\n",
      "54 Training accuracy: 0.98 Test accuracy:  0.9802\n",
      "55 Training accuracy: 0.9866667 Test accuracy:  0.9686\n",
      "56 Training accuracy: 0.99333334 Test accuracy:  0.9803\n",
      "57 Training accuracy: 0.9866667 Test accuracy:  0.9781\n",
      "58 Training accuracy: 1.0 Test accuracy:  0.9795\n",
      "59 Training accuracy: 0.98 Test accuracy:  0.9769\n",
      "60 Training accuracy: 0.9866667 Test accuracy:  0.9788\n",
      "61 Training accuracy: 0.98 Test accuracy:  0.9762\n",
      "62 Training accuracy: 1.0 Test accuracy:  0.9755\n",
      "63 Training accuracy: 1.0 Test accuracy:  0.9794\n",
      "64 Training accuracy: 0.99333334 Test accuracy:  0.9788\n",
      "65 Training accuracy: 0.99333334 Test accuracy:  0.9794\n",
      "66 Training accuracy: 0.99333334 Test accuracy:  0.978\n",
      "67 Training accuracy: 1.0 Test accuracy:  0.9778\n",
      "68 Training accuracy: 0.98 Test accuracy:  0.9763\n",
      "69 Training accuracy: 0.97333336 Test accuracy:  0.9788\n",
      "70 Training accuracy: 0.9866667 Test accuracy:  0.9759\n",
      "71 Training accuracy: 1.0 Test accuracy:  0.9795\n",
      "72 Training accuracy: 1.0 Test accuracy:  0.9783\n",
      "73 Training accuracy: 1.0 Test accuracy:  0.9778\n",
      "74 Training accuracy: 1.0 Test accuracy:  0.9797\n",
      "75 Training accuracy: 0.98 Test accuracy:  0.9777\n",
      "76 Training accuracy: 0.99333334 Test accuracy:  0.9755\n",
      "77 Training accuracy: 1.0 Test accuracy:  0.9799\n",
      "78 Training accuracy: 0.97333336 Test accuracy:  0.979\n",
      "79 Training accuracy: 0.98 Test accuracy:  0.9789\n",
      "80 Training accuracy: 1.0 Test accuracy:  0.975\n",
      "81 Training accuracy: 0.9866667 Test accuracy:  0.9799\n",
      "82 Training accuracy: 1.0 Test accuracy:  0.9814\n",
      "83 Training accuracy: 0.99333334 Test accuracy:  0.9793\n",
      "84 Training accuracy: 1.0 Test accuracy:  0.9813\n",
      "85 Training accuracy: 0.98 Test accuracy:  0.9763\n",
      "86 Training accuracy: 0.99333334 Test accuracy:  0.9804\n",
      "87 Training accuracy: 1.0 Test accuracy:  0.9798\n",
      "88 Training accuracy: 1.0 Test accuracy:  0.9767\n",
      "89 Training accuracy: 0.97333336 Test accuracy:  0.9667\n",
      "90 Training accuracy: 0.99333334 Test accuracy:  0.9764\n",
      "91 Training accuracy: 0.9866667 Test accuracy:  0.9782\n",
      "92 Training accuracy: 0.99333334 Test accuracy:  0.9788\n",
      "93 Training accuracy: 0.9866667 Test accuracy:  0.9745\n",
      "94 Training accuracy: 0.99333334 Test accuracy:  0.9773\n",
      "95 Training accuracy: 1.0 Test accuracy:  0.9736\n",
      "96 Training accuracy: 1.0 Test accuracy:  0.9761\n",
      "97 Training accuracy: 0.9866667 Test accuracy:  0.9723\n",
      "98 Training accuracy: 1.0 Test accuracy:  0.9762\n",
      "99 Training accuracy: 0.99333334 Test accuracy:  0.9778\n"
     ]
    }
   ],
   "source": [
    "n_epochs = 100\n",
    "batch_size = 150\n",
    "\n",
    "with  tf.Session() as sess:\n",
    "    init.run()\n",
    "    for epoch in range(n_epochs):\n",
    "        for iteration in range(mnist.train.num_examples // batch_size):\n",
    "            X_batch, y_batch = mnist.train.next_batch(batch_size)\n",
    "            X_batch = X_batch.reshape((-1, n_steps, n_inputs))\n",
    "            sess.run(training_op, feed_dict= {X: X_batch, y: y_batch})\n",
    "        acc_train = accuracy.eval(feed_dict= {X: X_batch, y: y_batch})\n",
    "        acc_test = accuracy.eval(feed_dict={X: X_test, y:y_test})\n",
    "        print (epoch, \"Training accuracy:\", acc_train, \"Test accuracy: \", acc_test)"
   ]
  },
  {
   "cell_type": "code",
   "execution_count": 1,
   "metadata": {},
   "outputs": [],
   "source": [
    "import tensorflow as  tf\n",
    "import numpy as np\n"
   ]
  },
  {
   "cell_type": "code",
   "execution_count": 3,
   "metadata": {},
   "outputs": [
    {
     "name": "stderr",
     "output_type": "stream",
     "text": [
      "WARNING: Logging before flag parsing goes to stderr.\n",
      "W0828 18:21:10.660581 139827971036992 lazy_loader.py:50] \n",
      "The TensorFlow contrib module will not be included in TensorFlow 2.0.\n",
      "For more information, please see:\n",
      "  * https://github.com/tensorflow/community/blob/master/rfcs/20180907-contrib-sunset.md\n",
      "  * https://github.com/tensorflow/addons\n",
      "  * https://github.com/tensorflow/io (for I/O related ops)\n",
      "If you depend on functionality not listed there, please file an issue.\n",
      "\n",
      "W0828 18:21:10.661726 139827971036992 deprecation.py:323] From <ipython-input-3-3677a9768fc8>:9: BasicRNNCell.__init__ (from tensorflow.python.ops.rnn_cell_impl) is deprecated and will be removed in a future version.\n",
      "Instructions for updating:\n",
      "This class is equivalent as tf.keras.layers.SimpleRNNCell, and will be replaced by that in Tensorflow 2.0.\n",
      "W0828 18:21:10.662415 139827971036992 deprecation.py:323] From <ipython-input-3-3677a9768fc8>:10: dynamic_rnn (from tensorflow.python.ops.rnn) is deprecated and will be removed in a future version.\n",
      "Instructions for updating:\n",
      "Please use `keras.layers.RNN(cell)`, which is equivalent to this API\n",
      "W0828 18:21:10.759606 139827971036992 deprecation.py:506] From /root/anaconda3/lib/python3.7/site-packages/tensorflow/python/ops/init_ops.py:1251: calling VarianceScaling.__init__ (from tensorflow.python.ops.init_ops) with dtype is deprecated and will be removed in a future version.\n",
      "Instructions for updating:\n",
      "Call initializer instance with the dtype argument instead of passing it to the constructor\n",
      "W0828 18:21:10.767011 139827971036992 deprecation.py:506] From /root/anaconda3/lib/python3.7/site-packages/tensorflow/python/ops/rnn_cell_impl.py:459: calling Zeros.__init__ (from tensorflow.python.ops.init_ops) with dtype is deprecated and will be removed in a future version.\n",
      "Instructions for updating:\n",
      "Call initializer instance with the dtype argument instead of passing it to the constructor\n"
     ]
    }
   ],
   "source": [
    "n_steps = 20 \n",
    "n_inputs = 1\n",
    "n_neurons = 100\n",
    "n_outputs = 1\n",
    "\n",
    "X = tf.placeholder(tf.float32, [None, n_steps, n_inputs])\n",
    "y = tf.placeholder(tf.float32, [None, n_steps, n_outputs])\n",
    "\n",
    "cell = tf.contrib.rnn.BasicRNNCell(num_units=n_neurons, activation=tf.nn.relu)\n",
    "outputs, state = tf.nn.dynamic_rnn(cell, X, dtype = tf.float32)"
   ]
  },
  {
   "cell_type": "code",
   "execution_count": 4,
   "metadata": {},
   "outputs": [],
   "source": [
    "cell = tf.contrib.rnn.OutputProjectionWrapper(\n",
    "    tf.contrib.rnn.BasicRNNCell(num_units=n_neurons, activation=tf.nn.relu),\n",
    "    output_size = n_outputs)"
   ]
  },
  {
   "cell_type": "code",
   "execution_count": 5,
   "metadata": {},
   "outputs": [],
   "source": [
    "learning_rate = 0.001\n",
    "\n",
    "loss = tf.reduce_mean(tf.square(outputs - y))\n",
    "optimizer  =tf.train.AdamOptimizer(learning_rate=learning_rate)\n",
    "training_op =optimizer.minimize(loss)\n",
    "\n",
    "init = tf.global_variables_initializer()"
   ]
  },
  {
   "cell_type": "code",
   "execution_count": null,
   "metadata": {},
   "outputs": [],
   "source": [
    "#now the execution\n",
    "\n",
    "n_iterations = 1500\n",
    "batch_size = 50\n",
    "\n",
    "with tf.Session() as sess:\n",
    "    init.run()\n",
    "    for iteration in range(n_iterations):\n",
    "        X_batch, y_batch = ###fuck it\n",
    "        sess.run(training_op, feed_dict{X: X_batch, y:y_batch})\n",
    "        if iteration% 100 == 0 :\n",
    "            mse =loss.eval(feed_dict={X: X_batch,y: y_batch})\n",
    "            print(iteration, \"\\tMSE:\", mse)"
   ]
  },
  {
   "cell_type": "code",
   "execution_count": null,
   "metadata": {},
   "outputs": [],
   "source": [
    "X_new = ##[...]\n",
    "y_pred = sess.run(outputs, feed_dict={X: X_new})"
   ]
  },
  {
   "cell_type": "code",
   "execution_count": null,
   "metadata": {},
   "outputs": [],
   "source": []
  },
  {
   "cell_type": "code",
   "execution_count": 7,
   "metadata": {},
   "outputs": [
    {
     "name": "stderr",
     "output_type": "stream",
     "text": [
      "W0828 18:33:39.444575 139827971036992 deprecation.py:323] From <ipython-input-7-30994bfa2673>:13: MultiRNNCell.__init__ (from tensorflow.python.ops.rnn_cell_impl) is deprecated and will be removed in a future version.\n",
      "Instructions for updating:\n",
      "This class is equivalent as tf.keras.layers.StackedRNNCells, and will be replaced by that in Tensorflow 2.0.\n"
     ]
    }
   ],
   "source": [
    "#Deep RNN\n",
    "\n",
    "\n",
    "n_neurons = 100 \n",
    "n_layers = 3\n",
    "\n",
    "layers = [tf.contrib.rnn.BasicRNNCell(num_units=n_neurons,\n",
    "                                     activation=tf.nn.relu)\n",
    "         for layer in range(n_layers)]\n",
    "\n",
    "\n",
    "\n",
    "multi_layer_cell = tf.contrib.rnn.MultiRNNCell(layers)\n",
    "outputs, states = tf.nn.dynamic_rnn(multi_layer_cell, X, dtype=tf.float32)"
   ]
  },
  {
   "cell_type": "code",
   "execution_count": null,
   "metadata": {},
   "outputs": [],
   "source": []
  }
 ],
 "metadata": {
  "kernelspec": {
   "display_name": "Python 3",
   "language": "python",
   "name": "python3"
  },
  "language_info": {
   "codemirror_mode": {
    "name": "ipython",
    "version": 3
   },
   "file_extension": ".py",
   "mimetype": "text/x-python",
   "name": "python",
   "nbconvert_exporter": "python",
   "pygments_lexer": "ipython3",
   "version": "3.7.3"
  }
 },
 "nbformat": 4,
 "nbformat_minor": 2
}
