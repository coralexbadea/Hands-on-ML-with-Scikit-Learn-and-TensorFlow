{
 "cells": [
  {
   "cell_type": "code",
   "execution_count": 1,
   "metadata": {
    "colab": {},
    "colab_type": "code",
    "id": "f7y37gv_ZOGD"
   },
   "outputs": [],
   "source": [
    "import numpy as np\n",
    "import matplotlib.pyplot as plt\n",
    "from sklearn.linear_model import SGDRegressor,LinearRegression\n",
    "from sklearn.preprocessing import PolynomialFeatures\n",
    "\n",
    "from sklearn.metrics import mean_squared_error\n",
    "from sklearn.model_selection import train_test_split\n",
    "from sklearn.pipeline import Pipeline\n",
    "\n",
    "\n",
    "from sklearn.linear_model import Ridge\n",
    "from sklearn.linear_model import Lasso\n",
    "from sklearn.linear_model import ElasticNet\n",
    "\n",
    "from sklearn.base import clone\n",
    "\n",
    "\n",
    "\n",
    "from sklearn import datasets\n",
    "from sklearn.linear_model import LogisticRegression"
   ]
  },
  {
   "cell_type": "code",
   "execution_count": 3,
   "metadata": {
    "colab": {},
    "colab_type": "code",
    "id": "P0pQtOf3Z7Uz"
   },
   "outputs": [
    {
     "data": {
      "text/plain": [
       "array([[ 5.72135161],\n",
       "       [ 5.12404096],\n",
       "       [ 8.50429779],\n",
       "       [ 6.06274382],\n",
       "       [ 4.47671899],\n",
       "       [ 4.39854933],\n",
       "       [ 9.15287568],\n",
       "       [ 4.92387566],\n",
       "       [ 6.58732198],\n",
       "       [ 5.45051723],\n",
       "       [ 7.13874646],\n",
       "       [ 8.81158423],\n",
       "       [ 4.95202516],\n",
       "       [ 5.6710351 ],\n",
       "       [ 4.49387346],\n",
       "       [ 7.19264365],\n",
       "       [11.91195799],\n",
       "       [ 3.7701185 ],\n",
       "       [ 8.84243947],\n",
       "       [10.13114165],\n",
       "       [ 3.94620195],\n",
       "       [ 8.50486763],\n",
       "       [ 9.43786409],\n",
       "       [ 6.5603331 ],\n",
       "       [ 9.9148423 ],\n",
       "       [ 7.84841201],\n",
       "       [ 9.16825212],\n",
       "       [ 9.10386762],\n",
       "       [ 8.20603477],\n",
       "       [ 4.23132255],\n",
       "       [ 8.86504107],\n",
       "       [10.79579741],\n",
       "       [ 5.68864492],\n",
       "       [ 7.62698173],\n",
       "       [ 9.11640298],\n",
       "       [ 6.01503906],\n",
       "       [ 8.07978467],\n",
       "       [ 6.16246084],\n",
       "       [ 8.61487952],\n",
       "       [ 9.44654554],\n",
       "       [ 7.04117902],\n",
       "       [ 6.07631346],\n",
       "       [ 8.35347657],\n",
       "       [10.99797676],\n",
       "       [ 5.7717687 ],\n",
       "       [ 6.71251549],\n",
       "       [ 4.87263082],\n",
       "       [ 8.6463303 ],\n",
       "       [ 8.35166743],\n",
       "       [ 9.67589498],\n",
       "       [ 5.27804009],\n",
       "       [ 4.06800421],\n",
       "       [ 9.00033772],\n",
       "       [ 9.2544157 ],\n",
       "       [ 5.68924729],\n",
       "       [ 5.51694663],\n",
       "       [ 4.47852798],\n",
       "       [ 5.24581412],\n",
       "       [ 5.98702153],\n",
       "       [ 3.0098121 ],\n",
       "       [ 7.76089796],\n",
       "       [ 5.88059546],\n",
       "       [ 8.72216351],\n",
       "       [ 3.96945046],\n",
       "       [ 7.02832887],\n",
       "       [ 5.15509203],\n",
       "       [ 5.43950111],\n",
       "       [11.58272706],\n",
       "       [ 5.73222418],\n",
       "       [ 7.73451481],\n",
       "       [ 4.66831201],\n",
       "       [ 8.51985467],\n",
       "       [ 7.1686036 ],\n",
       "       [ 7.62908888],\n",
       "       [ 5.91100408],\n",
       "       [ 7.32526138],\n",
       "       [ 6.2489111 ],\n",
       "       [ 4.31305603],\n",
       "       [ 6.52303568],\n",
       "       [ 3.81042849],\n",
       "       [ 8.8804199 ],\n",
       "       [ 4.89067235],\n",
       "       [ 3.50202025],\n",
       "       [ 4.8921324 ],\n",
       "       [ 5.8473753 ],\n",
       "       [ 8.7679134 ],\n",
       "       [ 7.80001573],\n",
       "       [ 4.07189594],\n",
       "       [ 2.32330584],\n",
       "       [ 8.30618347],\n",
       "       [ 6.18508329],\n",
       "       [ 3.76084994],\n",
       "       [10.49837544],\n",
       "       [ 7.12413376],\n",
       "       [ 3.30538509],\n",
       "       [ 9.62167026],\n",
       "       [ 7.93451962],\n",
       "       [ 7.86010792],\n",
       "       [ 6.69188802],\n",
       "       [ 4.99867186]])"
      ]
     },
     "execution_count": 3,
     "metadata": {},
     "output_type": "execute_result"
    }
   ],
   "source": [
    "X = 2 * np.random.rand(100, 1)\n",
    "y = 4 + 3 * X + np.random.randn(100, 1)\n",
    "y"
   ]
  },
  {
   "cell_type": "code",
   "execution_count": 0,
   "metadata": {
    "colab": {},
    "colab_type": "code",
    "id": "Rb1n3Z3paydX"
   },
   "outputs": [],
   "source": [
    "X_b = np.c_[np.ones((len(X), 1)), X] # add x0 = 1 to each instance\n",
    "theta_best = np.linalg.inv(X_b.T.dot(X_b)).dot(X_b.T).dot(y)\n"
   ]
  },
  {
   "cell_type": "code",
   "execution_count": 0,
   "metadata": {
    "colab": {
     "base_uri": "https://localhost:8080/",
     "height": 52
    },
    "colab_type": "code",
    "executionInfo": {
     "elapsed": 1053,
     "status": "ok",
     "timestamp": 1563787546865,
     "user": {
      "displayName": "alex Badea",
      "photoUrl": "https://lh6.googleusercontent.com/-UvgZ9ljOPrw/AAAAAAAAAAI/AAAAAAAAAB0/2LDR9ixadk8/s64/photo.jpg",
      "userId": "00414702060140034735"
     },
     "user_tz": -180
    },
    "id": "D2o1ip1ichaT",
    "outputId": "e761f3e3-b7c7-48a2-f1b2-aee863246278"
   },
   "outputs": [
    {
     "data": {
      "text/plain": [
       "array([[3.81209878],\n",
       "       [3.15883583]])"
      ]
     },
     "execution_count": 42,
     "metadata": {
      "tags": []
     },
     "output_type": "execute_result"
    }
   ],
   "source": [
    "theta_best"
   ]
  },
  {
   "cell_type": "code",
   "execution_count": 0,
   "metadata": {
    "colab": {
     "base_uri": "https://localhost:8080/",
     "height": 52
    },
    "colab_type": "code",
    "executionInfo": {
     "elapsed": 821,
     "status": "ok",
     "timestamp": 1563818293320,
     "user": {
      "displayName": "alex Badea",
      "photoUrl": "https://lh6.googleusercontent.com/-UvgZ9ljOPrw/AAAAAAAAAAI/AAAAAAAAAB0/2LDR9ixadk8/s64/photo.jpg",
      "userId": "00414702060140034735"
     },
     "user_tz": -180
    },
    "id": "s1CuqEymeO_0",
    "outputId": "22c53bee-c5ca-4d85-f9c3-0bf7d223b6ea"
   },
   "outputs": [
    {
     "data": {
      "text/plain": [
       "array([[ 3.88631969],\n",
       "       [10.04505086]])"
      ]
     },
     "execution_count": 4,
     "metadata": {
      "tags": []
     },
     "output_type": "execute_result"
    }
   ],
   "source": [
    "X_new = np.array([[0],[2]])\n",
    "X_new_b = np.c_[np.ones((2,1)), X_new]\n",
    "y_predict = X_new_b.dot(theta_best)\n",
    "y_predict"
   ]
  },
  {
   "cell_type": "code",
   "execution_count": 0,
   "metadata": {
    "colab": {
     "base_uri": "https://localhost:8080/",
     "height": 270
    },
    "colab_type": "code",
    "executionInfo": {
     "elapsed": 912,
     "status": "ok",
     "timestamp": 1563778832414,
     "user": {
      "displayName": "alex Badea",
      "photoUrl": "https://lh6.googleusercontent.com/-UvgZ9ljOPrw/AAAAAAAAAAI/AAAAAAAAAB0/2LDR9ixadk8/s64/photo.jpg",
      "userId": "00414702060140034735"
     },
     "user_tz": -180
    },
    "id": "d6CziSW3eO9m",
    "outputId": "3df214bf-ee43-4664-e452-382b234f506f"
   },
   "outputs": [
    {
     "data": {
      "image/png": "[encoded data removed]",
      "text/plain": [
       "<Figure size 432x288 with 1 Axes>"
      ]
     },
     "metadata": {
      "tags": []
     },
     "output_type": "display_data"
    }
   ],
   "source": [
    "plt.plot(X_new, y_predict, \"r-\")\n",
    "plt.plot(X, y, \"b.\")\n",
    "plt.axis([0, 2, 0, 15])\n",
    "plt.show()"
   ]
  },
  {
   "cell_type": "code",
   "execution_count": 0,
   "metadata": {
    "colab": {},
    "colab_type": "code",
    "id": "U2libM9wsd_X"
   },
   "outputs": [],
   "source": [
    "eta = 0.1 # learning rate\n",
    "n_iterations = 1000\n",
    "m = len(X)\n",
    "theta = np.random.randn(2,1) # random initialization\n",
    "for iteration in range(n_iterations):\n",
    "  gradients = 2/m * X_b.T.dot(X_b.dot(theta) - y)\n",
    "  theta = theta - eta * gradients"
   ]
  },
  {
   "cell_type": "code",
   "execution_count": 0,
   "metadata": {
    "colab": {
     "base_uri": "https://localhost:8080/",
     "height": 52
    },
    "colab_type": "code",
    "executionInfo": {
     "elapsed": 1620,
     "status": "ok",
     "timestamp": 1563783068474,
     "user": {
      "displayName": "alex Badea",
      "photoUrl": "https://lh6.googleusercontent.com/-UvgZ9ljOPrw/AAAAAAAAAAI/AAAAAAAAAB0/2LDR9ixadk8/s64/photo.jpg",
      "userId": "00414702060140034735"
     },
     "user_tz": -180
    },
    "id": "0PH6fqf9sd9E",
    "outputId": "a145823d-b4eb-4a4e-a4bd-e470c095b654"
   },
   "outputs": [
    {
     "data": {
      "text/plain": [
       "array([[4.17346925],\n",
       "       [2.97731144]])"
      ]
     },
     "execution_count": 16,
     "metadata": {
      "tags": []
     },
     "output_type": "execute_result"
    }
   ],
   "source": [
    "theta"
   ]
  },
  {
   "cell_type": "code",
   "execution_count": 0,
   "metadata": {
    "colab": {},
    "colab_type": "code",
    "id": "8zGa7-Iosd3o"
   },
   "outputs": [],
   "source": [
    "n_epochs = 50\n",
    "t0, t1 = 5, 50 # learning schedule hyperparameters\n",
    "def learning_schedule(t):\n",
    "  return t0 / (t + t1)\n",
    "\n",
    "theta = np.random.randn(2,1) # random initialization\n",
    "for epoch in range(n_epochs):\n",
    "  for i in range(m):\n",
    "    random_index = np.random.randint(m)\n",
    "    xi = X_b[random_index:random_index+1]\n",
    "    yi = y[random_index:random_index+1]\n",
    "    gradients = 2 * xi.T.dot(xi.dot(theta) - yi)\n",
    "    eta = learning_schedule(epoch * m + i)\n",
    "    theta = theta - eta * gradients"
   ]
  },
  {
   "cell_type": "code",
   "execution_count": 0,
   "metadata": {
    "colab": {
     "base_uri": "https://localhost:8080/",
     "height": 52
    },
    "colab_type": "code",
    "executionInfo": {
     "elapsed": 883,
     "status": "ok",
     "timestamp": 1563784395830,
     "user": {
      "displayName": "alex Badea",
      "photoUrl": "https://lh6.googleusercontent.com/-UvgZ9ljOPrw/AAAAAAAAAAI/AAAAAAAAAB0/2LDR9ixadk8/s64/photo.jpg",
      "userId": "00414702060140034735"
     },
     "user_tz": -180
    },
    "id": "FLwknewWeO7b",
    "outputId": "acab9fe4-9ca5-4837-fbe8-6ed993cb3fde"
   },
   "outputs": [
    {
     "data": {
      "text/plain": [
       "array([[4.20928729],\n",
       "       [3.01766745]])"
      ]
     },
     "execution_count": 18,
     "metadata": {
      "tags": []
     },
     "output_type": "execute_result"
    }
   ],
   "source": [
    "theta"
   ]
  },
  {
   "cell_type": "code",
   "execution_count": 8,
   "metadata": {
    "colab": {
     "base_uri": "https://localhost:8080/",
     "height": 368
    },
    "colab_type": "code",
    "executionInfo": {
     "elapsed": 955,
     "status": "ok",
     "timestamp": 1563948750190,
     "user": {
      "displayName": "alex Badea",
      "photoUrl": "https://lh6.googleusercontent.com/-UvgZ9ljOPrw/AAAAAAAAAAI/AAAAAAAAAB0/2LDR9ixadk8/s64/photo.jpg",
      "userId": "00414702060140034735"
     },
     "user_tz": -180
    },
    "id": "Sf0luABam744",
    "outputId": "29903ab7-f30b-4e4f-f39b-43b85fcd3660"
   },
   "outputs": [
    {
     "data": {
      "text/plain": [
       "array([10.00011366,  9.4062907 ,  8.76321489,  5.43557401, 10.00502582,\n",
       "        3.32679626,  6.31435226,  5.39626   ,  5.62692711,  4.91095382,\n",
       "        6.71770706,  6.03071907,  4.26689776,  8.51041366,  5.07452153,\n",
       "        8.00631059,  3.14846243,  8.80648037,  5.98779412, 11.96885905,\n",
       "        6.11445771,  7.2278171 ,  8.55952701,  4.85969275,  4.16015655,\n",
       "        5.3377212 ,  5.3704967 ,  6.27763457,  8.61002365,  8.40880111,\n",
       "       10.56863277,  9.47473864,  5.81624047,  8.2701202 ,  8.56970636,\n",
       "        5.27680916,  4.54891873,  3.89418642,  6.329876  ,  7.97044187,\n",
       "        5.59926342,  6.30199117,  8.77872799,  9.79712396,  5.15494021,\n",
       "        5.75281231,  6.19552087,  6.10534467,  5.62431026,  7.26216026,\n",
       "        6.70263679,  8.99488218,  6.83190415,  8.33114649,  8.28144979,\n",
       "        9.37118277,  3.95995101,  5.54960715,  7.0410823 ,  7.72756038,\n",
       "        3.75873736,  3.82792669,  5.39855923,  4.71251294,  7.32787183,\n",
       "        4.25048647,  7.36563885,  3.89097302,  6.22932835, 10.0435558 ,\n",
       "        5.9520685 ,  9.18487526,  5.01293465,  6.98723481,  7.4427203 ,\n",
       "        8.12946238,  8.8824731 ,  9.85116951,  6.84978828,  3.36106969,\n",
       "        8.5286401 ,  6.56106554,  6.84724966,  5.70844243,  4.00535623,\n",
       "        9.82545268,  8.1215438 ,  6.52438027,  9.60180284,  7.23829923,\n",
       "        5.55142963,  6.24186171, 10.21418718,  7.2743839 ,  8.86899982,\n",
       "        6.97385333, 11.44962609,  8.95135114,  9.33362174,  6.37356076])"
      ]
     },
     "execution_count": 8,
     "metadata": {
      "tags": []
     },
     "output_type": "execute_result"
    }
   ],
   "source": [
    "y.ravel()"
   ]
  },
  {
   "cell_type": "code",
   "execution_count": 0,
   "metadata": {
    "colab": {
     "base_uri": "https://localhost:8080/",
     "height": 155
    },
    "colab_type": "code",
    "executionInfo": {
     "elapsed": 795,
     "status": "ok",
     "timestamp": 1563784662583,
     "user": {
      "displayName": "alex Badea",
      "photoUrl": "https://lh6.googleusercontent.com/-UvgZ9ljOPrw/AAAAAAAAAAI/AAAAAAAAAB0/2LDR9ixadk8/s64/photo.jpg",
      "userId": "00414702060140034735"
     },
     "user_tz": -180
    },
    "id": "mIKWMDYs0rFQ",
    "outputId": "5ca7815c-1f59-47b9-af7c-451267f69d18"
   },
   "outputs": [
    {
     "data": {
      "text/plain": [
       "SGDRegressor(alpha=0.0001, average=False, early_stopping=False, epsilon=0.1,\n",
       "             eta0=0.1, fit_intercept=True, l1_ratio=0.15,\n",
       "             learning_rate='invscaling', loss='squared_loss', max_iter=1000,\n",
       "             n_iter_no_change=5, penalty=None, power_t=0.25, random_state=None,\n",
       "             shuffle=True, tol=0.001, validation_fraction=0.1, verbose=0,\n",
       "             warm_start=False)"
      ]
     },
     "execution_count": 25,
     "metadata": {
      "tags": []
     },
     "output_type": "execute_result"
    }
   ],
   "source": [
    "#in scikit-learn:\n",
    "sgd_reg = SGDRegressor( penalty=None, eta0=0.1)\n",
    "sgd_reg.fit(X, y.ravel())"
   ]
  },
  {
   "cell_type": "code",
   "execution_count": 0,
   "metadata": {
    "colab": {
     "base_uri": "https://localhost:8080/",
     "height": 35
    },
    "colab_type": "code",
    "executionInfo": {
     "elapsed": 793,
     "status": "ok",
     "timestamp": 1563784665671,
     "user": {
      "displayName": "alex Badea",
      "photoUrl": "https://lh6.googleusercontent.com/-UvgZ9ljOPrw/AAAAAAAAAAI/AAAAAAAAAB0/2LDR9ixadk8/s64/photo.jpg",
      "userId": "00414702060140034735"
     },
     "user_tz": -180
    },
    "id": "9GYl2kh10rN0",
    "outputId": "bad8d09f-3fce-43a6-9ae8-69df27f544d2"
   },
   "outputs": [
    {
     "data": {
      "text/plain": [
       "(array([4.18909371]), array([3.03533009]))"
      ]
     },
     "execution_count": 26,
     "metadata": {
      "tags": []
     },
     "output_type": "execute_result"
    }
   ],
   "source": [
    "sgd_reg.intercept_, sgd_reg.coef_"
   ]
  },
  {
   "cell_type": "code",
   "execution_count": 0,
   "metadata": {
    "colab": {},
    "colab_type": "code",
    "id": "Z9nOY0Cl7mbj"
   },
   "outputs": [],
   "source": [
    "#polynomial regresion\n",
    "m = 100\n",
    "X = 6 * np.random.rand(m, 1) - 3\n",
    "y = 0.5 * X**2 + X + 2 + np.random.randn(m, 1)"
   ]
  },
  {
   "cell_type": "code",
   "execution_count": 0,
   "metadata": {
    "colab": {},
    "colab_type": "code",
    "id": "wRUZ9_Gg7mhL"
   },
   "outputs": [],
   "source": [
    "poly_features = PolynomialFeatures(degree=2, include_bias=False)\n",
    "X_poly = poly_features.fit_transform(X)"
   ]
  },
  {
   "cell_type": "code",
   "execution_count": 0,
   "metadata": {
    "colab": {
     "base_uri": "https://localhost:8080/",
     "height": 35
    },
    "colab_type": "code",
    "executionInfo": {
     "elapsed": 1097,
     "status": "ok",
     "timestamp": 1563787561777,
     "user": {
      "displayName": "alex Badea",
      "photoUrl": "https://lh6.googleusercontent.com/-UvgZ9ljOPrw/AAAAAAAAAAI/AAAAAAAAAB0/2LDR9ixadk8/s64/photo.jpg",
      "userId": "00414702060140034735"
     },
     "user_tz": -180
    },
    "id": "jgKJE3la7moQ",
    "outputId": "da969436-d0b5-41a9-ac9a-2431fd7c9af8"
   },
   "outputs": [
    {
     "data": {
      "text/plain": [
       "(array([4.39869527]), array([[1.53191573, 0.77968366]]))"
      ]
     },
     "execution_count": 45,
     "metadata": {
      "tags": []
     },
     "output_type": "execute_result"
    }
   ],
   "source": [
    "lin_reg = LinearRegression()\n",
    "lin_reg.fit(X_poly, y)\n",
    "lin_reg.intercept_, lin_reg.coef_# y = 0.5x^2 + 1.0 *x + 2.0 + Gaussioan noise"
   ]
  },
  {
   "cell_type": "code",
   "execution_count": 0,
   "metadata": {
    "colab": {},
    "colab_type": "code",
    "id": "MRF3SsQo7mfZ"
   },
   "outputs": [],
   "source": [
    "def plot_learning_curves(model, X, y):\n",
    "  X_train, X_val, y_train, y_val = train_test_split(X, y, test_size=0.2)\n",
    "  train_errors, val_errors = [], []\n",
    "  for m in range(1, len(X_train)):\n",
    "    model.fit(X_train[:m], y_train[:m])\n",
    "    y_train_predict = model.predict(X_train[:m])\n",
    "    y_val_predict = model.predict(X_val)\n",
    "    train_errors.append(mean_squared_error(y_train_predict, y_train[:m]))\n",
    "    val_errors.append(mean_squared_error(y_val_predict, y_val))\n",
    "  plt.plot(np.sqrt(train_errors), \"r-+\", linewidth=2, label=\"train\")\n",
    "  plt.plot(np.sqrt(val_errors), \"b-\", linewidth=3, label=\"val\")"
   ]
  },
  {
   "cell_type": "code",
   "execution_count": 0,
   "metadata": {
    "colab": {
     "base_uri": "https://localhost:8080/",
     "height": 270
    },
    "colab_type": "code",
    "executionInfo": {
     "elapsed": 948,
     "status": "ok",
     "timestamp": 1563818605197,
     "user": {
      "displayName": "alex Badea",
      "photoUrl": "https://lh6.googleusercontent.com/-UvgZ9ljOPrw/AAAAAAAAAAI/AAAAAAAAAB0/2LDR9ixadk8/s64/photo.jpg",
      "userId": "00414702060140034735"
     },
     "user_tz": -180
    },
    "id": "Bij1BG1M7mZO",
    "outputId": "2598ce91-7aa4-4934-b4c0-cce6816fd19d"
   },
   "outputs": [
    {
     "data": {
      "image/png": "[encoded data removed]",
      "text/plain": [
       "<Figure size 432x288 with 1 Axes>"
      ]
     },
     "metadata": {
      "tags": []
     },
     "output_type": "display_data"
    }
   ],
   "source": [
    "lin_reg = LinearRegression()\n",
    "plot_learning_curves(lin_reg, X, y)\n"
   ]
  },
  {
   "cell_type": "code",
   "execution_count": 0,
   "metadata": {
    "colab": {
     "base_uri": "https://localhost:8080/",
     "height": 270
    },
    "colab_type": "code",
    "executionInfo": {
     "elapsed": 947,
     "status": "ok",
     "timestamp": 1563787749239,
     "user": {
      "displayName": "alex Badea",
      "photoUrl": "https://lh6.googleusercontent.com/-UvgZ9ljOPrw/AAAAAAAAAAI/AAAAAAAAAB0/2LDR9ixadk8/s64/photo.jpg",
      "userId": "00414702060140034735"
     },
     "user_tz": -180
    },
    "id": "tcnrtfgV0rLx",
    "outputId": "0a21f99d-22cc-41e0-8ad4-0a501bbb3b23"
   },
   "outputs": [
    {
     "data": {
      "image/png": "[encoded data removed]",
      "text/plain": [
       "<Figure size 432x288 with 1 Axes>"
      ]
     },
     "metadata": {
      "tags": []
     },
     "output_type": "display_data"
    }
   ],
   "source": [
    "polynomial_regression = Pipeline((\n",
    "(\"poly_features\", PolynomialFeatures(degree=10, include_bias=False)),\n",
    "(\"sgd_reg\", LinearRegression()),\n",
    "))\n",
    "axes = plt.gca()\n",
    "axes.set_xlim([0,50])\n",
    "axes.set_ylim([0,20])\n",
    "plot_learning_curves(polynomial_regression, X, y)"
   ]
  },
  {
   "cell_type": "code",
   "execution_count": 0,
   "metadata": {
    "colab": {
     "base_uri": "https://localhost:8080/",
     "height": 35
    },
    "colab_type": "code",
    "executionInfo": {
     "elapsed": 1162,
     "status": "ok",
     "timestamp": 1563804056033,
     "user": {
      "displayName": "alex Badea",
      "photoUrl": "https://lh6.googleusercontent.com/-UvgZ9ljOPrw/AAAAAAAAAAI/AAAAAAAAAB0/2LDR9ixadk8/s64/photo.jpg",
      "userId": "00414702060140034735"
     },
     "user_tz": -180
    },
    "id": "mFO9hdSp-m8-",
    "outputId": "be90a3d8-b575-4135-8073-c5befa68ab8a"
   },
   "outputs": [
    {
     "data": {
      "text/plain": [
       "array([[8.5106111]])"
      ]
     },
     "execution_count": 62,
     "metadata": {
      "tags": []
     },
     "output_type": "execute_result"
    }
   ],
   "source": [
    "#Ridge Regression \n",
    "#using  matrix factorisation technique by Andre-Louis Cholesky\n",
    "ridge_reg = Ridge(alpha=1, solver=\"cholesky\")\n",
    "ridge_reg.fit(X, y)\n",
    "ridge_reg.predict([[1.5]])"
   ]
  },
  {
   "cell_type": "code",
   "execution_count": 0,
   "metadata": {
    "colab": {
     "base_uri": "https://localhost:8080/",
     "height": 35
    },
    "colab_type": "code",
    "executionInfo": {
     "elapsed": 536,
     "status": "ok",
     "timestamp": 1563804056482,
     "user": {
      "displayName": "alex Badea",
      "photoUrl": "https://lh6.googleusercontent.com/-UvgZ9ljOPrw/AAAAAAAAAAI/AAAAAAAAAB0/2LDR9ixadk8/s64/photo.jpg",
      "userId": "00414702060140034735"
     },
     "user_tz": -180
    },
    "id": "neRdlB3r-m3j",
    "outputId": "3d0450b2-2156-4a99-e712-e530f9fd447a"
   },
   "outputs": [
    {
     "data": {
      "text/plain": [
       "array([8.62774973])"
      ]
     },
     "execution_count": 63,
     "metadata": {
      "tags": []
     },
     "output_type": "execute_result"
    }
   ],
   "source": [
    "#sing Stochastic Gradient Descent \n",
    "sgd_reg = SGDRegressor(penalty=\"l2\")\n",
    "sgd_reg.fit(X, y.ravel())\n",
    "sgd_reg.predict([[1.5]])"
   ]
  },
  {
   "cell_type": "code",
   "execution_count": 0,
   "metadata": {
    "colab": {
     "base_uri": "https://localhost:8080/",
     "height": 35
    },
    "colab_type": "code",
    "executionInfo": {
     "elapsed": 792,
     "status": "ok",
     "timestamp": 1563806165608,
     "user": {
      "displayName": "alex Badea",
      "photoUrl": "https://lh6.googleusercontent.com/-UvgZ9ljOPrw/AAAAAAAAAAI/AAAAAAAAAB0/2LDR9ixadk8/s64/photo.jpg",
      "userId": "00414702060140034735"
     },
     "user_tz": -180
    },
    "id": "UJenUrgg-myW",
    "outputId": "081e3169-6145-492a-e985-d9ae2897ddd9"
   },
   "outputs": [
    {
     "data": {
      "text/plain": [
       "array([8.4207944])"
      ]
     },
     "execution_count": 66,
     "metadata": {
      "tags": []
     },
     "output_type": "execute_result"
    }
   ],
   "source": [
    "lasso_reg = Lasso(alpha=0.1)\n",
    "lasso_reg.fit(X, y)\n",
    "lasso_reg.predict([[1.5]])"
   ]
  },
  {
   "cell_type": "code",
   "execution_count": 0,
   "metadata": {
    "colab": {
     "base_uri": "https://localhost:8080/",
     "height": 35
    },
    "colab_type": "code",
    "executionInfo": {
     "elapsed": 1028,
     "status": "ok",
     "timestamp": 1563806562404,
     "user": {
      "displayName": "alex Badea",
      "photoUrl": "https://lh6.googleusercontent.com/-UvgZ9ljOPrw/AAAAAAAAAAI/AAAAAAAAAB0/2LDR9ixadk8/s64/photo.jpg",
      "userId": "00414702060140034735"
     },
     "user_tz": -180
    },
    "id": "8nNeeGuc-ms0",
    "outputId": "d89b8e3c-35d8-431d-87f1-e79c7dd91c86"
   },
   "outputs": [
    {
     "data": {
      "text/plain": [
       "array([8.31587194])"
      ]
     },
     "execution_count": 69,
     "metadata": {
      "tags": []
     },
     "output_type": "execute_result"
    }
   ],
   "source": [
    "elastic_net = ElasticNet(alpha=0.1, l1_ratio=0.5)\n",
    "elastic_net.fit(X, y)\n",
    "elastic_net.predict([[1.5]])"
   ]
  },
  {
   "cell_type": "code",
   "execution_count": 0,
   "metadata": {
    "colab": {
     "base_uri": "https://localhost:8080/",
     "height": 257
    },
    "colab_type": "code",
    "executionInfo": {
     "elapsed": 981,
     "status": "error",
     "timestamp": 1563866817796,
     "user": {
      "displayName": "alex Badea",
      "photoUrl": "https://lh6.googleusercontent.com/-UvgZ9ljOPrw/AAAAAAAAAAI/AAAAAAAAAB0/2LDR9ixadk8/s64/photo.jpg",
      "userId": "00414702060140034735"
     },
     "user_tz": -180
    },
    "id": "ypEHzWbZ-mll",
    "outputId": "67e4a0b3-423e-4bf5-bdc6-037ca50a1886"
   },
   "outputs": [
    {
     "ename": "NameError",
     "evalue": "ignored",
     "output_type": "error",
     "traceback": [
      "\u001b[0;31m---------------------------------------------------------------------------\u001b[0m",
      "\u001b[0;31mNameError\u001b[0m                                 Traceback (most recent call last)",
      "\u001b[0;32m<ipython-input-1-9b04c9279186>\u001b[0m in \u001b[0;36m<module>\u001b[0;34m()\u001b[0m\n\u001b[0;32m----> 1\u001b[0;31m \u001b[0mX_train\u001b[0m\u001b[0;34m,\u001b[0m \u001b[0mX_val\u001b[0m\u001b[0;34m,\u001b[0m \u001b[0my_train\u001b[0m\u001b[0;34m,\u001b[0m \u001b[0my_val\u001b[0m \u001b[0;34m=\u001b[0m \u001b[0mtrain_test_split\u001b[0m\u001b[0;34m(\u001b[0m\u001b[0mX\u001b[0m\u001b[0;34m,\u001b[0m \u001b[0my\u001b[0m\u001b[0;34m,\u001b[0m \u001b[0mtest_size\u001b[0m\u001b[0;34m=\u001b[0m\u001b[0;36m0.2\u001b[0m\u001b[0;34m)\u001b[0m\u001b[0;34m\u001b[0m\u001b[0;34m\u001b[0m\u001b[0m\n\u001b[0m\u001b[1;32m      2\u001b[0m sgd_reg = SGDRegressor(max_iter=1, warm_start=True, penalty=None,\n\u001b[1;32m      3\u001b[0m                         learning_rate=\"constant\", eta0=0.0005)\n\u001b[1;32m      4\u001b[0m \u001b[0mminimum_val_error\u001b[0m \u001b[0;34m=\u001b[0m \u001b[0mfloat\u001b[0m\u001b[0;34m(\u001b[0m\u001b[0;34m\"inf\"\u001b[0m\u001b[0;34m)\u001b[0m\u001b[0;34m\u001b[0m\u001b[0;34m\u001b[0m\u001b[0m\n\u001b[1;32m      5\u001b[0m \u001b[0mbest_epoch\u001b[0m \u001b[0;34m=\u001b[0m \u001b[0;32mNone\u001b[0m\u001b[0;34m\u001b[0m\u001b[0;34m\u001b[0m\u001b[0m\n",
      "\u001b[0;31mNameError\u001b[0m: name 'train_test_split' is not defined"
     ]
    }
   ],
   "source": [
    "X_train, X_val, y_train, y_val = train_test_split(X, y, test_size=0.2)\n",
    "sgd_reg = SGDRegressor(max_iter=1, warm_start=True, penalty=None,\n",
    "                        learning_rate=\"constant\", eta0=0.0005)\n",
    "minimum_val_error = float(\"inf\")\n",
    "best_epoch = None\n",
    "best_model = None\n",
    "for epoch in range(1000):\n",
    "  sgd_reg.fit(X_train, y_train) # continues where it left off\n",
    "  y_val_predict = sgd_reg.predict(X_val)\n",
    "  val_error = mean_squared_error(y_val_predict, y_val)\n",
    "  if val_error < minimum_val_error:\n",
    "    minimum_val_error = val_error\n",
    "    best_epoch = epoch\n",
    "    best_model = clone(sgd_reg)\n",
    "    \n",
    "best_model"
   ]
  },
  {
   "cell_type": "code",
   "execution_count": 0,
   "metadata": {
    "colab": {},
    "colab_type": "code",
    "id": "YZRtakXtvkZV"
   },
   "outputs": [],
   "source": []
  },
  {
   "cell_type": "code",
   "execution_count": 11,
   "metadata": {
    "colab": {
     "base_uri": "https://localhost:8080/",
     "height": 35
    },
    "colab_type": "code",
    "executionInfo": {
     "elapsed": 1997,
     "status": "ok",
     "timestamp": 1563951115876,
     "user": {
      "displayName": "alex Badea",
      "photoUrl": "https://lh6.googleusercontent.com/-UvgZ9ljOPrw/AAAAAAAAAAI/AAAAAAAAAB0/2LDR9ixadk8/s64/photo.jpg",
      "userId": "00414702060140034735"
     },
     "user_tz": -180
    },
    "id": "jyQJ3ZjSumG4",
    "outputId": "04251459-763a-4806-a698-59826012d423"
   },
   "outputs": [
    {
     "data": {
      "text/plain": [
       "['data', 'target', 'target_names', 'DESCR', 'feature_names', 'filename']"
      ]
     },
     "execution_count": 11,
     "metadata": {
      "tags": []
     },
     "output_type": "execute_result"
    }
   ],
   "source": [
    "iris = datasets.load_iris()\n",
    "list(iris.keys())"
   ]
  },
  {
   "cell_type": "code",
   "execution_count": 17,
   "metadata": {
    "colab": {
     "base_uri": "https://localhost:8080/",
     "height": 1000
    },
    "colab_type": "code",
    "executionInfo": {
     "elapsed": 1176,
     "status": "ok",
     "timestamp": 1563951205664,
     "user": {
      "displayName": "alex Badea",
      "photoUrl": "https://lh6.googleusercontent.com/-UvgZ9ljOPrw/AAAAAAAAAAI/AAAAAAAAAB0/2LDR9ixadk8/s64/photo.jpg",
      "userId": "00414702060140034735"
     },
     "user_tz": -180
    },
    "id": "r3ARUwZLul_0",
    "outputId": "aca2b044-019f-4caa-cc37-ba36edeb82cf"
   },
   "outputs": [
    {
     "data": {
      "text/plain": [
       "array([[5.1, 3.5, 1.4, 0.2],\n",
       "       [4.9, 3. , 1.4, 0.2],\n",
       "       [4.7, 3.2, 1.3, 0.2],\n",
       "       [4.6, 3.1, 1.5, 0.2],\n",
       "       [5. , 3.6, 1.4, 0.2],\n",
       "       [5.4, 3.9, 1.7, 0.4],\n",
       "       [4.6, 3.4, 1.4, 0.3],\n",
       "       [5. , 3.4, 1.5, 0.2],\n",
       "       [4.4, 2.9, 1.4, 0.2],\n",
       "       [4.9, 3.1, 1.5, 0.1],\n",
       "       [5.4, 3.7, 1.5, 0.2],\n",
       "       [4.8, 3.4, 1.6, 0.2],\n",
       "       [4.8, 3. , 1.4, 0.1],\n",
       "       [4.3, 3. , 1.1, 0.1],\n",
       "       [5.8, 4. , 1.2, 0.2],\n",
       "       [5.7, 4.4, 1.5, 0.4],\n",
       "       [5.4, 3.9, 1.3, 0.4],\n",
       "       [5.1, 3.5, 1.4, 0.3],\n",
       "       [5.7, 3.8, 1.7, 0.3],\n",
       "       [5.1, 3.8, 1.5, 0.3],\n",
       "       [5.4, 3.4, 1.7, 0.2],\n",
       "       [5.1, 3.7, 1.5, 0.4],\n",
       "       [4.6, 3.6, 1. , 0.2],\n",
       "       [5.1, 3.3, 1.7, 0.5],\n",
       "       [4.8, 3.4, 1.9, 0.2],\n",
       "       [5. , 3. , 1.6, 0.2],\n",
       "       [5. , 3.4, 1.6, 0.4],\n",
       "       [5.2, 3.5, 1.5, 0.2],\n",
       "       [5.2, 3.4, 1.4, 0.2],\n",
       "       [4.7, 3.2, 1.6, 0.2],\n",
       "       [4.8, 3.1, 1.6, 0.2],\n",
       "       [5.4, 3.4, 1.5, 0.4],\n",
       "       [5.2, 4.1, 1.5, 0.1],\n",
       "       [5.5, 4.2, 1.4, 0.2],\n",
       "       [4.9, 3.1, 1.5, 0.2],\n",
       "       [5. , 3.2, 1.2, 0.2],\n",
       "       [5.5, 3.5, 1.3, 0.2],\n",
       "       [4.9, 3.6, 1.4, 0.1],\n",
       "       [4.4, 3. , 1.3, 0.2],\n",
       "       [5.1, 3.4, 1.5, 0.2],\n",
       "       [5. , 3.5, 1.3, 0.3],\n",
       "       [4.5, 2.3, 1.3, 0.3],\n",
       "       [4.4, 3.2, 1.3, 0.2],\n",
       "       [5. , 3.5, 1.6, 0.6],\n",
       "       [5.1, 3.8, 1.9, 0.4],\n",
       "       [4.8, 3. , 1.4, 0.3],\n",
       "       [5.1, 3.8, 1.6, 0.2],\n",
       "       [4.6, 3.2, 1.4, 0.2],\n",
       "       [5.3, 3.7, 1.5, 0.2],\n",
       "       [5. , 3.3, 1.4, 0.2],\n",
       "       [7. , 3.2, 4.7, 1.4],\n",
       "       [6.4, 3.2, 4.5, 1.5],\n",
       "       [6.9, 3.1, 4.9, 1.5],\n",
       "       [5.5, 2.3, 4. , 1.3],\n",
       "       [6.5, 2.8, 4.6, 1.5],\n",
       "       [5.7, 2.8, 4.5, 1.3],\n",
       "       [6.3, 3.3, 4.7, 1.6],\n",
       "       [4.9, 2.4, 3.3, 1. ],\n",
       "       [6.6, 2.9, 4.6, 1.3],\n",
       "       [5.2, 2.7, 3.9, 1.4],\n",
       "       [5. , 2. , 3.5, 1. ],\n",
       "       [5.9, 3. , 4.2, 1.5],\n",
       "       [6. , 2.2, 4. , 1. ],\n",
       "       [6.1, 2.9, 4.7, 1.4],\n",
       "       [5.6, 2.9, 3.6, 1.3],\n",
       "       [6.7, 3.1, 4.4, 1.4],\n",
       "       [5.6, 3. , 4.5, 1.5],\n",
       "       [5.8, 2.7, 4.1, 1. ],\n",
       "       [6.2, 2.2, 4.5, 1.5],\n",
       "       [5.6, 2.5, 3.9, 1.1],\n",
       "       [5.9, 3.2, 4.8, 1.8],\n",
       "       [6.1, 2.8, 4. , 1.3],\n",
       "       [6.3, 2.5, 4.9, 1.5],\n",
       "       [6.1, 2.8, 4.7, 1.2],\n",
       "       [6.4, 2.9, 4.3, 1.3],\n",
       "       [6.6, 3. , 4.4, 1.4],\n",
       "       [6.8, 2.8, 4.8, 1.4],\n",
       "       [6.7, 3. , 5. , 1.7],\n",
       "       [6. , 2.9, 4.5, 1.5],\n",
       "       [5.7, 2.6, 3.5, 1. ],\n",
       "       [5.5, 2.4, 3.8, 1.1],\n",
       "       [5.5, 2.4, 3.7, 1. ],\n",
       "       [5.8, 2.7, 3.9, 1.2],\n",
       "       [6. , 2.7, 5.1, 1.6],\n",
       "       [5.4, 3. , 4.5, 1.5],\n",
       "       [6. , 3.4, 4.5, 1.6],\n",
       "       [6.7, 3.1, 4.7, 1.5],\n",
       "       [6.3, 2.3, 4.4, 1.3],\n",
       "       [5.6, 3. , 4.1, 1.3],\n",
       "       [5.5, 2.5, 4. , 1.3],\n",
       "       [5.5, 2.6, 4.4, 1.2],\n",
       "       [6.1, 3. , 4.6, 1.4],\n",
       "       [5.8, 2.6, 4. , 1.2],\n",
       "       [5. , 2.3, 3.3, 1. ],\n",
       "       [5.6, 2.7, 4.2, 1.3],\n",
       "       [5.7, 3. , 4.2, 1.2],\n",
       "       [5.7, 2.9, 4.2, 1.3],\n",
       "       [6.2, 2.9, 4.3, 1.3],\n",
       "       [5.1, 2.5, 3. , 1.1],\n",
       "       [5.7, 2.8, 4.1, 1.3],\n",
       "       [6.3, 3.3, 6. , 2.5],\n",
       "       [5.8, 2.7, 5.1, 1.9],\n",
       "       [7.1, 3. , 5.9, 2.1],\n",
       "       [6.3, 2.9, 5.6, 1.8],\n",
       "       [6.5, 3. , 5.8, 2.2],\n",
       "       [7.6, 3. , 6.6, 2.1],\n",
       "       [4.9, 2.5, 4.5, 1.7],\n",
       "       [7.3, 2.9, 6.3, 1.8],\n",
       "       [6.7, 2.5, 5.8, 1.8],\n",
       "       [7.2, 3.6, 6.1, 2.5],\n",
       "       [6.5, 3.2, 5.1, 2. ],\n",
       "       [6.4, 2.7, 5.3, 1.9],\n",
       "       [6.8, 3. , 5.5, 2.1],\n",
       "       [5.7, 2.5, 5. , 2. ],\n",
       "       [5.8, 2.8, 5.1, 2.4],\n",
       "       [6.4, 3.2, 5.3, 2.3],\n",
       "       [6.5, 3. , 5.5, 1.8],\n",
       "       [7.7, 3.8, 6.7, 2.2],\n",
       "       [7.7, 2.6, 6.9, 2.3],\n",
       "       [6. , 2.2, 5. , 1.5],\n",
       "       [6.9, 3.2, 5.7, 2.3],\n",
       "       [5.6, 2.8, 4.9, 2. ],\n",
       "       [7.7, 2.8, 6.7, 2. ],\n",
       "       [6.3, 2.7, 4.9, 1.8],\n",
       "       [6.7, 3.3, 5.7, 2.1],\n",
       "       [7.2, 3.2, 6. , 1.8],\n",
       "       [6.2, 2.8, 4.8, 1.8],\n",
       "       [6.1, 3. , 4.9, 1.8],\n",
       "       [6.4, 2.8, 5.6, 2.1],\n",
       "       [7.2, 3. , 5.8, 1.6],\n",
       "       [7.4, 2.8, 6.1, 1.9],\n",
       "       [7.9, 3.8, 6.4, 2. ],\n",
       "       [6.4, 2.8, 5.6, 2.2],\n",
       "       [6.3, 2.8, 5.1, 1.5],\n",
       "       [6.1, 2.6, 5.6, 1.4],\n",
       "       [7.7, 3. , 6.1, 2.3],\n",
       "       [6.3, 3.4, 5.6, 2.4],\n",
       "       [6.4, 3.1, 5.5, 1.8],\n",
       "       [6. , 3. , 4.8, 1.8],\n",
       "       [6.9, 3.1, 5.4, 2.1],\n",
       "       [6.7, 3.1, 5.6, 2.4],\n",
       "       [6.9, 3.1, 5.1, 2.3],\n",
       "       [5.8, 2.7, 5.1, 1.9],\n",
       "       [6.8, 3.2, 5.9, 2.3],\n",
       "       [6.7, 3.3, 5.7, 2.5],\n",
       "       [6.7, 3. , 5.2, 2.3],\n",
       "       [6.3, 2.5, 5. , 1.9],\n",
       "       [6.5, 3. , 5.2, 2. ],\n",
       "       [6.2, 3.4, 5.4, 2.3],\n",
       "       [5.9, 3. , 5.1, 1.8]])"
      ]
     },
     "execution_count": 17,
     "metadata": {
      "tags": []
     },
     "output_type": "execute_result"
    }
   ],
   "source": [
    "X = iris[\"data\"][:, 3:] # petal width\n",
    "y = (iris[\"target\"] == 2).astype(np.int) # 1 if Iris-Virginica, else 0\n",
    "iris[\"data\"]"
   ]
  },
  {
   "cell_type": "code",
   "execution_count": 18,
   "metadata": {
    "colab": {
     "base_uri": "https://localhost:8080/",
     "height": 1000
    },
    "colab_type": "code",
    "executionInfo": {
     "elapsed": 939,
     "status": "ok",
     "timestamp": 1563951212688,
     "user": {
      "displayName": "alex Badea",
      "photoUrl": "https://lh6.googleusercontent.com/-UvgZ9ljOPrw/AAAAAAAAAAI/AAAAAAAAAB0/2LDR9ixadk8/s64/photo.jpg",
      "userId": "00414702060140034735"
     },
     "user_tz": -180
    },
    "id": "gYblO2GQwMun",
    "outputId": "cf411427-2c13-4eb5-c66b-825a1cbf8393"
   },
   "outputs": [
    {
     "data": {
      "text/plain": [
       "array([[0.2],\n",
       "       [0.2],\n",
       "       [0.2],\n",
       "       [0.2],\n",
       "       [0.2],\n",
       "       [0.4],\n",
       "       [0.3],\n",
       "       [0.2],\n",
       "       [0.2],\n",
       "       [0.1],\n",
       "       [0.2],\n",
       "       [0.2],\n",
       "       [0.1],\n",
       "       [0.1],\n",
       "       [0.2],\n",
       "       [0.4],\n",
       "       [0.4],\n",
       "       [0.3],\n",
       "       [0.3],\n",
       "       [0.3],\n",
       "       [0.2],\n",
       "       [0.4],\n",
       "       [0.2],\n",
       "       [0.5],\n",
       "       [0.2],\n",
       "       [0.2],\n",
       "       [0.4],\n",
       "       [0.2],\n",
       "       [0.2],\n",
       "       [0.2],\n",
       "       [0.2],\n",
       "       [0.4],\n",
       "       [0.1],\n",
       "       [0.2],\n",
       "       [0.2],\n",
       "       [0.2],\n",
       "       [0.2],\n",
       "       [0.1],\n",
       "       [0.2],\n",
       "       [0.2],\n",
       "       [0.3],\n",
       "       [0.3],\n",
       "       [0.2],\n",
       "       [0.6],\n",
       "       [0.4],\n",
       "       [0.3],\n",
       "       [0.2],\n",
       "       [0.2],\n",
       "       [0.2],\n",
       "       [0.2],\n",
       "       [1.4],\n",
       "       [1.5],\n",
       "       [1.5],\n",
       "       [1.3],\n",
       "       [1.5],\n",
       "       [1.3],\n",
       "       [1.6],\n",
       "       [1. ],\n",
       "       [1.3],\n",
       "       [1.4],\n",
       "       [1. ],\n",
       "       [1.5],\n",
       "       [1. ],\n",
       "       [1.4],\n",
       "       [1.3],\n",
       "       [1.4],\n",
       "       [1.5],\n",
       "       [1. ],\n",
       "       [1.5],\n",
       "       [1.1],\n",
       "       [1.8],\n",
       "       [1.3],\n",
       "       [1.5],\n",
       "       [1.2],\n",
       "       [1.3],\n",
       "       [1.4],\n",
       "       [1.4],\n",
       "       [1.7],\n",
       "       [1.5],\n",
       "       [1. ],\n",
       "       [1.1],\n",
       "       [1. ],\n",
       "       [1.2],\n",
       "       [1.6],\n",
       "       [1.5],\n",
       "       [1.6],\n",
       "       [1.5],\n",
       "       [1.3],\n",
       "       [1.3],\n",
       "       [1.3],\n",
       "       [1.2],\n",
       "       [1.4],\n",
       "       [1.2],\n",
       "       [1. ],\n",
       "       [1.3],\n",
       "       [1.2],\n",
       "       [1.3],\n",
       "       [1.3],\n",
       "       [1.1],\n",
       "       [1.3],\n",
       "       [2.5],\n",
       "       [1.9],\n",
       "       [2.1],\n",
       "       [1.8],\n",
       "       [2.2],\n",
       "       [2.1],\n",
       "       [1.7],\n",
       "       [1.8],\n",
       "       [1.8],\n",
       "       [2.5],\n",
       "       [2. ],\n",
       "       [1.9],\n",
       "       [2.1],\n",
       "       [2. ],\n",
       "       [2.4],\n",
       "       [2.3],\n",
       "       [1.8],\n",
       "       [2.2],\n",
       "       [2.3],\n",
       "       [1.5],\n",
       "       [2.3],\n",
       "       [2. ],\n",
       "       [2. ],\n",
       "       [1.8],\n",
       "       [2.1],\n",
       "       [1.8],\n",
       "       [1.8],\n",
       "       [1.8],\n",
       "       [2.1],\n",
       "       [1.6],\n",
       "       [1.9],\n",
       "       [2. ],\n",
       "       [2.2],\n",
       "       [1.5],\n",
       "       [1.4],\n",
       "       [2.3],\n",
       "       [2.4],\n",
       "       [1.8],\n",
       "       [1.8],\n",
       "       [2.1],\n",
       "       [2.4],\n",
       "       [2.3],\n",
       "       [1.9],\n",
       "       [2.3],\n",
       "       [2.5],\n",
       "       [2.3],\n",
       "       [1.9],\n",
       "       [2. ],\n",
       "       [2.3],\n",
       "       [1.8]])"
      ]
     },
     "execution_count": 18,
     "metadata": {
      "tags": []
     },
     "output_type": "execute_result"
    }
   ],
   "source": [
    "X"
   ]
  },
  {
   "cell_type": "code",
   "execution_count": 0,
   "metadata": {
    "colab": {
     "base_uri": "https://localhost:8080/",
     "height": 164
    },
    "colab_type": "code",
    "executionInfo": {
     "elapsed": 1214,
     "status": "ok",
     "timestamp": 1563870963574,
     "user": {
      "displayName": "alex Badea",
      "photoUrl": "https://lh6.googleusercontent.com/-UvgZ9ljOPrw/AAAAAAAAAAI/AAAAAAAAAB0/2LDR9ixadk8/s64/photo.jpg",
      "userId": "00414702060140034735"
     },
     "user_tz": -180
    },
    "id": "aWkU-hhNul3n",
    "outputId": "79c96666-eb3d-493b-b869-ca4474dd98f6"
   },
   "outputs": [
    {
     "name": "stderr",
     "output_type": "stream",
     "text": [
      "/usr/local/lib/python3.6/dist-packages/sklearn/linear_model/logistic.py:432: FutureWarning: Default solver will be changed to 'lbfgs' in 0.22. Specify a solver to silence this warning.\n",
      "  FutureWarning)\n"
     ]
    },
    {
     "data": {
      "text/plain": [
       "LogisticRegression(C=1.0, class_weight=None, dual=False, fit_intercept=True,\n",
       "                   intercept_scaling=1, l1_ratio=None, max_iter=100,\n",
       "                   multi_class='warn', n_jobs=None, penalty='l2',\n",
       "                   random_state=None, solver='warn', tol=0.0001, verbose=0,\n",
       "                   warm_start=False)"
      ]
     },
     "execution_count": 17,
     "metadata": {
      "tags": []
     },
     "output_type": "execute_result"
    }
   ],
   "source": [
    "log_reg = LogisticRegression()\n",
    "log_reg.fit(X, y)\n"
   ]
  },
  {
   "cell_type": "code",
   "execution_count": 0,
   "metadata": {
    "colab": {
     "base_uri": "https://localhost:8080/",
     "height": 287
    },
    "colab_type": "code",
    "executionInfo": {
     "elapsed": 1059,
     "status": "ok",
     "timestamp": 1563867053135,
     "user": {
      "displayName": "alex Badea",
      "photoUrl": "https://lh6.googleusercontent.com/-UvgZ9ljOPrw/AAAAAAAAAAI/AAAAAAAAAB0/2LDR9ixadk8/s64/photo.jpg",
      "userId": "00414702060140034735"
     },
     "user_tz": -180
    },
    "id": "IpUaq_2lulv7",
    "outputId": "64d24da7-791d-47fc-e6c9-f1be7b165961"
   },
   "outputs": [
    {
     "data": {
      "text/plain": [
       "[<matplotlib.lines.Line2D at 0x7f16ebd77d68>]"
      ]
     },
     "execution_count": 11,
     "metadata": {
      "tags": []
     },
     "output_type": "execute_result"
    },
    {
     "data": {
      "image/png": "[encoded data removed]",
      "text/plain": [
       "<Figure size 432x288 with 1 Axes>"
      ]
     },
     "metadata": {
      "tags": []
     },
     "output_type": "display_data"
    }
   ],
   "source": [
    "%matplotlib inline\n",
    "X_new = np.linspace(0, 3, 1000).reshape(-1, 1)\n",
    "y_proba = log_reg.predict_proba(X_new)\n",
    "plt.plot(X_new, y_proba[:, 1], \"g-\", label=\"Iris-Virginica\")\n",
    "plt.plot(X_new, y_proba[:, 0], \"b--\", label=\"Not Iris-Virginica\")\n",
    "# + more Matplotlib code to make the image look pretty"
   ]
  },
  {
   "cell_type": "code",
   "execution_count": 0,
   "metadata": {
    "colab": {
     "base_uri": "https://localhost:8080/",
     "height": 35
    },
    "colab_type": "code",
    "executionInfo": {
     "elapsed": 1216,
     "status": "ok",
     "timestamp": 1563870967732,
     "user": {
      "displayName": "alex Badea",
      "photoUrl": "https://lh6.googleusercontent.com/-UvgZ9ljOPrw/AAAAAAAAAAI/AAAAAAAAAB0/2LDR9ixadk8/s64/photo.jpg",
      "userId": "00414702060140034735"
     },
     "user_tz": -180
    },
    "id": "7ucxe7RFulpQ",
    "outputId": "4022a436-db98-4117-f6a6-2748a0ea0d88"
   },
   "outputs": [
    {
     "data": {
      "text/plain": [
       "array([1, 0])"
      ]
     },
     "execution_count": 18,
     "metadata": {
      "tags": []
     },
     "output_type": "execute_result"
    }
   ],
   "source": [
    "log_reg.predict([[1.7], [1.5]])"
   ]
  },
  {
   "cell_type": "code",
   "execution_count": 19,
   "metadata": {
    "colab": {
     "base_uri": "https://localhost:8080/",
     "height": 1000
    },
    "colab_type": "code",
    "executionInfo": {
     "elapsed": 910,
     "status": "ok",
     "timestamp": 1563951443110,
     "user": {
      "displayName": "alex Badea",
      "photoUrl": "https://lh6.googleusercontent.com/-UvgZ9ljOPrw/AAAAAAAAAAI/AAAAAAAAAB0/2LDR9ixadk8/s64/photo.jpg",
      "userId": "00414702060140034735"
     },
     "user_tz": -180
    },
    "id": "imhRg8vGulRd",
    "outputId": "5d7f7580-a3ec-4261-e2c9-4ceeb77fba90"
   },
   "outputs": [
    {
     "data": {
      "text/plain": [
       "array([[1.4, 0.2],\n",
       "       [1.4, 0.2],\n",
       "       [1.3, 0.2],\n",
       "       [1.5, 0.2],\n",
       "       [1.4, 0.2],\n",
       "       [1.7, 0.4],\n",
       "       [1.4, 0.3],\n",
       "       [1.5, 0.2],\n",
       "       [1.4, 0.2],\n",
       "       [1.5, 0.1],\n",
       "       [1.5, 0.2],\n",
       "       [1.6, 0.2],\n",
       "       [1.4, 0.1],\n",
       "       [1.1, 0.1],\n",
       "       [1.2, 0.2],\n",
       "       [1.5, 0.4],\n",
       "       [1.3, 0.4],\n",
       "       [1.4, 0.3],\n",
       "       [1.7, 0.3],\n",
       "       [1.5, 0.3],\n",
       "       [1.7, 0.2],\n",
       "       [1.5, 0.4],\n",
       "       [1. , 0.2],\n",
       "       [1.7, 0.5],\n",
       "       [1.9, 0.2],\n",
       "       [1.6, 0.2],\n",
       "       [1.6, 0.4],\n",
       "       [1.5, 0.2],\n",
       "       [1.4, 0.2],\n",
       "       [1.6, 0.2],\n",
       "       [1.6, 0.2],\n",
       "       [1.5, 0.4],\n",
       "       [1.5, 0.1],\n",
       "       [1.4, 0.2],\n",
       "       [1.5, 0.2],\n",
       "       [1.2, 0.2],\n",
       "       [1.3, 0.2],\n",
       "       [1.4, 0.1],\n",
       "       [1.3, 0.2],\n",
       "       [1.5, 0.2],\n",
       "       [1.3, 0.3],\n",
       "       [1.3, 0.3],\n",
       "       [1.3, 0.2],\n",
       "       [1.6, 0.6],\n",
       "       [1.9, 0.4],\n",
       "       [1.4, 0.3],\n",
       "       [1.6, 0.2],\n",
       "       [1.4, 0.2],\n",
       "       [1.5, 0.2],\n",
       "       [1.4, 0.2],\n",
       "       [4.7, 1.4],\n",
       "       [4.5, 1.5],\n",
       "       [4.9, 1.5],\n",
       "       [4. , 1.3],\n",
       "       [4.6, 1.5],\n",
       "       [4.5, 1.3],\n",
       "       [4.7, 1.6],\n",
       "       [3.3, 1. ],\n",
       "       [4.6, 1.3],\n",
       "       [3.9, 1.4],\n",
       "       [3.5, 1. ],\n",
       "       [4.2, 1.5],\n",
       "       [4. , 1. ],\n",
       "       [4.7, 1.4],\n",
       "       [3.6, 1.3],\n",
       "       [4.4, 1.4],\n",
       "       [4.5, 1.5],\n",
       "       [4.1, 1. ],\n",
       "       [4.5, 1.5],\n",
       "       [3.9, 1.1],\n",
       "       [4.8, 1.8],\n",
       "       [4. , 1.3],\n",
       "       [4.9, 1.5],\n",
       "       [4.7, 1.2],\n",
       "       [4.3, 1.3],\n",
       "       [4.4, 1.4],\n",
       "       [4.8, 1.4],\n",
       "       [5. , 1.7],\n",
       "       [4.5, 1.5],\n",
       "       [3.5, 1. ],\n",
       "       [3.8, 1.1],\n",
       "       [3.7, 1. ],\n",
       "       [3.9, 1.2],\n",
       "       [5.1, 1.6],\n",
       "       [4.5, 1.5],\n",
       "       [4.5, 1.6],\n",
       "       [4.7, 1.5],\n",
       "       [4.4, 1.3],\n",
       "       [4.1, 1.3],\n",
       "       [4. , 1.3],\n",
       "       [4.4, 1.2],\n",
       "       [4.6, 1.4],\n",
       "       [4. , 1.2],\n",
       "       [3.3, 1. ],\n",
       "       [4.2, 1.3],\n",
       "       [4.2, 1.2],\n",
       "       [4.2, 1.3],\n",
       "       [4.3, 1.3],\n",
       "       [3. , 1.1],\n",
       "       [4.1, 1.3],\n",
       "       [6. , 2.5],\n",
       "       [5.1, 1.9],\n",
       "       [5.9, 2.1],\n",
       "       [5.6, 1.8],\n",
       "       [5.8, 2.2],\n",
       "       [6.6, 2.1],\n",
       "       [4.5, 1.7],\n",
       "       [6.3, 1.8],\n",
       "       [5.8, 1.8],\n",
       "       [6.1, 2.5],\n",
       "       [5.1, 2. ],\n",
       "       [5.3, 1.9],\n",
       "       [5.5, 2.1],\n",
       "       [5. , 2. ],\n",
       "       [5.1, 2.4],\n",
       "       [5.3, 2.3],\n",
       "       [5.5, 1.8],\n",
       "       [6.7, 2.2],\n",
       "       [6.9, 2.3],\n",
       "       [5. , 1.5],\n",
       "       [5.7, 2.3],\n",
       "       [4.9, 2. ],\n",
       "       [6.7, 2. ],\n",
       "       [4.9, 1.8],\n",
       "       [5.7, 2.1],\n",
       "       [6. , 1.8],\n",
       "       [4.8, 1.8],\n",
       "       [4.9, 1.8],\n",
       "       [5.6, 2.1],\n",
       "       [5.8, 1.6],\n",
       "       [6.1, 1.9],\n",
       "       [6.4, 2. ],\n",
       "       [5.6, 2.2],\n",
       "       [5.1, 1.5],\n",
       "       [5.6, 1.4],\n",
       "       [6.1, 2.3],\n",
       "       [5.6, 2.4],\n",
       "       [5.5, 1.8],\n",
       "       [4.8, 1.8],\n",
       "       [5.4, 2.1],\n",
       "       [5.6, 2.4],\n",
       "       [5.1, 2.3],\n",
       "       [5.1, 1.9],\n",
       "       [5.9, 2.3],\n",
       "       [5.7, 2.5],\n",
       "       [5.2, 2.3],\n",
       "       [5. , 1.9],\n",
       "       [5.2, 2. ],\n",
       "       [5.4, 2.3],\n",
       "       [5.1, 1.8]])"
      ]
     },
     "execution_count": 19,
     "metadata": {
      "tags": []
     },
     "output_type": "execute_result"
    }
   ],
   "source": [
    "X = iris[\"data\"][:, (2, 3)] # petal length, petal width\n",
    "y = iris[\"target\"]\n",
    "softmax_reg = LogisticRegression(multi_class=\"multinomial\",solver=\"lbfgs\", C=10)\n",
    "softmax_reg.fit(X, y)\n",
    "X"
   ]
  },
  {
   "cell_type": "code",
   "execution_count": 0,
   "metadata": {
    "colab": {
     "base_uri": "https://localhost:8080/",
     "height": 35
    },
    "colab_type": "code",
    "executionInfo": {
     "elapsed": 3106,
     "status": "ok",
     "timestamp": 1563870984476,
     "user": {
      "displayName": "alex Badea",
      "photoUrl": "https://lh6.googleusercontent.com/-UvgZ9ljOPrw/AAAAAAAAAAI/AAAAAAAAAB0/2LDR9ixadk8/s64/photo.jpg",
      "userId": "00414702060140034735"
     },
     "user_tz": -180
    },
    "id": "7pNKYm5uulLE",
    "outputId": "08593059-a674-4b2c-a3e9-f91c2a6acc9c"
   },
   "outputs": [
    {
     "data": {
      "text/plain": [
       "array([2])"
      ]
     },
     "execution_count": 20,
     "metadata": {
      "tags": []
     },
     "output_type": "execute_result"
    }
   ],
   "source": [
    "softmax_reg.predict([[5, 2]])"
   ]
  },
  {
   "cell_type": "code",
   "execution_count": 0,
   "metadata": {
    "colab": {
     "base_uri": "https://localhost:8080/",
     "height": 35
    },
    "colab_type": "code",
    "executionInfo": {
     "elapsed": 2464,
     "status": "ok",
     "timestamp": 1563870984479,
     "user": {
      "displayName": "alex Badea",
      "photoUrl": "https://lh6.googleusercontent.com/-UvgZ9ljOPrw/AAAAAAAAAAI/AAAAAAAAAB0/2LDR9ixadk8/s64/photo.jpg",
      "userId": "00414702060140034735"
     },
     "user_tz": -180
    },
    "id": "DD5i5yjYulCx",
    "outputId": "794aeb82-997a-42ed-ac07-585955663481"
   },
   "outputs": [
    {
     "data": {
      "text/plain": [
       "array([[6.38014896e-07, 5.74929995e-02, 9.42506362e-01]])"
      ]
     },
     "execution_count": 21,
     "metadata": {
      "tags": []
     },
     "output_type": "execute_result"
    }
   ],
   "source": [
    "softmax_reg.predict_proba([[5, 2]])"
   ]
  },
  {
   "cell_type": "code",
   "execution_count": 0,
   "metadata": {
    "colab": {
     "base_uri": "https://localhost:8080/",
     "height": 167
    },
    "colab_type": "code",
    "executionInfo": {
     "elapsed": 883,
     "status": "error",
     "timestamp": 1563871009494,
     "user": {
      "displayName": "alex Badea",
      "photoUrl": "https://lh6.googleusercontent.com/-UvgZ9ljOPrw/AAAAAAAAAAI/AAAAAAAAAB0/2LDR9ixadk8/s64/photo.jpg",
      "userId": "00414702060140034735"
     },
     "user_tz": -180
    },
    "id": "62BbJOmQuk7x",
    "outputId": "c2aec36b-0376-4dd4-bf7d-2c8c52598554"
   },
   "outputs": [
    {
     "ename": "AttributeError",
     "evalue": "ignored",
     "output_type": "error",
     "traceback": [
      "\u001b[0;31m---------------------------------------------------------------------------\u001b[0m",
      "\u001b[0;31mAttributeError\u001b[0m                            Traceback (most recent call last)",
      "\u001b[0;32m<ipython-input-22-ae5cd47bda90>\u001b[0m in \u001b[0;36m<module>\u001b[0;34m()\u001b[0m\n\u001b[0;32m----> 1\u001b[0;31m \u001b[0mX\u001b[0m\u001b[0;34m.\u001b[0m\u001b[0mhead\u001b[0m\u001b[0;34m(\u001b[0m\u001b[0;34m)\u001b[0m\u001b[0;34m\u001b[0m\u001b[0;34m\u001b[0m\u001b[0m\n\u001b[0m",
      "\u001b[0;31mAttributeError\u001b[0m: 'numpy.ndarray' object has no attribute 'head'"
     ]
    }
   ],
   "source": []
  },
  {
   "cell_type": "code",
   "execution_count": 0,
   "metadata": {
    "colab": {},
    "colab_type": "code",
    "id": "-o4B7vjj-bu_"
   },
   "outputs": [],
   "source": []
  }
 ],
 "metadata": {
  "colab": {
   "collapsed_sections": [],
   "name": "chapter4.ipynb",
   "provenance": [],
   "version": "0.3.2"
  },
  "kernelspec": {
   "display_name": "Python 3",
   "language": "python",
   "name": "python3"
  },
  "language_info": {
   "codemirror_mode": {
    "name": "ipython",
    "version": 3
   },
   "file_extension": ".py",
   "mimetype": "text/x-python",
   "name": "python",
   "nbconvert_exporter": "python",
   "pygments_lexer": "ipython3",
   "version": "3.7.3"
  }
 },
 "nbformat": 4,
 "nbformat_minor": 1
}
