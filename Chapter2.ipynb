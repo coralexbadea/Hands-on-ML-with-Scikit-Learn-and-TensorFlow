{
 "cells": [
  {
   "cell_type": "code",
   "execution_count": 32,
   "metadata": {
    "colab": {
     "base_uri": "https://localhost:8080/",
     "height": 238
    },
    "colab_type": "code",
    "executionInfo": {
     "elapsed": 1213,
     "status": "ok",
     "timestamp": 1563606791894,
     "user": {
      "displayName": "alex Badea",
      "photoUrl": "https://lh6.googleusercontent.com/-UvgZ9ljOPrw/AAAAAAAAAAI/AAAAAAAAAB0/2LDR9ixadk8/s64/photo.jpg",
      "userId": "00414702060140034735"
     },
     "user_tz": -180
    },
    "id": "xE0pqimDAq1g",
    "outputId": "da5c9807-7fbd-4370-f8c2-8aec52fac464"
   },
   "outputs": [
    {
     "data": {
      "text/html": [
       "<div>\n",
       "<style scoped>\n",
       "    .dataframe tbody tr th:only-of-type {\n",
       "        vertical-align: middle;\n",
       "    }\n",
       "\n",
       "    .dataframe tbody tr th {\n",
       "        vertical-align: top;\n",
       "    }\n",
       "\n",
       "    .dataframe thead th {\n",
       "        text-align: right;\n",
       "    }\n",
       "</style>\n",
       "<table border=\"1\" class=\"dataframe\">\n",
       "  <thead>\n",
       "    <tr style=\"text-align: right;\">\n",
       "      <th></th>\n",
       "      <th>longitude</th>\n",
       "      <th>latitude</th>\n",
       "      <th>housing_median_age</th>\n",
       "      <th>total_rooms</th>\n",
       "      <th>total_bedrooms</th>\n",
       "      <th>population</th>\n",
       "      <th>households</th>\n",
       "      <th>median_income</th>\n",
       "      <th>median_house_value</th>\n",
       "      <th>ocean_proximity</th>\n",
       "    </tr>\n",
       "  </thead>\n",
       "  <tbody>\n",
       "    <tr>\n",
       "      <th>0</th>\n",
       "      <td>-122.23</td>\n",
       "      <td>37.88</td>\n",
       "      <td>41.0</td>\n",
       "      <td>880.0</td>\n",
       "      <td>129.0</td>\n",
       "      <td>322.0</td>\n",
       "      <td>126.0</td>\n",
       "      <td>8.3252</td>\n",
       "      <td>452600.0</td>\n",
       "      <td>NEAR BAY</td>\n",
       "    </tr>\n",
       "    <tr>\n",
       "      <th>1</th>\n",
       "      <td>-122.22</td>\n",
       "      <td>37.86</td>\n",
       "      <td>21.0</td>\n",
       "      <td>7099.0</td>\n",
       "      <td>1106.0</td>\n",
       "      <td>2401.0</td>\n",
       "      <td>1138.0</td>\n",
       "      <td>8.3014</td>\n",
       "      <td>358500.0</td>\n",
       "      <td>NEAR BAY</td>\n",
       "    </tr>\n",
       "    <tr>\n",
       "      <th>2</th>\n",
       "      <td>-122.24</td>\n",
       "      <td>37.85</td>\n",
       "      <td>52.0</td>\n",
       "      <td>1467.0</td>\n",
       "      <td>190.0</td>\n",
       "      <td>496.0</td>\n",
       "      <td>177.0</td>\n",
       "      <td>7.2574</td>\n",
       "      <td>352100.0</td>\n",
       "      <td>NEAR BAY</td>\n",
       "    </tr>\n",
       "    <tr>\n",
       "      <th>3</th>\n",
       "      <td>-122.25</td>\n",
       "      <td>37.85</td>\n",
       "      <td>52.0</td>\n",
       "      <td>1274.0</td>\n",
       "      <td>235.0</td>\n",
       "      <td>558.0</td>\n",
       "      <td>219.0</td>\n",
       "      <td>5.6431</td>\n",
       "      <td>341300.0</td>\n",
       "      <td>NEAR BAY</td>\n",
       "    </tr>\n",
       "    <tr>\n",
       "      <th>4</th>\n",
       "      <td>-122.25</td>\n",
       "      <td>37.85</td>\n",
       "      <td>52.0</td>\n",
       "      <td>1627.0</td>\n",
       "      <td>280.0</td>\n",
       "      <td>565.0</td>\n",
       "      <td>259.0</td>\n",
       "      <td>3.8462</td>\n",
       "      <td>342200.0</td>\n",
       "      <td>NEAR BAY</td>\n",
       "    </tr>\n",
       "  </tbody>\n",
       "</table>\n",
       "</div>"
      ],
      "text/plain": [
       "   longitude  latitude  ...  median_house_value  ocean_proximity\n",
       "0    -122.23     37.88  ...            452600.0         NEAR BAY\n",
       "1    -122.22     37.86  ...            358500.0         NEAR BAY\n",
       "2    -122.24     37.85  ...            352100.0         NEAR BAY\n",
       "3    -122.25     37.85  ...            341300.0         NEAR BAY\n",
       "4    -122.25     37.85  ...            342200.0         NEAR BAY\n",
       "\n",
       "[5 rows x 10 columns]"
      ]
     },
     "execution_count": 32,
     "metadata": {
      "tags": []
     },
     "output_type": "execute_result"
    }
   ],
   "source": [
    "import os\n",
    "import tarfile\n",
    "import pandas as pd\n",
    "import numpy as np\n",
    "from sklearn.model_selection import StratifiedShuffleSplit\n",
    "from sklearn.impute import SimpleImputer \n",
    "from sklearn.pipeline import Pipeline\n",
    "from sklearn.preprocessing import StandardScaler\n",
    "from sklearn.pipeline import FeatureUnion\n",
    "from sklearn.base import BaseEstimator, TransformerMixin\n",
    "from sklearn.model_selection import train_test_split\n",
    "from sklearn.preprocessing import LabelBinarizer\n",
    "from sklearn.linear_model import LinearRegression\n",
    "from sklearn.metrics import mean_squared_error\n",
    "from sklearn.model_selection import cross_val_score\n",
    "from sklearn.ensemble import RandomForestRegressor\n",
    "from sklearn.svm import SVR\n",
    "from sklearn.externals import joblib\n",
    "from sklearn.model_selection import GridSearchCV\n",
    "from six.moves import urllib\n",
    "\n",
    "DOWNLOAD_ROOT = \"https://raw.githubusercontent.com/ageron/handson-ml/master/\"\n",
    "HOUSING_PATH = \"datasets/housing\"\n",
    "HOUSING_URL = DOWNLOAD_ROOT + HOUSING_PATH + \"/housing.tgz\"\n",
    "def fetch_housing_data(housing_url=HOUSING_URL, housing_path=HOUSING_PATH):\n",
    "  if not os.path.isdir(housing_path):\n",
    "     os.makedirs(housing_path)\n",
    "  tgz_path = os.path.join(housing_path, \"housing.tgz\")\n",
    "  urllib.request.urlretrieve(housing_url, tgz_path)\n",
    "  housing_tgz = tarfile.open(tgz_path)\n",
    "  housing_tgz.extractall(path=housing_path)\n",
    "  housing_tgz.close()\n",
    "  \n",
    "def load_housing_data(housing_path=HOUSING_PATH):\n",
    "  csv_path = os.path.join(housing_path, \"housing.csv\")\n",
    "  return pd.read_csv(csv_path)\n",
    "\n",
    "\n",
    "\n",
    "fetch_housing_data()\n",
    "housing = load_housing_data()\n",
    "\n",
    "housing.head()"
   ]
  },
  {
   "cell_type": "code",
   "execution_count": 33,
   "metadata": {
    "colab": {
     "base_uri": "https://localhost:8080/",
     "height": 280
    },
    "colab_type": "code",
    "executionInfo": {
     "elapsed": 928,
     "status": "ok",
     "timestamp": 1563606796266,
     "user": {
      "displayName": "alex Badea",
      "photoUrl": "https://lh6.googleusercontent.com/-UvgZ9ljOPrw/AAAAAAAAAAI/AAAAAAAAAB0/2LDR9ixadk8/s64/photo.jpg",
      "userId": "00414702060140034735"
     },
     "user_tz": -180
    },
    "id": "IalkkqbLID2v",
    "outputId": "c0795ea4-ee9d-4288-a0e3-795801ad4a30"
   },
   "outputs": [
    {
     "name": "stdout",
     "output_type": "stream",
     "text": [
      "<class 'pandas.core.frame.DataFrame'>\n",
      "RangeIndex: 20640 entries, 0 to 20639\n",
      "Data columns (total 10 columns):\n",
      "longitude             20640 non-null float64\n",
      "latitude              20640 non-null float64\n",
      "housing_median_age    20640 non-null float64\n",
      "total_rooms           20640 non-null float64\n",
      "total_bedrooms        20433 non-null float64\n",
      "population            20640 non-null float64\n",
      "households            20640 non-null float64\n",
      "median_income         20640 non-null float64\n",
      "median_house_value    20640 non-null float64\n",
      "ocean_proximity       20640 non-null object\n",
      "dtypes: float64(9), object(1)\n",
      "memory usage: 1.6+ MB\n"
     ]
    }
   ],
   "source": [
    "housing.info()"
   ]
  },
  {
   "cell_type": "code",
   "execution_count": 34,
   "metadata": {
    "colab": {
     "base_uri": "https://localhost:8080/",
     "height": 123
    },
    "colab_type": "code",
    "executionInfo": {
     "elapsed": 894,
     "status": "ok",
     "timestamp": 1563606799858,
     "user": {
      "displayName": "alex Badea",
      "photoUrl": "https://lh6.googleusercontent.com/-UvgZ9ljOPrw/AAAAAAAAAAI/AAAAAAAAAB0/2LDR9ixadk8/s64/photo.jpg",
      "userId": "00414702060140034735"
     },
     "user_tz": -180
    },
    "id": "XnkVaNcRIkRR",
    "outputId": "9bf43396-68ac-4671-88ed-e0d0f18ce203"
   },
   "outputs": [
    {
     "data": {
      "text/plain": [
       "<1H OCEAN     9136\n",
       "INLAND        6551\n",
       "NEAR OCEAN    2658\n",
       "NEAR BAY      2290\n",
       "ISLAND           5\n",
       "Name: ocean_proximity, dtype: int64"
      ]
     },
     "execution_count": 34,
     "metadata": {
      "tags": []
     },
     "output_type": "execute_result"
    }
   ],
   "source": [
    "housing[\"ocean_proximity\"].value_counts()"
   ]
  },
  {
   "cell_type": "code",
   "execution_count": 35,
   "metadata": {
    "colab": {
     "base_uri": "https://localhost:8080/",
     "height": 1000
    },
    "colab_type": "code",
    "executionInfo": {
     "elapsed": 4047,
     "status": "ok",
     "timestamp": 1563606806405,
     "user": {
      "displayName": "alex Badea",
      "photoUrl": "https://lh6.googleusercontent.com/-UvgZ9ljOPrw/AAAAAAAAAAI/AAAAAAAAAB0/2LDR9ixadk8/s64/photo.jpg",
      "userId": "00414702060140034735"
     },
     "user_tz": -180
    },
    "id": "Uf7kmBbFIkWQ",
    "outputId": "7a212846-93ff-487d-c24a-797677065359"
   },
   "outputs": [
    {
     "data": {
      "text/plain": [
       "array([[<matplotlib.axes._subplots.AxesSubplot object at 0x7f8f00384c88>,\n",
       "        <matplotlib.axes._subplots.AxesSubplot object at 0x7f8f003e4898>,\n",
       "        <matplotlib.axes._subplots.AxesSubplot object at 0x7f8f003677f0>],\n",
       "       [<matplotlib.axes._subplots.AxesSubplot object at 0x7f8f00303c50>,\n",
       "        <matplotlib.axes._subplots.AxesSubplot object at 0x7f8f002b0208>,\n",
       "        <matplotlib.axes._subplots.AxesSubplot object at 0x7f8f002d4780>],\n",
       "       [<matplotlib.axes._subplots.AxesSubplot object at 0x7f8f00279cf8>,\n",
       "        <matplotlib.axes._subplots.AxesSubplot object at 0x7f8f002a62e8>,\n",
       "        <matplotlib.axes._subplots.AxesSubplot object at 0x7f8f002a6320>]],\n",
       "      dtype=object)"
      ]
     },
     "execution_count": 35,
     "metadata": {
      "tags": []
     },
     "output_type": "execute_result"
    },
    {
     "data": {
      "image/png": "[encoded data removed]",
      "text/plain": [
       "<Figure size 1440x1080 with 9 Axes>"
      ]
     },
     "metadata": {
      "tags": []
     },
     "output_type": "display_data"
    }
   ],
   "source": [
    "%matplotlib inline\n",
    "import matplotlib.pyplot as plt\n",
    "housing.hist(bins = 50, figsize = (20, 15))"
   ]
  },
  {
   "cell_type": "code",
   "execution_count": 0,
   "metadata": {
    "colab": {},
    "colab_type": "code",
    "id": "C5HvPNM1IkU9"
   },
   "outputs": [],
   "source": [
    "\n",
    "\n",
    "def split_train_test(data, test_ratio):\n",
    "  suffle_indices = np.random.permutation(len(data))\n",
    "  np.random.seed(42)\n",
    "  test_set_size = int(len(data) * test_ratio)\n",
    "  test_indices = suffle_indices[:test_set_size] \n",
    "  train_indices = suffle_indices[test_set_size:]\n",
    "  return data.iloc[train_indices], data.iloc[test_indices]\n",
    "\n"
   ]
  },
  {
   "cell_type": "code",
   "execution_count": 0,
   "metadata": {
    "colab": {},
    "colab_type": "code",
    "id": "J6W5SJkzzj6K"
   },
   "outputs": [],
   "source": [
    "#train_data, test_data = split_train_test(housing, 0.2)\n",
    "#train_data.head()"
   ]
  },
  {
   "cell_type": "code",
   "execution_count": 0,
   "metadata": {
    "colab": {},
    "colab_type": "code",
    "id": "QgS5iQe_siTF"
   },
   "outputs": [],
   "source": [
    "#train_set, test_set = train_test_split(housing, test_size=0.2, random_state=42)#izipizi"
   ]
  },
  {
   "cell_type": "code",
   "execution_count": 37,
   "metadata": {
    "colab": {
     "base_uri": "https://localhost:8080/",
     "height": 235
    },
    "colab_type": "code",
    "executionInfo": {
     "elapsed": 576,
     "status": "ok",
     "timestamp": 1563606812406,
     "user": {
      "displayName": "alex Badea",
      "photoUrl": "https://lh6.googleusercontent.com/-UvgZ9ljOPrw/AAAAAAAAAAI/AAAAAAAAAB0/2LDR9ixadk8/s64/photo.jpg",
      "userId": "00414702060140034735"
     },
     "user_tz": -180
    },
    "id": "7Z_jVR7XxN_X",
    "outputId": "acad35fa-9979-443a-c71e-dbb3c40af924"
   },
   "outputs": [
    {
     "data": {
      "text/html": [
       "<div>\n",
       "<style scoped>\n",
       "    .dataframe tbody tr th:only-of-type {\n",
       "        vertical-align: middle;\n",
       "    }\n",
       "\n",
       "    .dataframe tbody tr th {\n",
       "        vertical-align: top;\n",
       "    }\n",
       "\n",
       "    .dataframe thead th {\n",
       "        text-align: right;\n",
       "    }\n",
       "</style>\n",
       "<table border=\"1\" class=\"dataframe\">\n",
       "  <thead>\n",
       "    <tr style=\"text-align: right;\">\n",
       "      <th></th>\n",
       "      <th>longitude</th>\n",
       "      <th>latitude</th>\n",
       "      <th>housing_median_age</th>\n",
       "      <th>total_rooms</th>\n",
       "      <th>total_bedrooms</th>\n",
       "      <th>population</th>\n",
       "      <th>households</th>\n",
       "      <th>median_income</th>\n",
       "      <th>median_house_value</th>\n",
       "      <th>ocean_proximity</th>\n",
       "      <th>income_cat</th>\n",
       "    </tr>\n",
       "  </thead>\n",
       "  <tbody>\n",
       "    <tr>\n",
       "      <th>0</th>\n",
       "      <td>-122.23</td>\n",
       "      <td>37.88</td>\n",
       "      <td>41.0</td>\n",
       "      <td>880.0</td>\n",
       "      <td>129.0</td>\n",
       "      <td>322.0</td>\n",
       "      <td>126.0</td>\n",
       "      <td>8.3252</td>\n",
       "      <td>452600.0</td>\n",
       "      <td>NEAR BAY</td>\n",
       "      <td>5.0</td>\n",
       "    </tr>\n",
       "    <tr>\n",
       "      <th>1</th>\n",
       "      <td>-122.22</td>\n",
       "      <td>37.86</td>\n",
       "      <td>21.0</td>\n",
       "      <td>7099.0</td>\n",
       "      <td>1106.0</td>\n",
       "      <td>2401.0</td>\n",
       "      <td>1138.0</td>\n",
       "      <td>8.3014</td>\n",
       "      <td>358500.0</td>\n",
       "      <td>NEAR BAY</td>\n",
       "      <td>5.0</td>\n",
       "    </tr>\n",
       "    <tr>\n",
       "      <th>2</th>\n",
       "      <td>-122.24</td>\n",
       "      <td>37.85</td>\n",
       "      <td>52.0</td>\n",
       "      <td>1467.0</td>\n",
       "      <td>190.0</td>\n",
       "      <td>496.0</td>\n",
       "      <td>177.0</td>\n",
       "      <td>7.2574</td>\n",
       "      <td>352100.0</td>\n",
       "      <td>NEAR BAY</td>\n",
       "      <td>5.0</td>\n",
       "    </tr>\n",
       "    <tr>\n",
       "      <th>3</th>\n",
       "      <td>-122.25</td>\n",
       "      <td>37.85</td>\n",
       "      <td>52.0</td>\n",
       "      <td>1274.0</td>\n",
       "      <td>235.0</td>\n",
       "      <td>558.0</td>\n",
       "      <td>219.0</td>\n",
       "      <td>5.6431</td>\n",
       "      <td>341300.0</td>\n",
       "      <td>NEAR BAY</td>\n",
       "      <td>4.0</td>\n",
       "    </tr>\n",
       "    <tr>\n",
       "      <th>4</th>\n",
       "      <td>-122.25</td>\n",
       "      <td>37.85</td>\n",
       "      <td>52.0</td>\n",
       "      <td>1627.0</td>\n",
       "      <td>280.0</td>\n",
       "      <td>565.0</td>\n",
       "      <td>259.0</td>\n",
       "      <td>3.8462</td>\n",
       "      <td>342200.0</td>\n",
       "      <td>NEAR BAY</td>\n",
       "      <td>3.0</td>\n",
       "    </tr>\n",
       "  </tbody>\n",
       "</table>\n",
       "</div>"
      ],
      "text/plain": [
       "   longitude  latitude  ...  ocean_proximity  income_cat\n",
       "0    -122.23     37.88  ...         NEAR BAY         5.0\n",
       "1    -122.22     37.86  ...         NEAR BAY         5.0\n",
       "2    -122.24     37.85  ...         NEAR BAY         5.0\n",
       "3    -122.25     37.85  ...         NEAR BAY         4.0\n",
       "4    -122.25     37.85  ...         NEAR BAY         3.0\n",
       "\n",
       "[5 rows x 11 columns]"
      ]
     },
     "execution_count": 37,
     "metadata": {
      "tags": []
     },
     "output_type": "execute_result"
    }
   ],
   "source": [
    "housing[\"income_cat\"] = np.ceil(housing[\"median_income\"] / 1.5)\n",
    "housing[\"income_cat\"].where(housing[\"income_cat\"] < 5, 5.0, inplace=True)\n",
    "housing.head()"
   ]
  },
  {
   "cell_type": "code",
   "execution_count": 0,
   "metadata": {
    "colab": {},
    "colab_type": "code",
    "id": "4DyhMZNWtuVM"
   },
   "outputs": [],
   "source": [
    "split = StratifiedShuffleSplit(n_splits=1, test_size=0.2, random_state=42)\n",
    "for train_index, test_index in split.split(housing, housing[\"income_cat\"]):\n",
    "  strat_train_set = housing.loc[train_index]\n",
    "  strat_test_set = housing.loc[test_index]"
   ]
  },
  {
   "cell_type": "code",
   "execution_count": 0,
   "metadata": {
    "colab": {},
    "colab_type": "code",
    "id": "NR1FssO85Db2"
   },
   "outputs": [],
   "source": [
    "for set in (strat_train_set, strat_test_set):\n",
    "  set.drop([\"income_cat\"], axis=1, inplace=True)"
   ]
  },
  {
   "cell_type": "code",
   "execution_count": 40,
   "metadata": {
    "colab": {
     "base_uri": "https://localhost:8080/",
     "height": 301
    },
    "colab_type": "code",
    "executionInfo": {
     "elapsed": 1546,
     "status": "ok",
     "timestamp": 1563606824872,
     "user": {
      "displayName": "alex Badea",
      "photoUrl": "https://lh6.googleusercontent.com/-UvgZ9ljOPrw/AAAAAAAAAAI/AAAAAAAAAB0/2LDR9ixadk8/s64/photo.jpg",
      "userId": "00414702060140034735"
     },
     "user_tz": -180
    },
    "id": "V6bfeOKn6jzx",
    "outputId": "954a756d-bfec-42bb-d799-3600a69ff85c"
   },
   "outputs": [
    {
     "data": {
      "text/plain": [
       "<matplotlib.axes._subplots.AxesSubplot at 0x7f8effcad5f8>"
      ]
     },
     "execution_count": 40,
     "metadata": {
      "tags": []
     },
     "output_type": "execute_result"
    },
    {
     "data": {
      "image/png": "[encoded data removed]",
      "text/plain": [
       "<Figure size 432x288 with 1 Axes>"
      ]
     },
     "metadata": {
      "tags": []
     },
     "output_type": "display_data"
    }
   ],
   "source": [
    "housing = strat_train_set.copy()\n",
    "housing.plot(kind = 'scatter', x= \"latitude\", y = \"longitude\")"
   ]
  },
  {
   "cell_type": "code",
   "execution_count": 9,
   "metadata": {
    "colab": {
     "base_uri": "https://localhost:8080/",
     "height": 274
    },
    "colab_type": "code",
    "executionInfo": {
     "elapsed": 1919,
     "status": "ok",
     "timestamp": 1563604887983,
     "user": {
      "displayName": "alex Badea",
      "photoUrl": "https://lh6.googleusercontent.com/-UvgZ9ljOPrw/AAAAAAAAAAI/AAAAAAAAAB0/2LDR9ixadk8/s64/photo.jpg",
      "userId": "00414702060140034735"
     },
     "user_tz": -180
    },
    "id": "8Gm2-9kf6j45",
    "outputId": "27a2a4bb-7210-4671-be7a-3f7f654aa4af"
   },
   "outputs": [
    {
     "data": {
      "text/plain": [
       "<matplotlib.legend.Legend at 0x7f8f01d43b70>"
      ]
     },
     "execution_count": 9,
     "metadata": {
      "tags": []
     },
     "output_type": "execute_result"
    },
    {
     "data": {
      "image/png": "[encoded data removed]",
      "text/plain": [
       "<Figure size 432x288 with 2 Axes>"
      ]
     },
     "metadata": {
      "tags": []
     },
     "output_type": "display_data"
    }
   ],
   "source": [
    "housing.plot(kind=\"scatter\", x=\"longitude\", y=\"latitude\", alpha=0.4,\n",
    "s=housing[\"population\"]/100, label=\"population\",\n",
    "c=\"median_house_value\", cmap=plt.get_cmap(\"jet\"), colorbar=True,\n",
    ")\n",
    "plt.legend()"
   ]
  },
  {
   "cell_type": "code",
   "execution_count": 41,
   "metadata": {
    "colab": {
     "base_uri": "https://localhost:8080/",
     "height": 193
    },
    "colab_type": "code",
    "executionInfo": {
     "elapsed": 1119,
     "status": "ok",
     "timestamp": 1563606828658,
     "user": {
      "displayName": "alex Badea",
      "photoUrl": "https://lh6.googleusercontent.com/-UvgZ9ljOPrw/AAAAAAAAAAI/AAAAAAAAAB0/2LDR9ixadk8/s64/photo.jpg",
      "userId": "00414702060140034735"
     },
     "user_tz": -180
    },
    "id": "lvSwKlTu84MH",
    "outputId": "00c45c23-09de-4ad8-dbb4-976167d52452"
   },
   "outputs": [
    {
     "data": {
      "text/plain": [
       "median_house_value    1.000000\n",
       "median_income         0.687160\n",
       "total_rooms           0.135097\n",
       "housing_median_age    0.114110\n",
       "households            0.064506\n",
       "total_bedrooms        0.047689\n",
       "population           -0.026920\n",
       "longitude            -0.047432\n",
       "latitude             -0.142724\n",
       "Name: median_house_value, dtype: float64"
      ]
     },
     "execution_count": 41,
     "metadata": {
      "tags": []
     },
     "output_type": "execute_result"
    }
   ],
   "source": [
    "corr_matrix = housing.corr()\n",
    "corr_matrix[\"median_house_value\"].sort_values(ascending=False)"
   ]
  },
  {
   "cell_type": "code",
   "execution_count": 42,
   "metadata": {
    "colab": {
     "base_uri": "https://localhost:8080/",
     "height": 263
    },
    "colab_type": "code",
    "executionInfo": {
     "elapsed": 876,
     "status": "ok",
     "timestamp": 1563606839958,
     "user": {
      "displayName": "alex Badea",
      "photoUrl": "https://lh6.googleusercontent.com/-UvgZ9ljOPrw/AAAAAAAAAAI/AAAAAAAAAB0/2LDR9ixadk8/s64/photo.jpg",
      "userId": "00414702060140034735"
     },
     "user_tz": -180
    },
    "id": "GbHLFKu684Ru",
    "outputId": "be64bdf1-fad3-4539-a393-5b3d05a34fea"
   },
   "outputs": [
    {
     "data": {
      "text/plain": [
       "median_house_value          1.000000\n",
       "median_income               0.687160\n",
       "rooms_per_population        0.199429\n",
       "rooms_per_household         0.146285\n",
       "total_rooms                 0.135097\n",
       "housing_median_age          0.114110\n",
       "households                  0.064506\n",
       "total_bedrooms              0.047689\n",
       "population_per_household   -0.021985\n",
       "population                 -0.026920\n",
       "longitude                  -0.047432\n",
       "latitude                   -0.142724\n",
       "bedrooms_per_room          -0.259984\n",
       "Name: median_house_value, dtype: float64"
      ]
     },
     "execution_count": 42,
     "metadata": {
      "tags": []
     },
     "output_type": "execute_result"
    }
   ],
   "source": [
    "housing['rooms_per_household'] = housing['total_rooms']/housing['households']\n",
    "housing['bedrooms_per_room'] = housing['total_bedrooms']/housing['total_rooms']\n",
    "housing['population_per_household'] = housing['population']/ housing['households']\n",
    "housing['rooms_per_population']= housing['total_rooms']/housing['population']\n",
    "\n",
    "corr_matrix = housing.corr()\n",
    "corr_matrix[\"median_house_value\"].sort_values(ascending=False)\n",
    "\n",
    "\n",
    "\n"
   ]
  },
  {
   "cell_type": "code",
   "execution_count": 0,
   "metadata": {
    "colab": {},
    "colab_type": "code",
    "id": "_RSsfvpi84Xk"
   },
   "outputs": [],
   "source": [
    "#Preprocessing\n",
    "\n",
    "\n",
    "housing = strat_train_set.drop(\"median_house_value\", axis=1)\n",
    "housing_labels = strat_train_set[\"median_house_value\"].copy()"
   ]
  },
  {
   "cell_type": "code",
   "execution_count": 0,
   "metadata": {
    "colab": {},
    "colab_type": "code",
    "id": "KlHVrHVCPh0U"
   },
   "outputs": [],
   "source": [
    "#imputer = SimpleImputer(strategy=\"median\")\n"
   ]
  },
  {
   "cell_type": "code",
   "execution_count": 0,
   "metadata": {
    "colab": {},
    "colab_type": "code",
    "id": "5SkGJjIjPiBf"
   },
   "outputs": [],
   "source": [
    "\n",
    "housing_num = housing.drop(\"ocean_proximity\", axis=1)\n",
    "#imputer.fit(housing_num)"
   ]
  },
  {
   "cell_type": "code",
   "execution_count": 0,
   "metadata": {
    "colab": {},
    "colab_type": "code",
    "id": "1f8gyc4zQW6H"
   },
   "outputs": [],
   "source": [
    "#SKL Inspection\n",
    "#imputer.strategy\n",
    "#imputer.statistics_\n",
    "\n"
   ]
  },
  {
   "cell_type": "code",
   "execution_count": 0,
   "metadata": {
    "colab": {},
    "colab_type": "code",
    "id": "3OMxLTeFQXA7"
   },
   "outputs": [],
   "source": [
    "\n",
    "#X = imputer.transform(housing_num)#numpyarray\n",
    "\n",
    "#housing_tr = pd.DataFrame(X, columns=housing_num.columns)"
   ]
  },
  {
   "cell_type": "code",
   "execution_count": 17,
   "metadata": {
    "colab": {
     "base_uri": "https://localhost:8080/",
     "height": 140
    },
    "colab_type": "code",
    "executionInfo": {
     "elapsed": 896,
     "status": "ok",
     "timestamp": 1563604949232,
     "user": {
      "displayName": "alex Badea",
      "photoUrl": "https://lh6.googleusercontent.com/-UvgZ9ljOPrw/AAAAAAAAAAI/AAAAAAAAAB0/2LDR9ixadk8/s64/photo.jpg",
      "userId": "00414702060140034735"
     },
     "user_tz": -180
    },
    "id": "6xH7VWj4QW_S",
    "outputId": "b40a6810-20a7-4966-ec18-958cd6ab819d"
   },
   "outputs": [
    {
     "data": {
      "text/plain": [
       "array([[1, 0, 0, 0, 0],\n",
       "       [1, 0, 0, 0, 0],\n",
       "       [0, 0, 0, 0, 1],\n",
       "       ...,\n",
       "       [0, 1, 0, 0, 0],\n",
       "       [1, 0, 0, 0, 0],\n",
       "       [0, 0, 0, 1, 0]])"
      ]
     },
     "execution_count": 17,
     "metadata": {
      "tags": []
     },
     "output_type": "execute_result"
    }
   ],
   "source": [
    "housing_cat = housing[\"ocean_proximity\"].copy()\n",
    "encoder = LabelBinarizer()\n",
    "housing_cat_1hot = encoder.fit_transform(housing_cat)\n",
    "housing_cat_1hot\n"
   ]
  },
  {
   "cell_type": "code",
   "execution_count": 18,
   "metadata": {
    "colab": {
     "base_uri": "https://localhost:8080/",
     "height": 246
    },
    "colab_type": "code",
    "executionInfo": {
     "elapsed": 1968,
     "status": "ok",
     "timestamp": 1563605451185,
     "user": {
      "displayName": "alex Badea",
      "photoUrl": "https://lh6.googleusercontent.com/-UvgZ9ljOPrw/AAAAAAAAAAI/AAAAAAAAAB0/2LDR9ixadk8/s64/photo.jpg",
      "userId": "00414702060140034735"
     },
     "user_tz": -180
    },
    "id": "KRRe3PmPQW3x",
    "outputId": "41861fb3-5823-41da-c4d2-0a2029683d4e"
   },
   "outputs": [
    {
     "data": {
      "text/plain": [
       "array([[-121.89  ,   37.29  ,   38.    , ...,  710.    ,  339.    ,\n",
       "           2.7042],\n",
       "       [-121.93  ,   37.05  ,   14.    , ...,  306.    ,  113.    ,\n",
       "           6.4214],\n",
       "       [-117.2   ,   32.77  ,   31.    , ...,  936.    ,  462.    ,\n",
       "           2.8621],\n",
       "       ...,\n",
       "       [-116.4   ,   34.09  ,    9.    , ..., 2098.    ,  765.    ,\n",
       "           3.2723],\n",
       "       [-118.01  ,   33.82  ,   31.    , ..., 1356.    ,  356.    ,\n",
       "           4.0625],\n",
       "       [-122.45  ,   37.77  ,   52.    , ..., 1269.    ,  639.    ,\n",
       "           3.575 ]])"
      ]
     },
     "execution_count": 18,
     "metadata": {
      "tags": []
     },
     "output_type": "execute_result"
    }
   ],
   "source": [
    "housing_num.values\n"
   ]
  },
  {
   "cell_type": "code",
   "execution_count": 47,
   "metadata": {
    "colab": {
     "base_uri": "https://localhost:8080/",
     "height": 70
    },
    "colab_type": "code",
    "executionInfo": {
     "elapsed": 1052,
     "status": "ok",
     "timestamp": 1563606951637,
     "user": {
      "displayName": "alex Badea",
      "photoUrl": "https://lh6.googleusercontent.com/-UvgZ9ljOPrw/AAAAAAAAAAI/AAAAAAAAAB0/2LDR9ixadk8/s64/photo.jpg",
      "userId": "00414702060140034735"
     },
     "user_tz": -180
    },
    "id": "qfcNstZRmg8n",
    "outputId": "9d13883a-a1a4-48fe-ec55-efda1b71e131"
   },
   "outputs": [
    {
     "data": {
      "text/plain": [
       "array([-1.17602483,  0.6596948 , -1.1653172 , -0.90896655, -1.0369278 ,\n",
       "       -0.99833135, -1.02222705,  1.33645936,  1.        ,  0.        ,\n",
       "        0.        ,  0.        ,  0.        ])"
      ]
     },
     "execution_count": 47,
     "metadata": {
      "tags": []
     },
     "output_type": "execute_result"
    }
   ],
   "source": [
    "class DataFrameSelector(BaseEstimator, TransformerMixin):\n",
    "  def __init__(self, attribute_names):\n",
    "    self.attribute_names = attribute_names\n",
    "  def fit(self, X, y=None):\n",
    "    return self\n",
    "  def transform(self, X):\n",
    "    return X[self.attribute_names].values\n",
    "  \n",
    "  \n",
    "class CombinedAttributesAdder(BaseEstimator, TransformerMixin):\n",
    "  def __init__(self, add_bedrooms_per_room = True): # no *args or **kargs\n",
    "    self.add_bedrooms_per_room = add_bedrooms_per_room\n",
    "  def fit(self, X, y=None):\n",
    "    return self # nothing else to do\n",
    "  def transform(self, X, y=None):\n",
    "    rooms_per_household = X[:, rooms_ix] / X[:, household_ix]\n",
    "    population_per_household = X[:, population_ix] / X[:, household_ix]\n",
    "    rooms_per_population = X[:, rooms_ix] / X[:, population_ix]\n",
    "    if self.add_bedrooms_per_room:\n",
    "      bedrooms_per_room = X[:, bedrooms_ix] / X[:, rooms_ix]\n",
    "      return np.c_[X, rooms_per_household, population_per_household,\n",
    "      bedrooms_per_room]\n",
    "    else:\n",
    "      return np.c_[X, rooms_per_household, population_per_household]\n",
    "class MyLabelBinarizer(TransformerMixin):\n",
    "    def __init__(self, *args, **kwargs):\n",
    "        self.encoder = LabelBinarizer(*args, **kwargs)\n",
    "    def fit(self, X, y=0):\n",
    "        self.encoder.fit(X)\n",
    "        return self\n",
    "    def transform(self, X, y=0):\n",
    "        return self.encoder.transform(X)\n",
    "\n",
    "\n",
    "num_attribs = list(housing_num)\n",
    "cat_attribs = [\"ocean_proximity\"]\n",
    "num_pipeline = Pipeline([\n",
    "  ('selector', DataFrameSelector(num_attribs)),\n",
    "  ('imputer', SimpleImputer(strategy=\"median\")),\n",
    "  ('std_scaler', StandardScaler()),\n",
    "  ])\n",
    "cat_pipeline = Pipeline([\n",
    "  ('selector', DataFrameSelector(cat_attribs)),\n",
    "  ('label_binarizer', MyLabelBinarizer()),\n",
    "  ])\n",
    "full_pipeline = FeatureUnion(transformer_list=[\n",
    "  (\"num_pipeline\", num_pipeline),\n",
    "  (\"cat_pipeline\", cat_pipeline),\n",
    "])\n",
    "\n",
    "housing_prepared = full_pipeline.fit_transform(housing)\n",
    "housing_prepared[1]"
   ]
  },
  {
   "cell_type": "code",
   "execution_count": 48,
   "metadata": {
    "colab": {
     "base_uri": "https://localhost:8080/",
     "height": 35
    },
    "colab_type": "code",
    "executionInfo": {
     "elapsed": 876,
     "status": "ok",
     "timestamp": 1563606960211,
     "user": {
      "displayName": "alex Badea",
      "photoUrl": "https://lh6.googleusercontent.com/-UvgZ9ljOPrw/AAAAAAAAAAI/AAAAAAAAAB0/2LDR9ixadk8/s64/photo.jpg",
      "userId": "00414702060140034735"
     },
     "user_tz": -180
    },
    "id": "Ygl3PnebBlUM",
    "outputId": "ffb71e76-1b82-44a6-a60e-b2a09ca85ebf"
   },
   "outputs": [
    {
     "data": {
      "text/plain": [
       "LinearRegression(copy_X=True, fit_intercept=True, n_jobs=None, normalize=False)"
      ]
     },
     "execution_count": 48,
     "metadata": {
      "tags": []
     },
     "output_type": "execute_result"
    }
   ],
   "source": [
    "lin_reg = LinearRegression()\n",
    "lin_reg.fit(housing_prepared,housing_labels)"
   ]
  },
  {
   "cell_type": "code",
   "execution_count": 171,
   "metadata": {
    "colab": {
     "base_uri": "https://localhost:8080/",
     "height": 36
    },
    "colab_type": "code",
    "executionInfo": {
     "elapsed": 569,
     "status": "ok",
     "timestamp": 1563549951061,
     "user": {
      "displayName": "alex Badea",
      "photoUrl": "https://lh6.googleusercontent.com/-UvgZ9ljOPrw/AAAAAAAAAAI/AAAAAAAAAB0/2LDR9ixadk8/s64/photo.jpg",
      "userId": "00414702060140034735"
     },
     "user_tz": -180
    },
    "id": "0gDfPfGTBmW0",
    "outputId": "9b742f39-06a8-4ef5-cf4f-aa2ec0fff271"
   },
   "outputs": [
    {
     "data": {
      "text/plain": [
       "69050.98178244587"
      ]
     },
     "execution_count": 171,
     "metadata": {
      "tags": []
     },
     "output_type": "execute_result"
    }
   ],
   "source": [
    "housing_predictions = lin_reg.predict(housing_prepared)\n",
    "lin_mse = mean_squared_error(housing_labels, housing_predictions)\n",
    "lin_rmse = np.sqrt(lin_mse)\n",
    "lin_rmse"
   ]
  },
  {
   "cell_type": "code",
   "execution_count": 0,
   "metadata": {
    "colab": {},
    "colab_type": "code",
    "id": "R6_QmkkZBmQB"
   },
   "outputs": [],
   "source": [
    "scores = cross_val_score(lin_reg, housing_prepared, housing_labels, \n",
    "                         scoring='neg_mean_squared_error', cv= 10)\n",
    "rmse_scores = np.sqrt(-scores)"
   ]
  },
  {
   "cell_type": "code",
   "execution_count": 173,
   "metadata": {
    "colab": {
     "base_uri": "https://localhost:8080/",
     "height": 106
    },
    "colab_type": "code",
    "executionInfo": {
     "elapsed": 1228,
     "status": "ok",
     "timestamp": 1563549954664,
     "user": {
      "displayName": "alex Badea",
      "photoUrl": "https://lh6.googleusercontent.com/-UvgZ9ljOPrw/AAAAAAAAAAI/AAAAAAAAAB0/2LDR9ixadk8/s64/photo.jpg",
      "userId": "00414702060140034735"
     },
     "user_tz": -180
    },
    "id": "cOg_2BWbBmHR",
    "outputId": "a0cca5fc-9be9-4a24-9031-e4522e90cd83"
   },
   "outputs": [
    {
     "name": "stdout",
     "output_type": "stream",
     "text": [
      "Score: [67450.42057782 67329.50264436 68361.84864912 74639.88837894\n",
      " 68314.56738182 71628.61410355 65361.14176205 68571.62738037\n",
      " 72476.18028894 68098.06828865]\n",
      "Mean: 69223.18594556303\n",
      "Standard deviation: 2657.268311277696\n"
     ]
    }
   ],
   "source": [
    "def display_scores(scores):\n",
    "    print(\"Score:\", scores)\n",
    "    print(\"Mean:\", scores.mean())\n",
    "    print(\"Standard deviation:\", scores.std())\n",
    "    \n",
    "display_scores(rmse_scores)"
   ]
  },
  {
   "cell_type": "code",
   "execution_count": 174,
   "metadata": {
    "colab": {
     "base_uri": "https://localhost:8080/",
     "height": 108
    },
    "colab_type": "code",
    "executionInfo": {
     "elapsed": 12912,
     "status": "ok",
     "timestamp": 1563549968042,
     "user": {
      "displayName": "alex Badea",
      "photoUrl": "https://lh6.googleusercontent.com/-UvgZ9ljOPrw/AAAAAAAAAAI/AAAAAAAAAB0/2LDR9ixadk8/s64/photo.jpg",
      "userId": "00414702060140034735"
     },
     "user_tz": -180
    },
    "id": "8F29djmjBlOB",
    "outputId": "15b60cfc-ae92-4e50-ae93-66cdd2e5341d"
   },
   "outputs": [
    {
     "name": "stderr",
     "output_type": "stream",
     "text": [
      "/usr/local/lib/python3.6/dist-packages/sklearn/ensemble/forest.py:245: FutureWarning: The default value of n_estimators will change from 10 in version 0.20 to 100 in 0.22.\n",
      "  \"10 in version 0.20 to 100 in 0.22.\", FutureWarning)\n"
     ]
    }
   ],
   "source": [
    "forest_reg = RandomForestRegressor()\n",
    "forest_reg.fit(housing_prepared, housing_labels)\n",
    "\n",
    "scores = cross_val_score(forest_reg, housing_prepared, housing_labels,\n",
    "                        scoring = 'neg_mean_squared_error', cv=10)\n",
    "forest_rmse = np.sqrt(-scores)\n"
   ]
  },
  {
   "cell_type": "code",
   "execution_count": 175,
   "metadata": {
    "colab": {
     "base_uri": "https://localhost:8080/",
     "height": 106
    },
    "colab_type": "code",
    "executionInfo": {
     "elapsed": 5063,
     "status": "ok",
     "timestamp": 1563549968044,
     "user": {
      "displayName": "alex Badea",
      "photoUrl": "https://lh6.googleusercontent.com/-UvgZ9ljOPrw/AAAAAAAAAAI/AAAAAAAAAB0/2LDR9ixadk8/s64/photo.jpg",
      "userId": "00414702060140034735"
     },
     "user_tz": -180
    },
    "id": "UM-WXbRzBlFo",
    "outputId": "62d4fad7-2958-439d-eb59-4b04ee5be9f5"
   },
   "outputs": [
    {
     "name": "stdout",
     "output_type": "stream",
     "text": [
      "Score: [51076.44016868 49510.4807201  51728.4112535  51658.86250416\n",
      " 51319.07292263 55436.48558586 52015.92285441 52270.94656242\n",
      " 53965.1582806  51562.08563126]\n",
      "Mean: 52054.386648361935\n",
      "Standard deviation: 1536.6067055615426\n"
     ]
    }
   ],
   "source": [
    "\n",
    "display_scores(forest_rmse)"
   ]
  },
  {
   "cell_type": "code",
   "execution_count": 176,
   "metadata": {
    "colab": {
     "base_uri": "https://localhost:8080/",
     "height": 36
    },
    "colab_type": "code",
    "executionInfo": {
     "elapsed": 1010,
     "status": "ok",
     "timestamp": 1563549968044,
     "user": {
      "displayName": "alex Badea",
      "photoUrl": "https://lh6.googleusercontent.com/-UvgZ9ljOPrw/AAAAAAAAAAI/AAAAAAAAAB0/2LDR9ixadk8/s64/photo.jpg",
      "userId": "00414702060140034735"
     },
     "user_tz": -180
    },
    "id": "D328EvUxpVDH",
    "outputId": "e0d70968-0212-48ae-d32b-d8087ddf5e25"
   },
   "outputs": [
    {
     "data": {
      "text/plain": [
       "['forest_reg.pkl']"
      ]
     },
     "execution_count": 176,
     "metadata": {
      "tags": []
     },
     "output_type": "execute_result"
    }
   ],
   "source": [
    "joblib.dump(forest_reg, \"forest_reg.pkl\")"
   ]
  },
  {
   "cell_type": "code",
   "execution_count": 0,
   "metadata": {
    "colab": {},
    "colab_type": "code",
    "id": "VBOG4CQDtqyT"
   },
   "outputs": [],
   "source": [
    "#Fine-Tuning\n",
    "param_grid= [\n",
    "             {'n_estimators':[35, 40, 30], 'max_features': [2, 4, 6, 8]},\n",
    "              {'bootstrap':[False], 'n_estimators':[3, 10], 'max_features': [2, 3, 4]},\n",
    "            ]"
   ]
  },
  {
   "cell_type": "code",
   "execution_count": 153,
   "metadata": {
    "colab": {
     "base_uri": "https://localhost:8080/",
     "height": 369
    },
    "colab_type": "code",
    "executionInfo": {
     "elapsed": 97267,
     "status": "ok",
     "timestamp": 1563548342849,
     "user": {
      "displayName": "alex Badea",
      "photoUrl": "https://lh6.googleusercontent.com/-UvgZ9ljOPrw/AAAAAAAAAAI/AAAAAAAAAB0/2LDR9ixadk8/s64/photo.jpg",
      "userId": "00414702060140034735"
     },
     "user_tz": -180
    },
    "id": "bD06-zXCtrHR",
    "outputId": "323b13fc-30de-43c9-e779-449b21551987"
   },
   "outputs": [
    {
     "data": {
      "text/plain": [
       "GridSearchCV(cv=5, error_score='raise-deprecating',\n",
       "             estimator=RandomForestRegressor(bootstrap=True, criterion='mse',\n",
       "                                             max_depth=None,\n",
       "                                             max_features='auto',\n",
       "                                             max_leaf_nodes=None,\n",
       "                                             min_impurity_decrease=0.0,\n",
       "                                             min_impurity_split=None,\n",
       "                                             min_samples_leaf=1,\n",
       "                                             min_samples_split=2,\n",
       "                                             min_weight_fraction_leaf=0.0,\n",
       "                                             n_estimators=10, n_jobs=None,\n",
       "                                             oob_score=False, random_state=None,\n",
       "                                             verbose=0, warm_start=False),\n",
       "             iid='warn', n_jobs=None,\n",
       "             param_grid=[{'max_features': [2, 4, 6, 8],\n",
       "                          'n_estimators': [35, 40, 30]},\n",
       "                         {'bootstrap': [False], 'max_features': [2, 3, 4],\n",
       "                          'n_estimators': [3, 10]}],\n",
       "             pre_dispatch='2*n_jobs', refit=True, return_train_score=False,\n",
       "             scoring='neg_mean_squared_error', verbose=0)"
      ]
     },
     "execution_count": 153,
     "metadata": {
      "tags": []
     },
     "output_type": "execute_result"
    }
   ],
   "source": [
    "grid_search= GridSearchCV(forest_reg, param_grid, cv=5, scoring='neg_mean_squared_error')\n",
    "grid_search.fit(housing_prepared, housing_labels)"
   ]
  },
  {
   "cell_type": "code",
   "execution_count": 178,
   "metadata": {
    "colab": {
     "base_uri": "https://localhost:8080/",
     "height": 36
    },
    "colab_type": "code",
    "executionInfo": {
     "elapsed": 832,
     "status": "ok",
     "timestamp": 1563549972862,
     "user": {
      "displayName": "alex Badea",
      "photoUrl": "https://lh6.googleusercontent.com/-UvgZ9ljOPrw/AAAAAAAAAAI/AAAAAAAAAB0/2LDR9ixadk8/s64/photo.jpg",
      "userId": "00414702060140034735"
     },
     "user_tz": -180
    },
    "id": "h_J1B7i4tq_1",
    "outputId": "fbcef0ce-c5a3-46ad-8dd8-7fb5e3922917"
   },
   "outputs": [
    {
     "data": {
      "text/plain": [
       "{'max_features': 8, 'n_estimators': 40}"
      ]
     },
     "execution_count": 178,
     "metadata": {
      "tags": []
     },
     "output_type": "execute_result"
    }
   ],
   "source": [
    "grid_search.best_params_"
   ]
  },
  {
   "cell_type": "code",
   "execution_count": 179,
   "metadata": {
    "colab": {
     "base_uri": "https://localhost:8080/",
     "height": 334
    },
    "colab_type": "code",
    "executionInfo": {
     "elapsed": 665,
     "status": "ok",
     "timestamp": 1563549974813,
     "user": {
      "displayName": "alex Badea",
      "photoUrl": "https://lh6.googleusercontent.com/-UvgZ9ljOPrw/AAAAAAAAAAI/AAAAAAAAAB0/2LDR9ixadk8/s64/photo.jpg",
      "userId": "00414702060140034735"
     },
     "user_tz": -180
    },
    "id": "y7KA_PA5xMbx",
    "outputId": "c7f19e3a-6b6b-47e1-d429-2a749667b483"
   },
   "outputs": [
    {
     "name": "stdout",
     "output_type": "stream",
     "text": [
      "52638.798405343274 {'max_features': 2, 'n_estimators': 35}\n",
      "52854.66279165916 {'max_features': 2, 'n_estimators': 40}\n",
      "52879.226763261926 {'max_features': 2, 'n_estimators': 30}\n",
      "50739.298162153624 {'max_features': 4, 'n_estimators': 35}\n",
      "50855.52755997398 {'max_features': 4, 'n_estimators': 40}\n",
      "50826.59541293336 {'max_features': 4, 'n_estimators': 30}\n",
      "50124.977492733946 {'max_features': 6, 'n_estimators': 35}\n",
      "50269.28217290962 {'max_features': 6, 'n_estimators': 40}\n",
      "50257.60274569777 {'max_features': 6, 'n_estimators': 30}\n",
      "50157.10493521962 {'max_features': 8, 'n_estimators': 35}\n",
      "49887.09791686007 {'max_features': 8, 'n_estimators': 40}\n",
      "50353.90347743926 {'max_features': 8, 'n_estimators': 30}\n",
      "61562.606461459996 {'bootstrap': False, 'max_features': 2, 'n_estimators': 3}\n",
      "54200.651204154274 {'bootstrap': False, 'max_features': 2, 'n_estimators': 10}\n",
      "60899.739994046315 {'bootstrap': False, 'max_features': 3, 'n_estimators': 3}\n",
      "53417.52837880825 {'bootstrap': False, 'max_features': 3, 'n_estimators': 10}\n",
      "58678.32178250522 {'bootstrap': False, 'max_features': 4, 'n_estimators': 3}\n",
      "52370.302476503006 {'bootstrap': False, 'max_features': 4, 'n_estimators': 10}\n"
     ]
    }
   ],
   "source": [
    "cvres = grid_search.cv_results_\n",
    "for mean_score, params in zip(cvres['mean_test_score'], cvres['params']):\n",
    "    print(np.sqrt(-mean_score), params)"
   ]
  },
  {
   "cell_type": "code",
   "execution_count": 180,
   "metadata": {
    "colab": {
     "base_uri": "https://localhost:8080/",
     "height": 88
    },
    "colab_type": "code",
    "executionInfo": {
     "elapsed": 893,
     "status": "ok",
     "timestamp": 1563549977706,
     "user": {
      "displayName": "alex Badea",
      "photoUrl": "https://lh6.googleusercontent.com/-UvgZ9ljOPrw/AAAAAAAAAAI/AAAAAAAAAB0/2LDR9ixadk8/s64/photo.jpg",
      "userId": "00414702060140034735"
     },
     "user_tz": -180
    },
    "id": "lMaEYkCcxMTY",
    "outputId": "7e35d7ee-6218-47b3-caf7-293cd9d4bb0e"
   },
   "outputs": [
    {
     "data": {
      "text/plain": [
       "array([1.12394538e-01, 1.00656555e-01, 5.01602893e-02, 2.92909669e-02,\n",
       "       2.55540173e-02, 3.60252148e-02, 2.49889466e-02, 4.48202711e-01,\n",
       "       1.11852608e-02, 1.53685377e-01, 4.03286299e-05, 2.13545655e-03,\n",
       "       5.68033760e-03])"
      ]
     },
     "execution_count": 180,
     "metadata": {
      "tags": []
     },
     "output_type": "execute_result"
    }
   ],
   "source": [
    "#Analyze the Best Models and Their Errors\n",
    "feature_importances = grid_search.best_estimator_.feature_importances_\n",
    "feature_importances\n"
   ]
  },
  {
   "cell_type": "code",
   "execution_count": 195,
   "metadata": {
    "colab": {
     "base_uri": "https://localhost:8080/",
     "height": 246
    },
    "colab_type": "code",
    "executionInfo": {
     "elapsed": 931,
     "status": "ok",
     "timestamp": 1563550664889,
     "user": {
      "displayName": "alex Badea",
      "photoUrl": "https://lh6.googleusercontent.com/-UvgZ9ljOPrw/AAAAAAAAAAI/AAAAAAAAAB0/2LDR9ixadk8/s64/photo.jpg",
      "userId": "00414702060140034735"
     },
     "user_tz": -180
    },
    "id": "H5l79npTxMLm",
    "outputId": "c611a734-3bcd-447f-c440-427b50e55890"
   },
   "outputs": [
    {
     "data": {
      "text/plain": [
       "[(4.0328629948348636e-05, 'pop_per_household'),\n",
       " (0.0021354565502516173, 'bedrooms_per_room'),\n",
       " (0.005680337596561827, '<1H OCEAN'),\n",
       " (0.011185260813495437, 'rooms_per_pop'),\n",
       " (0.024988946612309677, 'households'),\n",
       " (0.025554017332914847, 'total_bedrooms'),\n",
       " (0.02929096685156872, 'total_rooms'),\n",
       " (0.03602521475134728, 'population'),\n",
       " (0.050160289307794405, 'housing_median_age'),\n",
       " (0.100656555426471, 'latitude'),\n",
       " (0.1123945382045964, 'longitude'),\n",
       " (0.15368537664576123, 'rooms_per_household'),\n",
       " (0.44820271127697925, 'median_income')]"
      ]
     },
     "execution_count": 195,
     "metadata": {
      "tags": []
     },
     "output_type": "execute_result"
    }
   ],
   "source": [
    "extra_attribs = [\"rooms_per_pop\",\"rooms_per_household\", \"pop_per_household\", \"bedrooms_per_room\" ]\n",
    "cat_one_hot_attribs = list(encoder.classes_)\n",
    "attribs = num_attribs + extra_attribs + cat_one_hot_attribs\n",
    "sorted(zip(feature_importances, attribs))\n"
   ]
  },
  {
   "cell_type": "code",
   "execution_count": 49,
   "metadata": {
    "colab": {
     "base_uri": "https://localhost:8080/",
     "height": 137
    },
    "colab_type": "code",
    "executionInfo": {
     "elapsed": 24477,
     "status": "ok",
     "timestamp": 1563606995870,
     "user": {
      "displayName": "alex Badea",
      "photoUrl": "https://lh6.googleusercontent.com/-UvgZ9ljOPrw/AAAAAAAAAAI/AAAAAAAAAB0/2LDR9ixadk8/s64/photo.jpg",
      "userId": "00414702060140034735"
     },
     "user_tz": -180
    },
    "id": "iBIMon7lMufo",
    "outputId": "724999de-f2fd-4397-d658-039a7fa01314"
   },
   "outputs": [
    {
     "name": "stderr",
     "output_type": "stream",
     "text": [
      "/usr/local/lib/python3.6/dist-packages/sklearn/svm/base.py:193: FutureWarning: The default value of gamma will change from 'auto' to 'scale' in version 0.22 to account better for unscaled features. Set gamma explicitly to 'auto' or 'scale' to avoid this warning.\n",
      "  \"avoid this warning.\", FutureWarning)\n"
     ]
    },
    {
     "data": {
      "text/plain": [
       "SVR(C=1.0, cache_size=200, coef0=0.0, degree=3, epsilon=0.1,\n",
       "    gamma='auto_deprecated', kernel='rbf', max_iter=-1, shrinking=True,\n",
       "    tol=0.001, verbose=False)"
      ]
     },
     "execution_count": 49,
     "metadata": {
      "tags": []
     },
     "output_type": "execute_result"
    }
   ],
   "source": [
    "supportVectorMachine = SVR()\n",
    "supportVectorMachine.fit(housing_prepared, housing_labels)\n"
   ]
  },
  {
   "cell_type": "code",
   "execution_count": 69,
   "metadata": {
    "colab": {
     "base_uri": "https://localhost:8080/",
     "height": 175
    },
    "colab_type": "code",
    "executionInfo": {
     "elapsed": 165045,
     "status": "ok",
     "timestamp": 1563611165276,
     "user": {
      "displayName": "alex Badea",
      "photoUrl": "https://lh6.googleusercontent.com/-UvgZ9ljOPrw/AAAAAAAAAAI/AAAAAAAAAB0/2LDR9ixadk8/s64/photo.jpg",
      "userId": "00414702060140034735"
     },
     "user_tz": -180
    },
    "id": "M65w6ru_MvJz",
    "outputId": "5d1c0f26-3528-412c-faa0-bec461062312"
   },
   "outputs": [
    {
     "data": {
      "text/plain": [
       "GridSearchCV(cv=5, error_score='raise-deprecating',\n",
       "             estimator=SVR(C=1.0, cache_size=200, coef0=0.0, degree=3,\n",
       "                           epsilon=0.1, gamma='auto_deprecated', kernel='rbf',\n",
       "                           max_iter=-1, shrinking=True, tol=0.001,\n",
       "                           verbose=False),\n",
       "             iid='warn', n_jobs=None,\n",
       "             param_grid=[{'C': [150.0, 190.0, 110.0], 'kernel': ['linear']}],\n",
       "             pre_dispatch='2*n_jobs', refit=True, return_train_score=False,\n",
       "             scoring='neg_mean_squared_error', verbose=0)"
      ]
     },
     "execution_count": 69,
     "metadata": {
      "tags": []
     },
     "output_type": "execute_result"
    }
   ],
   "source": [
    "param_grid = [{'C':[150.0,190.0,110.0], 'kernel':['linear']}]\n",
    "grid_search = GridSearchCV(supportVectorMachine, param_grid, cv= 5,\n",
    "                          scoring = 'neg_mean_squared_error')\n",
    "grid_search.fit(housing_prepared,housing_labels)"
   ]
  },
  {
   "cell_type": "code",
   "execution_count": 70,
   "metadata": {
    "colab": {
     "base_uri": "https://localhost:8080/",
     "height": 35
    },
    "colab_type": "code",
    "executionInfo": {
     "elapsed": 1592,
     "status": "ok",
     "timestamp": 1563611307849,
     "user": {
      "displayName": "alex Badea",
      "photoUrl": "https://lh6.googleusercontent.com/-UvgZ9ljOPrw/AAAAAAAAAAI/AAAAAAAAAB0/2LDR9ixadk8/s64/photo.jpg",
      "userId": "00414702060140034735"
     },
     "user_tz": -180
    },
    "id": "EPlbmQUiMvA1",
    "outputId": "50305b35-8719-4233-d8c2-5fdaf3628ac9"
   },
   "outputs": [
    {
     "data": {
      "text/plain": [
       "{'C': 190.0, 'kernel': 'linear'}"
      ]
     },
     "execution_count": 70,
     "metadata": {
      "tags": []
     },
     "output_type": "execute_result"
    }
   ],
   "source": [
    "grid_search.best_params_"
   ]
  },
  {
   "cell_type": "code",
   "execution_count": 0,
   "metadata": {
    "colab": {},
    "colab_type": "code",
    "id": "2aoY7EBVMu2f"
   },
   "outputs": [],
   "source": []
  },
  {
   "cell_type": "code",
   "execution_count": 71,
   "metadata": {
    "colab": {
     "base_uri": "https://localhost:8080/",
     "height": 35
    },
    "colab_type": "code",
    "executionInfo": {
     "elapsed": 1965,
     "status": "ok",
     "timestamp": 1563611313974,
     "user": {
      "displayName": "alex Badea",
      "photoUrl": "https://lh6.googleusercontent.com/-UvgZ9ljOPrw/AAAAAAAAAAI/AAAAAAAAAB0/2LDR9ixadk8/s64/photo.jpg",
      "userId": "00414702060140034735"
     },
     "user_tz": -180
    },
    "id": "cPKFLn2dxMDr",
    "outputId": "db34abd8-d6a4-4c3a-b771-cd20dc943feb"
   },
   "outputs": [
    {
     "name": "stdout",
     "output_type": "stream",
     "text": [
      "69321.6290050771\n"
     ]
    }
   ],
   "source": [
    "#Evaluate on Test Set\n",
    "final_model = grid_search.best_estimator_\n",
    "\n",
    "X_test = strat_test_set.drop(\"median_house_value\", axis = 1)\n",
    "y_test = strat_test_set[\"median_house_value\"].copy()\n",
    "\n",
    "X_test_prepared = full_pipeline.transform(X_test)\n",
    "\n",
    "final_predictions = final_model.predict(X_test_prepared)\n",
    "final_mse = mean_squared_error(y_test, final_predictions)\n",
    "final_rmse = np.sqrt(final_mse)\n",
    "print(final_rmse)"
   ]
  },
  {
   "cell_type": "code",
   "execution_count": 0,
   "metadata": {
    "colab": {},
    "colab_type": "code",
    "id": "8HQDXwyBxL6A"
   },
   "outputs": [],
   "source": []
  }
 ],
 "metadata": {
  "colab": {
   "collapsed_sections": [],
   "name": "Chapter2",
   "provenance": [
    {
     "file_id": "1yGsFQjJQTkL-mKs2HHNlw1WD3-CibGJD",
     "timestamp": 1563346237084
    }
   ],
   "version": "0.3.2"
  },
  "kernelspec": {
   "display_name": "Python 3",
   "language": "python",
   "name": "python3"
  },
  "language_info": {
   "codemirror_mode": {
    "name": "ipython",
    "version": 3
   },
   "file_extension": ".py",
   "mimetype": "text/x-python",
   "name": "python",
   "nbconvert_exporter": "python",
   "pygments_lexer": "ipython3",
   "version": "3.7.3"
  }
 },
 "nbformat": 4,
 "nbformat_minor": 1
}
